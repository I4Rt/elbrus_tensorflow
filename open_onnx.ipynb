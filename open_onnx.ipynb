{
 "cells": [
  {
   "cell_type": "code",
   "execution_count": 2,
   "id": "960bce51-61be-47b8-befd-b0f4560e7a41",
   "metadata": {},
   "outputs": [
    {
     "name": "stdout",
     "output_type": "stream",
     "text": [
      "graph tf2onnx (\n",
      "  %conv2d_input[FLOAT, unk__14x28x28x1]\n",
      ") initializers (\n",
      "  %sequential/dense_1/MatMul/ReadVariableOp:0[FLOAT, 100x10]\n",
      "  %sequential/dense_1/BiasAdd/ReadVariableOp:0[FLOAT, 10]\n",
      "  %sequential/dense/MatMul/ReadVariableOp:0[FLOAT, 676x100]\n",
      "  %sequential/dense/BiasAdd/ReadVariableOp:0[FLOAT, 100]\n",
      "  %sequential/conv2d/Conv2D/ReadVariableOp:0[FLOAT, 1x1x3x3]\n",
      "  %sequential/conv2d/BiasAdd/ReadVariableOp:0[FLOAT, 1]\n",
      "  %new_shape__12[INT64, 4]\n",
      "  %const_fold_opt__13[INT64, 2]\n",
      ") {\n",
      "  %sequential/conv2d/BiasAdd__6:0 = Reshape(%conv2d_input, %new_shape__12)\n",
      "  %sequential/conv2d/BiasAdd:0 = Conv[dilations = [1, 1], group = 1, kernel_shape = [3, 3], strides = [1, 1]](%sequential/conv2d/BiasAdd__6:0, %sequential/conv2d/Conv2D/ReadVariableOp:0, %sequential/conv2d/BiasAdd/ReadVariableOp:0)\n",
      "  %sequential/flatten/Reshape:0 = Reshape(%sequential/conv2d/BiasAdd:0, %const_fold_opt__13)\n",
      "  %sequential/dense/MatMul:0 = MatMul(%sequential/flatten/Reshape:0, %sequential/dense/MatMul/ReadVariableOp:0)\n",
      "  %sequential/dense/BiasAdd:0 = Add(%sequential/dense/MatMul:0, %sequential/dense/BiasAdd/ReadVariableOp:0)\n",
      "  %sequential/dense/Relu:0 = Relu(%sequential/dense/BiasAdd:0)\n",
      "  %sequential/dense_1/MatMul:0 = MatMul(%sequential/dense/Relu:0, %sequential/dense_1/MatMul/ReadVariableOp:0)\n",
      "  %sequential/dense_1/BiasAdd:0 = Add(%sequential/dense_1/MatMul:0, %sequential/dense_1/BiasAdd/ReadVariableOp:0)\n",
      "  %dense_1 = Softmax(%sequential/dense_1/BiasAdd:0)\n",
      "  return %dense_1\n",
      "}\n"
     ]
    }
   ],
   "source": [
    "import onnx\n",
    "\n",
    "# Загрузка модели из файла ONNX\n",
    "model = onnx.load(\"saved_models\\model1.onnx\")\n",
    "\n",
    "# Вывод информации о модели\n",
    "print(onnx.helper.printable_graph(model.graph))"
   ]
  }
 ],
 "metadata": {
  "kernelspec": {
   "display_name": "Python 3 (ipykernel)",
   "language": "python",
   "name": "python3"
  },
  "language_info": {
   "codemirror_mode": {
    "name": "ipython",
    "version": 3
   },
   "file_extension": ".py",
   "mimetype": "text/x-python",
   "name": "python",
   "nbconvert_exporter": "python",
   "pygments_lexer": "ipython3",
   "version": "3.11.5"
  }
 },
 "nbformat": 4,
 "nbformat_minor": 5
}
