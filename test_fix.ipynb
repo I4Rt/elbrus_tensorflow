{
 "cells": [
  {
   "cell_type": "code",
   "execution_count": 1,
   "id": "aae4d6b2-0b47-436d-83c2-36202efd04b6",
   "metadata": {},
   "outputs": [],
   "source": [
    "import numpy as np\n",
    "from model.Sequential import *\n",
    "from model.layers.Conv2D import *\n",
    "from model.layers.Conv2D import Conv2D\n",
    "from model.layers.Flatten import *\n",
    "from model.tools.OneHotEncoderTools import OneHotEncoderTools\n",
    "from model.actiators.functional import *\n",
    "import random"
   ]
  },
  {
   "cell_type": "code",
   "execution_count": 2,
   "id": "10d56b47-466b-4052-bb95-981b94686cf6",
   "metadata": {},
   "outputs": [
    {
     "name": "stdout",
     "output_type": "stream",
     "text": [
      "reed\n"
     ]
    }
   ],
   "source": [
    "#dont touch\n",
    "data_max = np.genfromtxt(\"datasets/train_mnist.csv\", delimiter=\",\")\n",
    "print('reed')"
   ]
  },
  {
   "cell_type": "code",
   "execution_count": 3,
   "id": "0dc01ca1-1bea-477d-8d1f-9bd06f6a0cab",
   "metadata": {},
   "outputs": [],
   "source": [
    "# data = data_max[:10]\n",
    "data = data_max  # full train"
   ]
  },
  {
   "cell_type": "code",
   "execution_count": 5,
   "id": "9c0feab5-9034-4b30-bd6e-c6aa825025a3",
   "metadata": {},
   "outputs": [
    {
     "name": "stdout",
     "output_type": "stream",
     "text": [
      "32970785\n",
      "32970785\n"
     ]
    }
   ],
   "source": [
    "print(data.size)\n",
    "print(data_max.size)\n"
   ]
  },
  {
   "cell_type": "code",
   "execution_count": 4,
   "id": "7aa9e5f5-4c3c-43ad-ac09-37175f7b0a66",
   "metadata": {},
   "outputs": [],
   "source": [
    "#dont touch\n",
    "\n",
    "matrix_dataset = []\n",
    "for row in data[1:]:  # data[0] = nan...\n",
    "    matrix = np.array(row[1:]).reshape((28,28))/255\n",
    "    encode_data = OneHotEncoderTools.to_full(int(row[0]), 10)\n",
    "    matrix_dataset.append((matrix, encode_data))\n",
    "\n",
    "\n",
    "random.shuffle(matrix_dataset)\n",
    "cut_dataset = matrix_dataset[:3000]"
   ]
  },
  {
   "cell_type": "code",
   "execution_count": 5,
   "id": "35badb5b-ebe0-40b7-a068-318ef10de8ae",
   "metadata": {
    "scrolled": true
   },
   "outputs": [
    {
     "data": {
      "text/plain": [
       "(array([[0.        , 0.        , 0.        , 0.        , 0.        ,\n",
       "         0.        , 0.        , 0.        , 0.        , 0.        ,\n",
       "         0.        , 0.        , 0.        , 0.        , 0.        ,\n",
       "         0.        , 0.        , 0.        , 0.        , 0.        ,\n",
       "         0.        , 0.        , 0.        , 0.        , 0.        ,\n",
       "         0.        , 0.        , 0.        ],\n",
       "        [0.        , 0.        , 0.        , 0.        , 0.        ,\n",
       "         0.        , 0.        , 0.        , 0.        , 0.        ,\n",
       "         0.        , 0.        , 0.        , 0.        , 0.        ,\n",
       "         0.        , 0.        , 0.        , 0.        , 0.        ,\n",
       "         0.        , 0.        , 0.        , 0.        , 0.        ,\n",
       "         0.        , 0.        , 0.        ],\n",
       "        [0.        , 0.        , 0.        , 0.        , 0.        ,\n",
       "         0.        , 0.        , 0.        , 0.        , 0.        ,\n",
       "         0.        , 0.        , 0.        , 0.        , 0.        ,\n",
       "         0.        , 0.        , 0.        , 0.        , 0.        ,\n",
       "         0.        , 0.        , 0.        , 0.        , 0.        ,\n",
       "         0.        , 0.        , 0.        ],\n",
       "        [0.        , 0.        , 0.        , 0.        , 0.        ,\n",
       "         0.        , 0.        , 0.        , 0.        , 0.        ,\n",
       "         0.        , 0.        , 0.        , 0.        , 0.        ,\n",
       "         0.        , 0.        , 0.        , 0.        , 0.        ,\n",
       "         0.        , 0.        , 0.        , 0.        , 0.        ,\n",
       "         0.        , 0.        , 0.        ],\n",
       "        [0.        , 0.        , 0.        , 0.        , 0.        ,\n",
       "         0.        , 0.        , 0.        , 0.        , 0.        ,\n",
       "         0.        , 0.        , 0.        , 0.        , 0.        ,\n",
       "         0.        , 0.        , 0.0627451 , 0.99215686, 0.99215686,\n",
       "         0.29019608, 0.        , 0.        , 0.        , 0.        ,\n",
       "         0.        , 0.        , 0.        ],\n",
       "        [0.        , 0.        , 0.        , 0.        , 0.        ,\n",
       "         0.        , 0.        , 0.        , 0.        , 0.        ,\n",
       "         0.        , 0.        , 0.        , 0.        , 0.        ,\n",
       "         0.        , 0.        , 0.05882353, 0.98823529, 0.98823529,\n",
       "         0.42745098, 0.        , 0.        , 0.        , 0.        ,\n",
       "         0.        , 0.        , 0.        ],\n",
       "        [0.        , 0.        , 0.        , 0.        , 0.        ,\n",
       "         0.        , 0.        , 0.        , 0.        , 0.        ,\n",
       "         0.        , 0.        , 0.        , 0.        , 0.        ,\n",
       "         0.        , 0.        , 0.09411765, 0.98823529, 0.98823529,\n",
       "         0.83529412, 0.        , 0.        , 0.        , 0.        ,\n",
       "         0.        , 0.        , 0.        ],\n",
       "        [0.        , 0.        , 0.        , 0.        , 0.        ,\n",
       "         0.        , 0.        , 0.        , 0.        , 0.        ,\n",
       "         0.        , 0.        , 0.        , 0.        , 0.        ,\n",
       "         0.        , 0.38823529, 0.80392157, 0.98823529, 0.98823529,\n",
       "         0.29019608, 0.        , 0.        , 0.        , 0.        ,\n",
       "         0.        , 0.        , 0.        ],\n",
       "        [0.        , 0.        , 0.        , 0.        , 0.        ,\n",
       "         0.        , 0.        , 0.        , 0.        , 0.        ,\n",
       "         0.        , 0.        , 0.        , 0.        , 0.        ,\n",
       "         0.        , 0.81568627, 0.98823529, 0.98823529, 0.7254902 ,\n",
       "         0.03529412, 0.        , 0.        , 0.        , 0.        ,\n",
       "         0.        , 0.        , 0.        ],\n",
       "        [0.        , 0.        , 0.        , 0.        , 0.        ,\n",
       "         0.        , 0.        , 0.        , 0.        , 0.        ,\n",
       "         0.        , 0.        , 0.        , 0.        , 0.        ,\n",
       "         0.05098039, 0.83529412, 0.98823529, 0.98823529, 0.28235294,\n",
       "         0.        , 0.        , 0.        , 0.        , 0.        ,\n",
       "         0.        , 0.        , 0.        ],\n",
       "        [0.        , 0.        , 0.        , 0.        , 0.        ,\n",
       "         0.        , 0.        , 0.        , 0.        , 0.        ,\n",
       "         0.        , 0.        , 0.        , 0.        , 0.        ,\n",
       "         0.71764706, 0.98823529, 0.98823529, 0.7372549 , 0.05490196,\n",
       "         0.        , 0.        , 0.        , 0.        , 0.        ,\n",
       "         0.        , 0.        , 0.        ],\n",
       "        [0.        , 0.        , 0.        , 0.        , 0.        ,\n",
       "         0.        , 0.        , 0.        , 0.        , 0.        ,\n",
       "         0.        , 0.        , 0.        , 0.        , 0.20784314,\n",
       "         0.64705882, 0.98823529, 0.92941176, 0.03137255, 0.        ,\n",
       "         0.        , 0.        , 0.        , 0.        , 0.        ,\n",
       "         0.        , 0.        , 0.        ],\n",
       "        [0.        , 0.        , 0.        , 0.        , 0.        ,\n",
       "         0.        , 0.        , 0.        , 0.        , 0.        ,\n",
       "         0.        , 0.        , 0.        , 0.23921569, 0.89411765,\n",
       "         0.99215686, 0.98823529, 0.82352941, 0.        , 0.        ,\n",
       "         0.        , 0.        , 0.        , 0.        , 0.        ,\n",
       "         0.        , 0.        , 0.        ],\n",
       "        [0.        , 0.        , 0.        , 0.        , 0.        ,\n",
       "         0.        , 0.        , 0.        , 0.        , 0.        ,\n",
       "         0.        , 0.        , 0.20784314, 0.89411765, 0.98823529,\n",
       "         0.99215686, 0.84705882, 0.14117647, 0.        , 0.        ,\n",
       "         0.        , 0.        , 0.        , 0.        , 0.        ,\n",
       "         0.        , 0.        , 0.        ],\n",
       "        [0.        , 0.        , 0.        , 0.        , 0.        ,\n",
       "         0.        , 0.        , 0.        , 0.        , 0.        ,\n",
       "         0.        , 0.        , 0.35686275, 0.99215686, 0.99215686,\n",
       "         1.        , 0.17254902, 0.        , 0.        , 0.        ,\n",
       "         0.        , 0.        , 0.        , 0.        , 0.        ,\n",
       "         0.        , 0.        , 0.        ],\n",
       "        [0.        , 0.        , 0.        , 0.        , 0.        ,\n",
       "         0.        , 0.        , 0.        , 0.        , 0.        ,\n",
       "         0.        , 0.1254902 , 0.84705882, 0.98823529, 0.98823529,\n",
       "         0.89411765, 0.13333333, 0.        , 0.        , 0.        ,\n",
       "         0.        , 0.        , 0.        , 0.        , 0.        ,\n",
       "         0.        , 0.        , 0.        ],\n",
       "        [0.        , 0.        , 0.        , 0.        , 0.        ,\n",
       "         0.        , 0.        , 0.        , 0.        , 0.        ,\n",
       "         0.07843137, 0.82352941, 0.98823529, 0.98823529, 0.95294118,\n",
       "         0.20784314, 0.        , 0.        , 0.        , 0.        ,\n",
       "         0.        , 0.        , 0.        , 0.        , 0.        ,\n",
       "         0.        , 0.        , 0.        ],\n",
       "        [0.        , 0.        , 0.        , 0.        , 0.        ,\n",
       "         0.        , 0.        , 0.        , 0.        , 0.        ,\n",
       "         0.11764706, 0.98823529, 0.98823529, 0.98823529, 0.40392157,\n",
       "         0.        , 0.        , 0.        , 0.        , 0.        ,\n",
       "         0.        , 0.        , 0.        , 0.        , 0.        ,\n",
       "         0.        , 0.        , 0.        ],\n",
       "        [0.        , 0.        , 0.        , 0.        , 0.        ,\n",
       "         0.        , 0.        , 0.        , 0.        , 0.2627451 ,\n",
       "         0.71764706, 0.98823529, 0.98823529, 0.93333333, 0.28627451,\n",
       "         0.        , 0.        , 0.        , 0.        , 0.        ,\n",
       "         0.        , 0.        , 0.        , 0.        , 0.        ,\n",
       "         0.        , 0.        , 0.        ],\n",
       "        [0.        , 0.        , 0.        , 0.        , 0.        ,\n",
       "         0.        , 0.        , 0.        , 0.05882353, 0.89019608,\n",
       "         0.98823529, 0.98823529, 0.98823529, 0.74117647, 0.        ,\n",
       "         0.        , 0.        , 0.        , 0.        , 0.        ,\n",
       "         0.        , 0.        , 0.        , 0.        , 0.        ,\n",
       "         0.        , 0.        , 0.        ],\n",
       "        [0.        , 0.        , 0.        , 0.        , 0.        ,\n",
       "         0.        , 0.        , 0.        , 0.47058824, 0.98823529,\n",
       "         0.98823529, 0.98823529, 0.8       , 0.10980392, 0.        ,\n",
       "         0.        , 0.        , 0.        , 0.        , 0.        ,\n",
       "         0.        , 0.        , 0.        , 0.        , 0.        ,\n",
       "         0.        , 0.        , 0.        ],\n",
       "        [0.        , 0.        , 0.        , 0.        , 0.        ,\n",
       "         0.        , 0.        , 0.        , 0.47058824, 0.98823529,\n",
       "         0.98823529, 0.98823529, 0.63529412, 0.        , 0.        ,\n",
       "         0.        , 0.        , 0.        , 0.        , 0.        ,\n",
       "         0.        , 0.        , 0.        , 0.        , 0.        ,\n",
       "         0.        , 0.        , 0.        ],\n",
       "        [0.        , 0.        , 0.        , 0.        , 0.        ,\n",
       "         0.        , 0.        , 0.        , 0.10980392, 0.90196078,\n",
       "         0.96470588, 0.81176471, 0.52156863, 0.        , 0.        ,\n",
       "         0.        , 0.        , 0.        , 0.        , 0.        ,\n",
       "         0.        , 0.        , 0.        , 0.        , 0.        ,\n",
       "         0.        , 0.        , 0.        ],\n",
       "        [0.        , 0.        , 0.        , 0.        , 0.        ,\n",
       "         0.        , 0.        , 0.        , 0.        , 0.8745098 ,\n",
       "         0.87058824, 0.        , 0.        , 0.        , 0.        ,\n",
       "         0.        , 0.        , 0.        , 0.        , 0.        ,\n",
       "         0.        , 0.        , 0.        , 0.        , 0.        ,\n",
       "         0.        , 0.        , 0.        ],\n",
       "        [0.        , 0.        , 0.        , 0.        , 0.        ,\n",
       "         0.        , 0.        , 0.        , 0.        , 0.        ,\n",
       "         0.        , 0.        , 0.        , 0.        , 0.        ,\n",
       "         0.        , 0.        , 0.        , 0.        , 0.        ,\n",
       "         0.        , 0.        , 0.        , 0.        , 0.        ,\n",
       "         0.        , 0.        , 0.        ],\n",
       "        [0.        , 0.        , 0.        , 0.        , 0.        ,\n",
       "         0.        , 0.        , 0.        , 0.        , 0.        ,\n",
       "         0.        , 0.        , 0.        , 0.        , 0.        ,\n",
       "         0.        , 0.        , 0.        , 0.        , 0.        ,\n",
       "         0.        , 0.        , 0.        , 0.        , 0.        ,\n",
       "         0.        , 0.        , 0.        ],\n",
       "        [0.        , 0.        , 0.        , 0.        , 0.        ,\n",
       "         0.        , 0.        , 0.        , 0.        , 0.        ,\n",
       "         0.        , 0.        , 0.        , 0.        , 0.        ,\n",
       "         0.        , 0.        , 0.        , 0.        , 0.        ,\n",
       "         0.        , 0.        , 0.        , 0.        , 0.        ,\n",
       "         0.        , 0.        , 0.        ],\n",
       "        [0.        , 0.        , 0.        , 0.        , 0.        ,\n",
       "         0.        , 0.        , 0.        , 0.        , 0.        ,\n",
       "         0.        , 0.        , 0.        , 0.        , 0.        ,\n",
       "         0.        , 0.        , 0.        , 0.        , 0.        ,\n",
       "         0.        , 0.        , 0.        , 0.        , 0.        ,\n",
       "         0.        , 0.        , 0.        ]]),\n",
       " array([1., 0., 0., 0., 0., 0., 0., 0., 0., 0.]))"
      ]
     },
     "execution_count": 5,
     "metadata": {},
     "output_type": "execute_result"
    }
   ],
   "source": [
    "cut_dataset[0]"
   ]
  },
  {
   "cell_type": "code",
   "execution_count": 6,
   "id": "ce23c02a-03dc-4b90-b4c9-9e21332ce16e",
   "metadata": {},
   "outputs": [
    {
     "name": "stdout",
     "output_type": "stream",
     "text": [
      "<class 'tuple'> <class 'numpy.ndarray'>\n",
      "(1, 28, 28)\n"
     ]
    }
   ],
   "source": [
    "print(type(cut_dataset[0]), type(cut_dataset[0][0]))\n",
    "reshape_cut = np.reshape(cut_dataset[0][0], ((1,) + cut_dataset[0][0].shape))\n",
    "# print(reshape_cut.shape, reshape_cut)\n",
    "train_reshape = []\n",
    "train_reshape.append((reshape_cut, cut_dataset[0][1]))\n",
    "print(train_reshape[0][0].shape)"
   ]
  },
  {
   "cell_type": "code",
   "execution_count": 7,
   "id": "575722aa-4ee5-4b60-bbb6-990a87d08511",
   "metadata": {},
   "outputs": [
    {
     "name": "stdout",
     "output_type": "stream",
     "text": [
      "crossentropy\n"
     ]
    }
   ],
   "source": [
    "#dont touch\n",
    "\n",
    "train_ = cut_dataset.copy()\n",
    "model = Sequential('adam', [Conv2D((3,3), linear, input_shape=(28,28)), Flatten(), Dense(100, relu), Dense(20, softZeroToOne), Dense(10, softmax)], ALPHA=0.0005)"
   ]
  },
  {
   "cell_type": "code",
   "execution_count": 28,
   "id": "f401f4fb-3761-42c8-9eb7-3d7f9ccabbb6",
   "metadata": {},
   "outputs": [
    {
     "name": "stdout",
     "output_type": "stream",
     "text": [
      "error in saving, maybe incorrect classname:  'Flattenn'\n"
     ]
    },
    {
     "data": {
      "text/plain": [
       "True"
      ]
     },
     "execution_count": 28,
     "metadata": {},
     "output_type": "execute_result"
    }
   ],
   "source": [
    "str_layer = 'Flattenn'\n",
    "try:\n",
    "    globals()[str_layer]\n",
    "    dense = eval(str_layer)\n",
    "except Exception as e:\n",
    "    print('error in saving, maybe incorrect classname: ', e)\n",
    "dense\n",
    "str_layer == 'Flattenn'"
   ]
  },
  {
   "cell_type": "code",
   "execution_count": 11,
   "id": "3d999894-529a-436f-8edf-bfcf98754b0c",
   "metadata": {
    "jupyter": {
     "source_hidden": true
    }
   },
   "outputs": [],
   "source": [
    "b_x = np.array([[0.        , 0.        , 0.        , 0.        , 0.        ,\n",
    "        0.        , 0.        , 0.        , 0.        , 0.        ,\n",
    "        0.        , 0.        , 0.        , 0.        , 0.        ,\n",
    "        0.        , 0.        , 0.        , 0.        , 0.        ,\n",
    "        0.        , 0.        , 0.        , 0.        , 0.        ,\n",
    "        0.        , 0.        , 0.        ],\n",
    "       [0.        , 0.        , 0.        , 0.        , 0.        ,\n",
    "        0.        , 0.        , 0.        , 0.        , 0.        ,\n",
    "        0.        , 0.        , 0.        , 0.        , 0.        ,\n",
    "        0.        , 0.        , 0.        , 0.        , 0.        ,\n",
    "        0.        , 0.        , 0.        , 0.        , 0.        ,\n",
    "        0.        , 0.        , 0.        ],\n",
    "       [0.        , 0.        , 0.        , 0.        , 0.        ,\n",
    "        0.        , 0.        , 0.        , 0.        , 0.        ,\n",
    "        0.        , 0.        , 0.        , 0.        , 0.        ,\n",
    "        0.        , 0.        , 0.        , 0.        , 0.        ,\n",
    "        0.        , 0.        , 0.        , 0.        , 0.        ,\n",
    "        0.        , 0.        , 0.        ],\n",
    "       [0.        , 0.        , 0.        , 0.        , 0.        ,\n",
    "        0.        , 0.        , 0.        , 0.        , 0.        ,\n",
    "        0.        , 0.        , 0.        , 0.        , 0.        ,\n",
    "        0.        , 0.        , 0.        , 0.        , 0.        ,\n",
    "        0.        , 0.        , 0.        , 0.        , 0.        ,\n",
    "        0.        , 0.        , 0.        ],\n",
    "       [0.        , 0.        , 0.        , 0.        , 0.        ,\n",
    "        0.        , 0.        , 0.        , 0.        , 0.00392157,\n",
    "        0.09803922, 0.50980392, 0.60784314, 0.99607843, 0.99607843,\n",
    "        0.99607843, 0.61568627, 0.11764706, 0.00784314, 0.        ,\n",
    "        0.        , 0.        , 0.        , 0.        , 0.        ,\n",
    "        0.        , 0.        , 0.        ],\n",
    "       [0.        , 0.        , 0.        , 0.        , 0.        ,\n",
    "        0.        , 0.        , 0.        , 0.03137255, 0.40392157,\n",
    "        0.99215686, 0.99215686, 0.99215686, 0.99215686, 0.99215686,\n",
    "        0.99215686, 0.99215686, 0.99215686, 0.44705882, 0.00784314,\n",
    "        0.        , 0.        , 0.        , 0.        , 0.        ,\n",
    "        0.        , 0.        , 0.        ],\n",
    "       [0.        , 0.        , 0.        , 0.        , 0.        ,\n",
    "        0.        , 0.        , 0.04313725, 0.81568627, 0.99215686,\n",
    "        0.99215686, 0.99215686, 0.99215686, 0.99215686, 0.99215686,\n",
    "        0.99215686, 0.99215686, 0.99215686, 0.99215686, 0.41960784,\n",
    "        0.        , 0.        , 0.        , 0.        , 0.        ,\n",
    "        0.        , 0.        , 0.        ],\n",
    "       [0.        , 0.        , 0.        , 0.        , 0.        ,\n",
    "        0.        , 0.        , 0.12156863, 0.99215686, 0.99215686,\n",
    "        0.99215686, 0.99215686, 0.99215686, 0.99215686, 0.99215686,\n",
    "        0.99215686, 0.99215686, 0.99215686, 0.99215686, 0.84313725,\n",
    "        0.39607843, 0.01176471, 0.        , 0.        , 0.        ,\n",
    "        0.        , 0.        , 0.        ],\n",
    "       [0.        , 0.        , 0.        , 0.        , 0.        ,\n",
    "        0.        , 0.09019608, 0.82352941, 0.99215686, 0.99215686,\n",
    "        0.99215686, 0.97254902, 0.63137255, 0.87058824, 0.87058824,\n",
    "        0.96470588, 0.99215686, 0.99215686, 0.99215686, 0.99215686,\n",
    "        0.99215686, 0.15294118, 0.        , 0.        , 0.        ,\n",
    "        0.        , 0.        , 0.        ],\n",
    "       [0.        , 0.        , 0.        , 0.        , 0.        ,\n",
    "        0.        , 0.53333333, 0.99215686, 0.99215686, 0.99215686,\n",
    "        0.89803922, 0.30196078, 0.        , 0.        , 0.        ,\n",
    "        0.2745098 , 0.85490196, 0.99215686, 0.99215686, 0.99215686,\n",
    "        0.99215686, 0.84313725, 0.35686275, 0.        , 0.        ,\n",
    "        0.        , 0.        , 0.        ],\n",
    "       [0.        , 0.        , 0.        , 0.        , 0.        ,\n",
    "        0.01960784, 0.83921569, 0.99215686, 0.99215686, 0.99215686,\n",
    "        0.76470588, 0.        , 0.        , 0.        , 0.        ,\n",
    "        0.        , 0.40784314, 0.87843137, 0.99215686, 0.99215686,\n",
    "        0.99215686, 0.99215686, 0.84313725, 0.11372549, 0.        ,\n",
    "        0.        , 0.        , 0.        ],\n",
    "       [0.        , 0.        , 0.        , 0.        , 0.        ,\n",
    "        0.45490196, 0.99215686, 0.99215686, 0.99215686, 0.96862745,\n",
    "        0.29411765, 0.        , 0.        , 0.        , 0.        ,\n",
    "        0.        , 0.        , 0.10196078, 0.78431373, 0.99215686,\n",
    "        0.99215686, 0.99215686, 0.99215686, 0.84705882, 0.01568627,\n",
    "        0.        , 0.        , 0.        ],\n",
    "       [0.        , 0.        , 0.        , 0.        , 0.        ,\n",
    "        0.99607843, 0.99215686, 0.99215686, 0.99215686, 0.76470588,\n",
    "        0.        , 0.        , 0.        , 0.        , 0.        ,\n",
    "        0.        , 0.        , 0.        , 0.10196078, 0.78431373,\n",
    "        0.99215686, 0.99215686, 0.99215686, 0.99215686, 0.01960784,\n",
    "        0.        , 0.        , 0.        ],\n",
    "       [0.        , 0.        , 0.        , 0.        , 0.        ,\n",
    "        0.99607843, 0.99215686, 0.99215686, 0.99215686, 0.38823529,\n",
    "        0.        , 0.        , 0.        , 0.        , 0.        ,\n",
    "        0.        , 0.        , 0.        , 0.        , 0.09803922,\n",
    "        0.90588235, 0.99215686, 0.99215686, 0.99215686, 0.14117647,\n",
    "        0.        , 0.        , 0.        ],\n",
    "       [0.        , 0.        , 0.        , 0.        , 0.        ,\n",
    "        0.99607843, 0.99215686, 0.99215686, 0.99215686, 0.38823529,\n",
    "        0.        , 0.        , 0.        , 0.        , 0.        ,\n",
    "        0.        , 0.        , 0.        , 0.        , 0.        ,\n",
    "        0.8745098 , 0.99215686, 0.99215686, 0.99215686, 0.50588235,\n",
    "        0.        , 0.        , 0.        ],\n",
    "       [0.        , 0.        , 0.        , 0.        , 0.        ,\n",
    "        0.99607843, 0.99215686, 0.99215686, 0.99215686, 0.38823529,\n",
    "        0.        , 0.        , 0.        , 0.        , 0.        ,\n",
    "        0.        , 0.        , 0.        , 0.        , 0.        ,\n",
    "        0.49803922, 0.99215686, 0.99215686, 0.99215686, 0.50588235,\n",
    "        0.        , 0.        , 0.        ],\n",
    "       [0.        , 0.        , 0.        , 0.        , 0.        ,\n",
    "        0.99607843, 0.99215686, 0.99215686, 0.99215686, 0.38823529,\n",
    "        0.        , 0.        , 0.        , 0.        , 0.        ,\n",
    "        0.        , 0.        , 0.        , 0.        , 0.        ,\n",
    "        0.54509804, 0.99215686, 0.99215686, 0.99215686, 0.35294118,\n",
    "        0.        , 0.        , 0.        ],\n",
    "       [0.        , 0.        , 0.        , 0.        , 0.        ,\n",
    "        0.99607843, 0.99215686, 0.99215686, 0.99215686, 0.38823529,\n",
    "        0.        , 0.        , 0.        , 0.        , 0.        ,\n",
    "        0.        , 0.        , 0.        , 0.        , 0.30588235,\n",
    "        0.97254902, 0.99215686, 0.99215686, 0.99215686, 0.01960784,\n",
    "        0.        , 0.        , 0.        ],\n",
    "       [0.        , 0.        , 0.        , 0.        , 0.        ,\n",
    "        0.99607843, 0.99215686, 0.99215686, 0.99215686, 0.84705882,\n",
    "        0.13333333, 0.        , 0.        , 0.        , 0.        ,\n",
    "        0.        , 0.        , 0.        , 0.12941176, 0.59607843,\n",
    "        0.99215686, 0.99215686, 0.99215686, 0.41960784, 0.00392157,\n",
    "        0.        , 0.        , 0.        ],\n",
    "       [0.        , 0.        , 0.        , 0.        , 0.        ,\n",
    "        0.80784314, 0.99215686, 0.99215686, 0.99215686, 0.99215686,\n",
    "        0.54901961, 0.        , 0.        , 0.        , 0.        ,\n",
    "        0.        , 0.11764706, 0.54509804, 0.91764706, 0.99215686,\n",
    "        0.99215686, 0.99215686, 0.60392157, 0.00784314, 0.        ,\n",
    "        0.        , 0.        , 0.        ],\n",
    "       [0.        , 0.        , 0.        , 0.        , 0.        ,\n",
    "        0.0627451 , 0.80392157, 0.99215686, 0.99215686, 0.99215686,\n",
    "        0.98039216, 0.81568627, 0.41568627, 0.41568627, 0.41568627,\n",
    "        0.78431373, 0.92941176, 0.99215686, 0.99215686, 0.99215686,\n",
    "        0.99215686, 0.81960784, 0.08627451, 0.        , 0.        ,\n",
    "        0.        , 0.        , 0.        ],\n",
    "       [0.        , 0.        , 0.        , 0.        , 0.        ,\n",
    "        0.        , 0.32156863, 0.99215686, 0.99215686, 0.99215686,\n",
    "        0.99215686, 0.99215686, 0.99215686, 0.99215686, 0.99215686,\n",
    "        0.99215686, 0.99215686, 0.99215686, 0.99215686, 0.99215686,\n",
    "        0.81960784, 0.08627451, 0.        , 0.        , 0.        ,\n",
    "        0.        , 0.        , 0.        ],\n",
    "       [0.        , 0.        , 0.        , 0.        , 0.        ,\n",
    "        0.        , 0.00392157, 0.35686275, 0.99215686, 0.99215686,\n",
    "        0.99215686, 0.99215686, 0.99215686, 0.99215686, 0.99215686,\n",
    "        0.99215686, 0.99215686, 0.99215686, 0.83529412, 0.35294118,\n",
    "        0.02745098, 0.        , 0.        , 0.        , 0.        ,\n",
    "        0.        , 0.        , 0.        ],\n",
    "       [0.        , 0.        , 0.        , 0.        , 0.        ,\n",
    "        0.        , 0.        , 0.00392157, 0.07058824, 0.50588235,\n",
    "        0.81568627, 0.99215686, 0.99215686, 0.99215686, 0.99215686,\n",
    "        0.62352941, 0.50588235, 0.35294118, 0.01568627, 0.        ,\n",
    "        0.        , 0.        , 0.        , 0.        , 0.        ,\n",
    "        0.        , 0.        , 0.        ],\n",
    "       [0.        , 0.        , 0.        , 0.        , 0.        ,\n",
    "        0.        , 0.        , 0.        , 0.        , 0.        ,\n",
    "        0.        , 0.        , 0.        , 0.        , 0.        ,\n",
    "        0.        , 0.        , 0.        , 0.        , 0.        ,\n",
    "        0.        , 0.        , 0.        , 0.        , 0.        ,\n",
    "        0.        , 0.        , 0.        ],\n",
    "       [0.        , 0.        , 0.        , 0.        , 0.        ,\n",
    "        0.        , 0.        , 0.        , 0.        , 0.        ,\n",
    "        0.        , 0.        , 0.        , 0.        , 0.        ,\n",
    "        0.        , 0.        , 0.        , 0.        , 0.        ,\n",
    "        0.        , 0.        , 0.        , 0.        , 0.        ,\n",
    "        0.        , 0.        , 0.        ],\n",
    "       [0.        , 0.        , 0.        , 0.        , 0.        ,\n",
    "        0.        , 0.        , 0.        , 0.        , 0.        ,\n",
    "        0.        , 0.        , 0.        , 0.        , 0.        ,\n",
    "        0.        , 0.        , 0.        , 0.        , 0.        ,\n",
    "        0.        , 0.        , 0.        , 0.        , 0.        ,\n",
    "        0.        , 0.        , 0.        ],\n",
    "       [0.        , 0.        , 0.        , 0.        , 0.        ,\n",
    "        0.        , 0.        , 0.        , 0.        , 0.        ,\n",
    "        0.        , 0.        , 0.        , 0.        , 0.        ,\n",
    "        0.        , 0.        , 0.        , 0.        , 0.        ,\n",
    "        0.        , 0.        , 0.        , 0.        , 0.        ,\n",
    "        0.        , 0.        , 0.        ]])\n"
   ]
  },
  {
   "cell_type": "code",
   "execution_count": 12,
   "id": "00f20c89-b486-44de-b0e1-29be7ffdc7b7",
   "metadata": {},
   "outputs": [
    {
     "name": "stdout",
     "output_type": "stream",
     "text": [
      "(28, 28)\n"
     ]
    }
   ],
   "source": [
    "print(b_x.shape)"
   ]
  },
  {
   "cell_type": "code",
   "execution_count": 8,
   "id": "7ebdf52f-5c38-4ecf-a30c-3f3e8f649740",
   "metadata": {},
   "outputs": [
    {
     "name": "stdout",
     "output_type": "stream",
     "text": [
      "Progress: |██████████████████████████████████████████████████| 100.0% Complete | 0.017 sec/era\n"
     ]
    }
   ],
   "source": [
    "#dont touch\n",
    "\n",
    "acc, loss, = model.fit(train_reshape, 10, batch_size=1, need_calculate_accuracy=False)"
   ]
  },
  {
   "cell_type": "code",
   "execution_count": 9,
   "id": "fbd4fed1-cdd3-4b3f-9496-2c152fd808b5",
   "metadata": {},
   "outputs": [
    {
     "name": "stdout",
     "output_type": "stream",
     "text": [
      "[[0.12974967 0.07748745 0.24684637 0.27397926 0.00622334 0.02135642\n",
      "  0.03172352 0.02034895 0.05836087 0.13392415]] [1. 0. 0. 0. 0. 0. 0. 0. 0. 0.]\n",
      "0.1\n"
     ]
    }
   ],
   "source": [
    "print(model.predict(cut_dataset[0][0]), cut_dataset[0][1])\n",
    "print(model.calc_accuracy(cut_dataset))"
   ]
  },
  {
   "cell_type": "code",
   "execution_count": 10,
   "id": "b0bb59e4-3b17-4643-ab22-fac75de367f7",
   "metadata": {},
   "outputs": [
    {
     "name": "stdout",
     "output_type": "stream",
     "text": [
      "<model.Sequential.Sequential object at 0x0000020BFF649350>\n",
      "<h5py.h5f.FileID object at 0x0000020C05B08180> b'/' <h5py.h5p.PropLAID object at 0x0000020BFF086660>\n",
      "<h5py.h5f.FileID object at 0x0000020C05B08180> b'/' <h5py.h5p.PropLAID object at 0x0000020BFF086660>\n"
     ]
    }
   ],
   "source": [
    "model.save('saved_models/0103_conv2d-model.h5')"
   ]
  },
  {
   "cell_type": "code",
   "execution_count": 14,
   "id": "b2c161c0-2361-4a16-90f6-82ca681ecb24",
   "metadata": {},
   "outputs": [],
   "source": [
    "layer_conv2d = Conv2D((3,3), linear, input_shape=(28,28))\n",
    "layer_dense = Dense(100, relu, input_shape=28)"
   ]
  },
  {
   "cell_type": "code",
   "execution_count": 15,
   "id": "41bab070-99b7-4062-a640-1e54d0937323",
   "metadata": {},
   "outputs": [
    {
     "name": "stdout",
     "output_type": "stream",
     "text": [
      "(3, 3)\n",
      "(26, 26) 100\n",
      "(28, 100)\n"
     ]
    }
   ],
   "source": [
    "print(layer_conv2d.b.shape)\n",
    "print(layer_conv2d.get_outs_number(), layer_dense.get_outs_number())\n",
    "print(layer_dense.W.shape)"
   ]
  },
  {
   "cell_type": "code",
   "execution_count": 24,
   "id": "f2494c99-914f-4b2d-9d61-a060df9e814c",
   "metadata": {},
   "outputs": [
    {
     "name": "stdout",
     "output_type": "stream",
     "text": [
      "[[0. 0.]\n",
      " [0. 0.]] <class 'numpy.ndarray'>\n",
      "[[0. 0.]\n",
      " [0. 0.]] <class 'numpy.ndarray'>\n"
     ]
    }
   ],
   "source": [
    "test_bx = np.zeros((2,2))\n",
    "test_xx = np.asarray(test_bx)\n",
    "print(test_bx, type(test_bx))\n",
    "print(test_xx, type(test_xx))"
   ]
  },
  {
   "cell_type": "code",
   "execution_count": 11,
   "id": "73e89e0b-2bea-4590-9180-0899e5a8473b",
   "metadata": {
    "scrolled": true
   },
   "outputs": [
    {
     "name": "stdout",
     "output_type": "stream",
     "text": [
      "<h5py.h5f.FileID object at 0x0000020C05B08BD0> b'/' <h5py.h5p.PropLAID object at 0x0000020BFF086660>\n",
      "[28, 28]\n",
      "crossentropy\n",
      "<h5py.h5f.FileID object at 0x0000020C05B090D0> b'model_weights' <h5py.h5p.PropLAID object at 0x0000020BFF086660>\n",
      "<h5py.h5g.GroupID object at 0x0000020C05B09080> b'dense' <h5py.h5p.PropLAID object at 0x0000020BFF086660>\n",
      "<h5py.h5g.GroupID object at 0x0000020C05B08FE0> b'dense' <h5py.h5p.PropLAID object at 0x0000020BFF086660>\n",
      "<h5py.h5f.FileID object at 0x0000020C05B090D0> b'model_weights' <h5py.h5p.PropLAID object at 0x0000020BFF086660>\n",
      "<h5py.h5g.GroupID object at 0x0000020C05B092B0> b'dense' <h5py.h5p.PropLAID object at 0x0000020BFF086660>\n",
      "<h5py.h5g.GroupID object at 0x0000020C05B09170> b'dense' <h5py.h5p.PropLAID object at 0x0000020BFF086660>\n",
      "<h5py.h5g.GroupID object at 0x0000020C05B09300> b'bias:0' <h5py.h5p.PropLAID object at 0x0000020BFF086660>\n",
      "<h5py.h5f.FileID object at 0x0000020C05B090D0> b'model_weights' <h5py.h5p.PropLAID object at 0x0000020BFF086660>\n",
      "<h5py.h5g.GroupID object at 0x0000020C05B09620> b'dense_1' <h5py.h5p.PropLAID object at 0x0000020BFF086660>\n",
      "<h5py.h5g.GroupID object at 0x0000020C05B09030> b'dense_1' <h5py.h5p.PropLAID object at 0x0000020BFF086660>\n",
      "<h5py.h5f.FileID object at 0x0000020C05B090D0> b'model_weights' <h5py.h5p.PropLAID object at 0x0000020BFF086660>\n",
      "<h5py.h5g.GroupID object at 0x0000020C05B09490> b'dense_2' <h5py.h5p.PropLAID object at 0x0000020BFF086660>\n",
      "<h5py.h5g.GroupID object at 0x0000020C05B092B0> b'dense_2' <h5py.h5p.PropLAID object at 0x0000020BFF086660>\n",
      "<h5py.h5f.FileID object at 0x0000020C05B090D0> b'model_weights' <h5py.h5p.PropLAID object at 0x0000020BFF086660>\n",
      "<h5py.h5g.GroupID object at 0x0000020C05B092B0> b'dense_2' <h5py.h5p.PropLAID object at 0x0000020BFF086660>\n",
      "<h5py.h5g.GroupID object at 0x0000020C05B09030> b'dense_2' <h5py.h5p.PropLAID object at 0x0000020BFF086660>\n",
      "<h5py.h5g.GroupID object at 0x0000020C05B093A0> b'bias:0' <h5py.h5p.PropLAID object at 0x0000020BFF086660>\n",
      "<h5py.h5f.FileID object at 0x0000020C05B090D0> b'model_weights' <h5py.h5p.PropLAID object at 0x0000020BFF086660>\n",
      "<h5py.h5g.GroupID object at 0x0000020C05B09710> b'dense_2' <h5py.h5p.PropLAID object at 0x0000020BFF086660>\n",
      "<h5py.h5g.GroupID object at 0x0000020C05B080E0> b'dense_2' <h5py.h5p.PropLAID object at 0x0000020BFF086660>\n",
      "<h5py.h5g.GroupID object at 0x0000020C05B08FE0> b'kernel:0' <h5py.h5p.PropLAID object at 0x0000020BFF086660>\n",
      "<h5py.h5f.FileID object at 0x0000020C05B090D0> b'model_weights' <h5py.h5p.PropLAID object at 0x0000020BFF086660>\n",
      "<h5py.h5g.GroupID object at 0x0000020C05B09760> b'dense_3' <h5py.h5p.PropLAID object at 0x0000020BFF086660>\n",
      "<h5py.h5g.GroupID object at 0x0000020C05B093A0> b'dense_3' <h5py.h5p.PropLAID object at 0x0000020BFF086660>\n",
      "<h5py.h5f.FileID object at 0x0000020C05B090D0> b'model_weights' <h5py.h5p.PropLAID object at 0x0000020BFF086660>\n",
      "<h5py.h5g.GroupID object at 0x0000020C05B093A0> b'dense_3' <h5py.h5p.PropLAID object at 0x0000020BFF086660>\n",
      "<h5py.h5g.GroupID object at 0x0000020C05B09710> b'dense_3' <h5py.h5p.PropLAID object at 0x0000020BFF086660>\n",
      "<h5py.h5g.GroupID object at 0x0000020C05B09030> b'bias:0' <h5py.h5p.PropLAID object at 0x0000020BFF086660>\n",
      "<h5py.h5f.FileID object at 0x0000020C05B090D0> b'model_weights' <h5py.h5p.PropLAID object at 0x0000020BFF086660>\n",
      "<h5py.h5g.GroupID object at 0x0000020C05B09800> b'dense_3' <h5py.h5p.PropLAID object at 0x0000020BFF086660>\n",
      "<h5py.h5g.GroupID object at 0x0000020C05B09260> b'dense_3' <h5py.h5p.PropLAID object at 0x0000020BFF086660>\n",
      "<h5py.h5g.GroupID object at 0x0000020C05B09300> b'kernel:0' <h5py.h5p.PropLAID object at 0x0000020BFF086660>\n",
      "<h5py.h5f.FileID object at 0x0000020C05B090D0> b'model_weights' <h5py.h5p.PropLAID object at 0x0000020BFF086660>\n",
      "<h5py.h5g.GroupID object at 0x0000020C05B09850> b'dense_4' <h5py.h5p.PropLAID object at 0x0000020BFF086660>\n",
      "<h5py.h5g.GroupID object at 0x0000020C05B09030> b'dense_4' <h5py.h5p.PropLAID object at 0x0000020BFF086660>\n",
      "<h5py.h5f.FileID object at 0x0000020C05B090D0> b'model_weights' <h5py.h5p.PropLAID object at 0x0000020BFF086660>\n",
      "<h5py.h5g.GroupID object at 0x0000020C05B09030> b'dense_4' <h5py.h5p.PropLAID object at 0x0000020BFF086660>\n",
      "<h5py.h5g.GroupID object at 0x0000020C05B09800> b'dense_4' <h5py.h5p.PropLAID object at 0x0000020BFF086660>\n",
      "<h5py.h5g.GroupID object at 0x0000020C05B09710> b'bias:0' <h5py.h5p.PropLAID object at 0x0000020BFF086660>\n",
      "<h5py.h5f.FileID object at 0x0000020C05B090D0> b'model_weights' <h5py.h5p.PropLAID object at 0x0000020BFF086660>\n",
      "<h5py.h5g.GroupID object at 0x0000020C05B098F0> b'dense_4' <h5py.h5p.PropLAID object at 0x0000020BFF086660>\n",
      "<h5py.h5g.GroupID object at 0x0000020C05B08FE0> b'dense_4' <h5py.h5p.PropLAID object at 0x0000020BFF086660>\n",
      "<h5py.h5g.GroupID object at 0x0000020C05B09350> b'kernel:0' <h5py.h5p.PropLAID object at 0x0000020BFF086660>\n",
      "<model.Sequential.Sequential object at 0x0000020C05B28190>\n"
     ]
    }
   ],
   "source": [
    "from model.tools.LoadTools import LoadTools\n",
    "load_model = LoadTools.load_model('saved_models/0103_conv2d-model.h5')"
   ]
  },
  {
   "cell_type": "code",
   "execution_count": 12,
   "id": "5a25f470-4568-4804-b072-0ccb1ec184bc",
   "metadata": {},
   "outputs": [
    {
     "name": "stdout",
     "output_type": "stream",
     "text": [
      "[[0.12974967 0.07748745 0.24684637 0.27397926 0.00622334 0.02135642\n",
      "  0.03172352 0.02034895 0.05836087 0.13392415]] [1. 0. 0. 0. 0. 0. 0. 0. 0. 0.]\n",
      "0.1\n"
     ]
    }
   ],
   "source": [
    "print(load_model.predict(cut_dataset[0][0]), cut_dataset[0][1])\n",
    "print(load_model.calc_accuracy(cut_dataset))"
   ]
  },
  {
   "cell_type": "code",
   "execution_count": null,
   "id": "ae147157-347f-4267-b35a-5f9e6bb8a8c4",
   "metadata": {},
   "outputs": [],
   "source": []
  }
 ],
 "metadata": {
  "kernelspec": {
   "display_name": "Python 3 (ipykernel)",
   "language": "python",
   "name": "python3"
  },
  "language_info": {
   "codemirror_mode": {
    "name": "ipython",
    "version": 3
   },
   "file_extension": ".py",
   "mimetype": "text/x-python",
   "name": "python",
   "nbconvert_exporter": "python",
   "pygments_lexer": "ipython3",
   "version": "3.11.5"
  }
 },
 "nbformat": 4,
 "nbformat_minor": 5
}
