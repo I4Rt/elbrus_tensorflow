{
 "cells": [
  {
   "cell_type": "code",
   "execution_count": 1,
   "id": "1c098a0a-3aba-4875-afc5-0bd3fae1f921",
   "metadata": {},
   "outputs": [
    {
     "name": "stdout",
     "output_type": "stream",
     "text": [
      "WARNING:tensorflow:From C:\\Python311\\Lib\\site-packages\\keras\\src\\losses.py:2976: The name tf.losses.sparse_softmax_cross_entropy is deprecated. Please use tf.compat.v1.losses.sparse_softmax_cross_entropy instead.\n",
      "\n"
     ]
    }
   ],
   "source": [
    "import numpy as np\n",
    "import tensorflow as tf\n",
    "from keras.layers import MaxPooling2D\n",
    "from numpy.lib.stride_tricks import as_strided"
   ]
  },
  {
   "cell_type": "code",
   "execution_count": 3,
   "id": "a14e75a4-defc-4a97-93b6-d6fe596dafb5",
   "metadata": {
    "scrolled": true
   },
   "outputs": [
    {
     "name": "stdout",
     "output_type": "stream",
     "text": [
      "[[0 0 0 0 0 0]\n",
      " [0 1 1 2 4 0]\n",
      " [0 5 6 7 8 0]\n",
      " [0 3 2 1 0 0]\n",
      " [0 1 2 3 4 0]\n",
      " [0 1 2 3 5 0]\n",
      " [0 1 6 3 4 0]\n",
      " [0 0 0 0 0 0]]\n",
      "(4, 3)\n",
      "(24, 4)\n",
      "(4, 3, 2, 2) (48, 8, 24, 4)\n",
      "[[[[0 0]\n",
      "   [0 1]]\n",
      "\n",
      "  [[0 0]\n",
      "   [1 2]]\n",
      "\n",
      "  [[0 0]\n",
      "   [4 0]]]\n",
      "\n",
      "\n",
      " [[[0 5]\n",
      "   [0 3]]\n",
      "\n",
      "  [[6 7]\n",
      "   [2 1]]\n",
      "\n",
      "  [[8 0]\n",
      "   [0 0]]]\n",
      "\n",
      "\n",
      " [[[0 1]\n",
      "   [0 1]]\n",
      "\n",
      "  [[2 3]\n",
      "   [2 3]]\n",
      "\n",
      "  [[4 0]\n",
      "   [5 0]]]\n",
      "\n",
      "\n",
      " [[[0 1]\n",
      "   [0 0]]\n",
      "\n",
      "  [[6 3]\n",
      "   [0 0]]\n",
      "\n",
      "  [[4 0]\n",
      "   [0 0]]]] (4, 3, 2, 2)\n",
      "----------\n",
      " [[1 2 4]\n",
      " [5 7 8]\n",
      " [1 3 5]\n",
      " [1 6 4]]\n"
     ]
    }
   ],
   "source": [
    "A = np.array([[1, 1, 2, 4],\n",
    "              [5, 6, 7, 8],\n",
    "              [3, 2, 1, 0],\n",
    "              [1, 2, 3, 4],\n",
    "              [1, 2, 3, 5],\n",
    "              [1, 6, 3, 4]])\n",
    "padding = 1\n",
    "kernel_size = 2\n",
    "stride = 2\n",
    "A = np.pad(A, padding, mode='constant')\n",
    "print(A)\n",
    "output_shape = ((A.shape[0] - kernel_size) // stride + 1,\n",
    "                    (A.shape[1] - kernel_size) // stride + 1)\n",
    "print(output_shape)\n",
    "shape_w = (output_shape[0], output_shape[1], kernel_size, kernel_size)\n",
    "print(A.strides)\n",
    "strides_w = (stride*A.strides[0], stride*A.strides[1], A.strides[0], A.strides[1])\n",
    "print(shape_w, strides_w)\n",
    "A_w = as_strided(A, shape_w, strides_w)\n",
    "print(A_w, A_w.shape)\n",
    "print('----------\\n', A_w.max(axis=(2, 3)))"
   ]
  },
  {
   "cell_type": "code",
   "execution_count": 15,
   "id": "088141cb-3f8b-42d6-9bd7-06a9d4601a08",
   "metadata": {},
   "outputs": [
    {
     "name": "stdout",
     "output_type": "stream",
     "text": [
      "[[1 1 2]\n",
      " [5 6 7]\n",
      " [3 2 1]] (3, 3) \n",
      "\n",
      "[[6 7]\n",
      " [6 7]] (2, 2)\n"
     ]
    }
   ],
   "source": [
    "#def max_pooling()\n",
    "import numpy as np\n",
    "from numpy.lib.stride_tricks import as_strided\n",
    "\n",
    "\n",
    "def max_pooling_2D(kernel_size, stride, array):\n",
    "    if isinstance(kernel_size, int):\n",
    "        kernel_size = (kernel_size, kernel_size)\n",
    "    if hasattr(kernel_size, '__len__') and not len(kernel_size) == 2:\n",
    "        print(f\"`kernel_size` should have two elements. Received: {kernel_size}.\")\n",
    "        return -1\n",
    "    output_shape = ((array.shape[0] - kernel_size[0]) // stride + 1,\n",
    "                    (array.shape[1] - kernel_size[1]) // stride + 1)\n",
    "    shape = (output_shape[0], output_shape[1], kernel_size[0], kernel_size[1])\n",
    "    strides = (stride*array.strides[0], stride*array.strides[1], array.strides[0], array.strides[1])\n",
    "    strided_array = as_strided(array, shape, strides)\n",
    "    return strided_array.max(axis=(2, 3))\n",
    "\n",
    "A = np.array([[1, 1, 2],\n",
    "              [5, 6, 7],\n",
    "              [3, 2, 1]])\n",
    "print(A, np.shape(A), '\\n')\n",
    "A_pool = max_pooling_2D(2, 1, A)\n",
    "print(A_pool, np.shape(A_pool))"
   ]
  },
  {
   "cell_type": "code",
   "execution_count": 37,
   "id": "c1b66165-6bb5-4aef-9860-f62478f01630",
   "metadata": {},
   "outputs": [],
   "source": [
    "a = np.array([[[[1, 2, 3], [1, 2, 3]], [[1, 2, 3], [1, 2, 3]]]])\n",
    "a = np.array([[[[1,2,3]]]])"
   ]
  },
  {
   "cell_type": "code",
   "execution_count": 39,
   "id": "44c268cb-bbcf-4642-8eca-01864bb1f6d9",
   "metadata": {},
   "outputs": [
    {
     "name": "stdout",
     "output_type": "stream",
     "text": [
      "[[[[1 2 3]]]] \n",
      " tf.Tensor([[[[1 2 3]]]], shape=(1, 1, 1, 3), dtype=int32)\n"
     ]
    }
   ],
   "source": [
    "pool = MaxPooling2D(1)(a)\n",
    "print(a, '\\n', pool)"
   ]
  },
  {
   "cell_type": "code",
   "execution_count": 6,
   "id": "64ac2a0a-1876-4968-b03e-c36f880c412f",
   "metadata": {},
   "outputs": [
    {
     "data": {
      "text/plain": [
       "<tf.Tensor: shape=(1, 0, 0, 3), dtype=int32, numpy=array([], shape=(1, 0, 0, 3), dtype=int32)>"
      ]
     },
     "execution_count": 6,
     "metadata": {},
     "output_type": "execute_result"
    }
   ],
   "source": [
    "pool"
   ]
  },
  {
   "cell_type": "code",
   "execution_count": 4,
   "id": "bd542a9e-88ac-4706-aac8-70324e942e8d",
   "metadata": {},
   "outputs": [
    {
     "name": "stdout",
     "output_type": "stream",
     "text": [
      "tf.Tensor(\n",
      "[[1. 2. 3.]\n",
      " [4. 5. 6.]\n",
      " [7. 8. 9.]], shape=(3, 3), dtype=float32) \n",
      "\n",
      "[[ 1.  2.  3.  4.]\n",
      " [ 5.  6.  7.  8.]\n",
      " [ 9. 10. 11. 12.]] (3, 4)\n",
      "[[[[ 1.]\n",
      "   [ 2.]\n",
      "   [ 3.]\n",
      "   [ 4.]]\n",
      "\n",
      "  [[ 5.]\n",
      "   [ 6.]\n",
      "   [ 7.]\n",
      "   [ 8.]]\n",
      "\n",
      "  [[ 9.]\n",
      "   [10.]\n",
      "   [11.]\n",
      "   [12.]]]] (1, 3, 4, 1) \n",
      "\n",
      "pooling\n",
      "tf.Tensor(\n",
      "[[[[ 6.]\n",
      "   [ 7.]\n",
      "   [ 8.]]\n",
      "\n",
      "  [[10.]\n",
      "   [11.]\n",
      "   [12.]]]], shape=(1, 2, 3, 1), dtype=float32)\n",
      "[[ 6.  7.  8.]\n",
      " [10. 11. 12.]]\n"
     ]
    }
   ],
   "source": [
    "x = tf.constant([[1., 2., 3.],[4., 5., 6.],[7., 8., 9.]])\n",
    "print(x, '\\n')\n",
    "\n",
    "c = np.array([[1., 2., 3., 4.],[5., 6., 7., 8.],[9., 10., 11., 12.]])\n",
    "print(c, np.shape(c))\n",
    "if np.size(np.shape(c)) == 2:\n",
    "    c = np.reshape(c, ((1,) + np.shape(c) + (1,)))\n",
    "print(c, np.shape(c), '\\n')\n",
    "\n",
    "pool = MaxPooling2D(2, strides = 1)(c)\n",
    "print(pool)\n",
    "\n",
    "p_sh = np.shape(pool)\n",
    "print(np.reshape(pool, p_sh[1:3]))\n",
    "0,0\n",
    "0,1\n",
    "1,0\n",
    "1,1\n",
    "\n",
    "0,2\n",
    "0,3\n",
    "1,2\n",
    "1,3\n",
    "\n",
    "\n",
    "array = np.array([[[[1.], [2.], [3.], [4.]],\n",
    "                   [[5.], [6.], [7.], [8.]],\n",
    "                   [[9.], [10.], [11.], [12.]]]])"
   ]
  },
  {
   "cell_type": "code",
   "execution_count": 7,
   "id": "ba2e7c14-beea-4a1e-8f18-2aa4d1f9f02b",
   "metadata": {
    "scrolled": true
   },
   "outputs": [
    {
     "name": "stdout",
     "output_type": "stream",
     "text": [
      "[[[[0 0 0 0]\n",
      "   [0 0 0 0]\n",
      "   [0 0 0 0]\n",
      "   [0 0 0 0]]\n",
      "\n",
      "  [[0 0 0 0]\n",
      "   [0 0 0 0]\n",
      "   [0 0 0 0]\n",
      "   [0 0 0 0]]\n",
      "\n",
      "  [[0 0 0 0]\n",
      "   [0 0 0 0]\n",
      "   [0 0 0 0]\n",
      "   [0 0 0 0]]\n",
      "\n",
      "  [[0 0 0 0]\n",
      "   [0 0 0 0]\n",
      "   [0 0 0 0]\n",
      "   [0 0 0 0]]]\n",
      "\n",
      "\n",
      " [[[0 0 0 0]\n",
      "   [0 0 0 0]\n",
      "   [0 0 0 0]\n",
      "   [0 0 0 0]]\n",
      "\n",
      "  [[0 0 0 0]\n",
      "   [0 1 1 0]\n",
      "   [0 1 1 0]\n",
      "   [0 0 0 0]]\n",
      "\n",
      "  [[0 0 0 0]\n",
      "   [0 2 2 0]\n",
      "   [0 2 2 0]\n",
      "   [0 0 0 0]]\n",
      "\n",
      "  [[0 0 0 0]\n",
      "   [0 0 0 0]\n",
      "   [0 0 0 0]\n",
      "   [0 0 0 0]]]\n",
      "\n",
      "\n",
      " [[[0 0 0 0]\n",
      "   [0 0 0 0]\n",
      "   [0 0 0 0]\n",
      "   [0 0 0 0]]\n",
      "\n",
      "  [[0 0 0 0]\n",
      "   [0 3 3 0]\n",
      "   [0 3 3 0]\n",
      "   [0 0 0 0]]\n",
      "\n",
      "  [[0 0 0 0]\n",
      "   [0 4 4 0]\n",
      "   [0 4 4 0]\n",
      "   [0 0 0 0]]\n",
      "\n",
      "  [[0 0 0 0]\n",
      "   [0 0 0 0]\n",
      "   [0 0 0 0]\n",
      "   [0 0 0 0]]]\n",
      "\n",
      "\n",
      " [[[0 0 0 0]\n",
      "   [0 0 0 0]\n",
      "   [0 0 0 0]\n",
      "   [0 0 0 0]]\n",
      "\n",
      "  [[0 0 0 0]\n",
      "   [0 0 0 0]\n",
      "   [0 0 0 0]\n",
      "   [0 0 0 0]]\n",
      "\n",
      "  [[0 0 0 0]\n",
      "   [0 0 0 0]\n",
      "   [0 0 0 0]\n",
      "   [0 0 0 0]]\n",
      "\n",
      "  [[0 0 0 0]\n",
      "   [0 0 0 0]\n",
      "   [0 0 0 0]\n",
      "   [0 0 0 0]]]]\n"
     ]
    }
   ],
   "source": [
    "a = np.array([ [[[1,1],[1,1]],[[2,2],[2,2]]], [[[3,3],[3,3]],[[4,4],[4,4]]] ])\n",
    "print(np.pad(a, 1, mode='constant'))"
   ]
  },
  {
   "cell_type": "code",
   "execution_count": null,
   "id": "e49633b2-09e4-4460-9cc3-657a9f4bf5c2",
   "metadata": {},
   "outputs": [],
   "source": []
  }
 ],
 "metadata": {
  "kernelspec": {
   "display_name": "Python 3 (ipykernel)",
   "language": "python",
   "name": "python3"
  },
  "language_info": {
   "codemirror_mode": {
    "name": "ipython",
    "version": 3
   },
   "file_extension": ".py",
   "mimetype": "text/x-python",
   "name": "python",
   "nbconvert_exporter": "python",
   "pygments_lexer": "ipython3",
   "version": "3.11.5"
  }
 },
 "nbformat": 4,
 "nbformat_minor": 5
}
