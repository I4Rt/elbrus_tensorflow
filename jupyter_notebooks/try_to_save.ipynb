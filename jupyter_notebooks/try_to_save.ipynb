{
 "cells": [
  {
   "cell_type": "code",
   "execution_count": 10,
   "id": "05115432-3af7-4260-b5fd-e28fd8d726f5",
   "metadata": {},
   "outputs": [
    {
     "name": "stdout",
     "output_type": "stream",
     "text": [
      "714\n",
      "[[0.89827402 0.10172598]] [1. 0.]\n",
      "[[0.0108258 0.9891742]] [0. 1.]\n",
      "[[0.53156915 0.46843085]] [0. 1.]\n",
      "[[0.00832462 0.99167538]] [0. 1.]\n",
      "[[0.91002175 0.08997825]] [1. 0.]\n",
      "[[0.85263655 0.14736345]] [1. 0.]\n",
      "[[0.40658236 0.59341764]] [1. 0.]\n",
      "[[0.57113429 0.42886571]] [0. 1.]\n",
      "[[0.12675271 0.87324729]] [0. 1.]\n",
      "[[0.40316295 0.59683705]] [0. 1.]\n",
      "[[0.00806327 0.99193673]] [0. 1.]\n",
      "[[0.89659626 0.10340374]] [1. 0.]\n",
      "[[0.9246123 0.0753877]] [1. 0.]\n",
      "[[0.46949152 0.53050848]] [1. 0.]\n",
      "[[0.21272799 0.78727201]] [0. 1.]\n",
      "[[0.51724111 0.48275889]] [1. 0.]\n",
      "[[0.66878074 0.33121926]] [1. 0.]\n",
      "[[0.91580331 0.08419669]] [1. 0.]\n",
      "[[0.91027537 0.08972463]] [0. 1.]\n",
      "[[0.47648985 0.52351015]] [0. 1.]\n",
      "[[0.56222254 0.43777746]] [0. 1.]\n",
      "[[0.58180653 0.41819347]] [1. 0.]\n",
      "[[0.76879624 0.23120376]] [0. 1.]\n",
      "[[0.6913925 0.3086075]] [1. 0.]\n",
      "[[0.74061779 0.25938221]] [1. 0.]\n",
      "[[0.92808132 0.07191868]] [1. 0.]\n",
      "[[0.63924207 0.36075793]] [1. 0.]\n",
      "[[0.74792887 0.25207113]] [1. 0.]\n",
      "[[0.89783687 0.10216313]] [1. 0.]\n",
      "[[0.59893872 0.40106128]] [1. 0.]\n",
      "0.8305322128851541\n"
     ]
    },
    {
     "data": {
      "image/png": "[encoded data removed]",
      "text/plain": [
       "<Figure size 640x480 with 1 Axes>"
      ]
     },
     "metadata": {},
     "output_type": "display_data"
    }
   ],
   "source": [
    "import numpy as np\n",
    "from ClassModules import *\n",
    "\n",
    "from pandas import DataFrame\n",
    "\n",
    "data = np.genfromtxt(\"train.csv\", delimiter=\",\")\n",
    "dataset = []\n",
    "\n",
    "raw_pyhton_dataset = []\n",
    "\n",
    "\n",
    "for row in data[1:]:\n",
    "    raw_pyhton_dataset.append([row[2]/3, row[4], row[5] / 50, row[9] / 100, int(row[1])])\n",
    "\n",
    "\n",
    "raw_dataset = DataFrame(raw_pyhton_dataset)\n",
    "res = raw_dataset.dropna(axis=0)\n",
    "res = res.to_numpy()\n",
    "\n",
    "for i in range(714):\n",
    "    row = res[i]\n",
    "    data = [0., 0.]\n",
    "    data[int(row[4])] = 1.0\n",
    "    # data = 0.0\n",
    "    # if int(row[4]):\n",
    "    #     data = 1.0\n",
    "    out = np.array(data)\n",
    "    dataset_row = [np.array([[row[0], row[1], row[2], row[3]]]),  np.array(out)]\n",
    "    \n",
    "    dataset.append( dataset_row )\n",
    "    # print([np.array([row[0], row[1], row[2], row[3]]), np.array([row[3]]) ] )\n",
    "# print(raw_dataset)\n",
    "\n",
    "# for i in res[:10]:\n",
    "#     print(res[i])\n",
    "    \n",
    "print(len(dataset))\n",
    "\n",
    "model = Model([[4], [20, relu], [10, relu], [2, softmax]], 'Adam', type_='crossentropy', ALPHA=0.001)\n",
    "loss_arr, accuracy_arr = model.train(dataset, need_calculate_loss=True, need_calculate_accuracy=True, num_epochs=100)\n",
    "\n",
    "for i in range(30):\n",
    "    print(model.predict(dataset[i][0]), dataset[i][1])\n",
    "\n",
    "print(model.calc_accuracy(dataset))\n",
    "\n",
    "\n",
    "import matplotlib.pyplot as plt\n",
    "plt.plot(loss_arr)\n",
    "plt.plot(accuracy_arr)    \n",
    "plt.show()"
   ]
  },
  {
   "cell_type": "code",
   "execution_count": 11,
   "id": "24f5f3c0-821a-43fb-b4cd-f5e3928eb633",
   "metadata": {},
   "outputs": [
    {
     "data": {
      "text/plain": [
       "[<ClassModules.InputLayer at 0x23464744990>,\n",
       " <ClassModules.NeuronLayer at 0x23464a4c890>,\n",
       " <ClassModules.NeuronLayer at 0x234648fbcd0>,\n",
       " <ClassModules.NeuronLayer at 0x23464a4c910>]"
      ]
     },
     "execution_count": 11,
     "metadata": {},
     "output_type": "execute_result"
    }
   ],
   "source": [
    "model.layers"
   ]
  },
  {
   "cell_type": "code",
   "execution_count": 12,
   "id": "a7736f9b-e0f8-4432-92b1-0227107ecd0f",
   "metadata": {},
   "outputs": [
    {
     "name": "stdout",
     "output_type": "stream",
     "text": [
      "neurons: 4 \n",
      "class: InputLayer\n"
     ]
    }
   ],
   "source": [
    "input_layer = model.layers[0]\n",
    "print('neurons:', input_layer.get_outs_number(), \n",
    "      # '\\ninput:',  input_layer.get_results()[0], \n",
    "      '\\nclass:', input_layer.__class__.__name__)"
   ]
  },
  {
   "cell_type": "code",
   "execution_count": 49,
   "id": "b4b71e55-130a-4fc6-9059-7d0a2103a186",
   "metadata": {},
   "outputs": [],
   "source": [
    "denses_for_save = [\n",
    "    {'name': 'dense',\n",
    "     'weights': [\n",
    "         {'name': 'bias:0',\n",
    "         'numpy': []},\n",
    "         {'name': 'kernel:0',\n",
    "         'numpy': []}\n",
    "     ]},\n",
    "    {'name': 'dense_1',\n",
    "     'weights': [\n",
    "         {'name': 'bias:0',\n",
    "         'numpy': []},\n",
    "         {'name': 'kernel:0',\n",
    "         'numpy': []}\n",
    "     ]},\n",
    "    {'name': 'dense_2',\n",
    "     'weights': [\n",
    "         {'name': 'bias:0',\n",
    "         'numpy': []},\n",
    "         {'name': 'kernel:0',\n",
    "         'numpy': []}\n",
    "     ]}\n",
    "]"
   ]
  },
  {
   "cell_type": "code",
   "execution_count": 51,
   "id": "7c281dba-5ff6-4267-94b0-47951a89e28b",
   "metadata": {
    "scrolled": true
   },
   "outputs": [
    {
     "data": {
      "text/plain": [
       "[{'name': 'dense',\n",
       "  'weights': [{'name': 'bias:0',\n",
       "    'numpy': array([-0.18827174,  0.0788275 , -0.25503483, -0.07173596, -0.36725408,\n",
       "            0.47226704,  0.39014243, -0.17968237, -0.03043311, -0.27825324,\n",
       "           -0.07526133,  0.12073734,  0.40181008,  0.49635932,  0.39864098,\n",
       "            0.41608841, -0.25750591, -0.02668001,  0.24737014,  0.50467552])},\n",
       "   {'name': 'kernel:0',\n",
       "    'numpy': array([[-0.19589519, -0.11063021,  0.2608041 ,  0.34021937,  0.51231923,\n",
       "            -0.1577751 , -0.53011301,  0.12989964,  0.12969777,  0.56107832,\n",
       "            -0.11372918, -0.23745319, -0.1611722 , -0.39124606, -0.04917136,\n",
       "            -0.68390716,  0.53780385, -0.20436437, -0.16054813, -0.55929203],\n",
       "           [-0.11309802, -0.12036695,  0.125228  ,  0.31529342,  0.44139418,\n",
       "            -0.75189838, -0.05563396,  0.01622702,  0.44677522,  0.03522386,\n",
       "             0.07318685, -0.68363133,  0.34895592,  0.05804112, -0.42024976,\n",
       "            -0.17729558,  0.13779369,  0.0848041 ,  0.38211001, -0.12214073],\n",
       "           [-0.25296998, -0.20848513,  0.10699986,  0.44302118,  0.37205051,\n",
       "             0.36317778, -0.08689633,  0.03033961,  0.29907796,  0.33802148,\n",
       "             0.0155989 ,  0.06396462, -1.39139611, -0.05274503, -0.11779723,\n",
       "             0.27871068, -0.0221287 , -0.0152385 , -0.46839966, -0.09227141],\n",
       "           [ 0.08187093, -0.02502717,  0.45026769,  0.51510049, -0.07832259,\n",
       "            -0.4257287 ,  0.36293336, -0.1895208 ,  0.3148415 , -0.44974316,\n",
       "            -0.10258794,  0.24543508, -0.38700314, -0.22313152, -0.94948174,\n",
       "             0.2632576 ,  0.44152705, -0.01889368, -0.21509122,  0.14166092]])}]},\n",
       " {'name': 'dense_1',\n",
       "  'weights': [{'name': 'bias:0',\n",
       "    'numpy': array([-0.07542246,  0.18177656, -0.2920967 , -0.05487158, -0.27354141,\n",
       "            0.40319733, -0.14934385, -0.24184273, -0.24244893,  0.25578708])},\n",
       "   {'name': 'kernel:0',\n",
       "    'numpy': array([[ 0.25341762, -0.12764427,  0.13431757,  0.22680049,  0.01328416,\n",
       "            -0.11945571, -0.01756249, -0.00879706, -0.02609344,  0.006396  ],\n",
       "           [-0.30281167, -0.03839636, -0.3098145 , -0.21399809,  0.0648198 ,\n",
       "            -0.09900077,  0.06936091,  0.24959748,  0.08870929,  0.21310648],\n",
       "           [-0.09567566, -0.00962927, -0.23969677, -0.10607403,  0.12692305,\n",
       "            -0.52097155, -0.02343491,  0.12717093, -0.13763773,  0.22125724],\n",
       "           [-0.24865132,  0.04511207,  0.26468382,  0.4922312 , -0.22687475,\n",
       "            -0.26950403, -0.06325972, -0.15870111, -0.25511288,  0.53143775],\n",
       "           [-0.30696597, -0.63530045, -0.27392246,  0.12947887, -0.13457253,\n",
       "            -0.53756555, -0.19484865,  0.12715145, -0.23394777,  0.40906042],\n",
       "           [ 0.09923863,  0.89568236,  0.17284376, -0.35538883,  0.09237222,\n",
       "             0.67962406, -0.23199903, -0.10138802, -0.11202473, -0.51630048],\n",
       "           [-0.02783126,  0.40057881, -0.19572975, -0.45493785,  0.14651395,\n",
       "             0.6098791 , -0.18818066,  0.25743071,  0.25250307, -0.59758445],\n",
       "           [-0.23494292, -0.18235057, -0.30350258, -0.14937432, -0.10716129,\n",
       "             0.16082616, -0.17431376, -0.01649769, -0.03681549, -0.05927172],\n",
       "           [ 0.03542931, -0.26168766, -0.0739845 ,  0.43923348,  0.00440887,\n",
       "             0.13009381,  0.25199945, -0.2662775 ,  0.29445796,  0.37249874],\n",
       "           [-0.1333268 , -0.99905907,  0.1221844 , -0.37694408, -0.04542243,\n",
       "            -0.43443251, -0.16300421, -0.26957533, -0.04141006, -0.15451291],\n",
       "           [ 0.27965386,  0.2438524 ,  0.21760123,  0.16830255,  0.29123576,\n",
       "            -0.24926327, -0.16257644, -0.13298824, -0.13058553,  0.292473  ],\n",
       "           [-0.08026968,  0.34758   , -0.26065435, -1.05847734,  0.15992493,\n",
       "             0.05451049, -0.0965002 ,  0.1395902 ,  0.28577951, -0.94793658],\n",
       "           [-0.29913453,  2.08628425, -0.14878357, -0.80637484, -0.10458405,\n",
       "             1.69085292,  0.10758748, -0.31059727,  0.21063312, -1.20173426],\n",
       "           [-0.16058614,  0.53174744, -0.05843024,  0.57355166,  0.08625198,\n",
       "             0.49344186, -0.23220266,  0.30564023, -0.07813673,  0.68419268],\n",
       "           [-0.13495897,  0.41937136,  0.26924179, -1.33675578, -0.25667029,\n",
       "             0.8063591 ,  0.01710375, -0.26808212, -0.22183768, -0.97595304],\n",
       "           [ 0.09666681,  0.74659058,  0.18432862, -0.06913845,  0.04065989,\n",
       "             0.62271473, -0.21530187, -0.11648414, -0.2297548 , -0.24533158],\n",
       "           [-0.02407869, -0.68303544, -0.09856032,  0.15621352, -0.0963288 ,\n",
       "            -0.49670463, -0.19785406, -0.20995212, -0.1968143 ,  0.00788783],\n",
       "           [ 0.09102933, -0.0151408 , -0.02529449,  0.29473535,  0.13152626,\n",
       "             0.15547278,  0.28177414, -0.2000223 , -0.14123308,  0.06600585],\n",
       "           [-0.24601573,  0.84325696, -0.16284848,  0.11957086, -0.04434299,\n",
       "             0.07216946,  0.14614622, -0.17636153,  0.14374046,  0.14079689],\n",
       "           [ 0.02727822,  0.33715586, -0.17304192, -0.42543804,  0.03406578,\n",
       "             0.49298717, -0.07296126, -0.04230413,  0.22401268, -0.9958864 ]])}]},\n",
       " {'name': 'dense_2',\n",
       "  'weights': [{'name': 'bias:0', 'numpy': array([0.50356361, 0.2528984 ])},\n",
       "   {'name': 'kernel:0',\n",
       "    'numpy': array([[ 0.24321376, -0.64172833],\n",
       "           [-1.69678187,  0.5090461 ],\n",
       "           [ 0.10096839, -0.63879075],\n",
       "           [ 0.51616526, -0.18936926],\n",
       "           [-0.22467885, -0.21331195],\n",
       "           [-1.52801753,  0.34207846],\n",
       "           [ 0.3400068 ,  0.53467693],\n",
       "           [-0.30733992, -0.62044141],\n",
       "           [ 0.33626071, -0.09458419],\n",
       "           [ 0.88110297, -0.15726936]])}]}]"
      ]
     },
     "execution_count": 51,
     "metadata": {},
     "output_type": "execute_result"
    }
   ],
   "source": [
    "denses_for_save"
   ]
  },
  {
   "cell_type": "code",
   "execution_count": 50,
   "id": "bb41a506-17ff-4f53-a923-f106d12ce2a4",
   "metadata": {
    "scrolled": true
   },
   "outputs": [
    {
     "name": "stdout",
     "output_type": "stream",
     "text": [
      "-------------------\n",
      " prev_layer <ClassModules.InputLayer object at 0x0000023464744990> input: 4 neurons: 20 \n",
      "neurons: [[0.         0.         0.23437292 0.90723067 0.81850166 0.\n",
      "  0.         0.         0.76184999 0.4995276  0.         0.\n",
      "  0.         0.11210487 0.         0.         0.4381476  0.\n",
      "  0.15248666 0.        ]] <class 'numpy.ndarray'> \n",
      "class: NeuronLayer activation: relu\n",
      "\n",
      "\n",
      "bias <class 'numpy.ndarray'> [-0.18827174  0.0788275  -0.25503483 -0.07173596 -0.36725408  0.47226704\n",
      "  0.39014243 -0.17968237 -0.03043311 -0.27825324 -0.07526133  0.12073734\n",
      "  0.40181008  0.49635932  0.39864098  0.41608841 -0.25750591 -0.02668001\n",
      "  0.24737014  0.50467552]\n",
      "kernel: [[-0.19589519 -0.11063021  0.2608041   0.34021937  0.51231923 -0.1577751\n",
      "  -0.53011301  0.12989964  0.12969777  0.56107832 -0.11372918 -0.23745319\n",
      "  -0.1611722  -0.39124606 -0.04917136 -0.68390716  0.53780385 -0.20436437\n",
      "  -0.16054813 -0.55929203]\n",
      " [-0.11309802 -0.12036695  0.125228    0.31529342  0.44139418 -0.75189838\n",
      "  -0.05563396  0.01622702  0.44677522  0.03522386  0.07318685 -0.68363133\n",
      "   0.34895592  0.05804112 -0.42024976 -0.17729558  0.13779369  0.0848041\n",
      "   0.38211001 -0.12214073]\n",
      " [-0.25296998 -0.20848513  0.10699986  0.44302118  0.37205051  0.36317778\n",
      "  -0.08689633  0.03033961  0.29907796  0.33802148  0.0155989   0.06396462\n",
      "  -1.39139611 -0.05274503 -0.11779723  0.27871068 -0.0221287  -0.0152385\n",
      "  -0.46839966 -0.09227141]\n",
      " [ 0.08187093 -0.02502717  0.45026769  0.51510049 -0.07832259 -0.4257287\n",
      "   0.36293336 -0.1895208   0.3148415  -0.44974316 -0.10258794  0.24543508\n",
      "  -0.38700314 -0.22313152 -0.94948174  0.2632576   0.44152705 -0.01889368\n",
      "  -0.21509122  0.14166092]]\n",
      "\n",
      "\n",
      "-------------------\n",
      " prev_layer <ClassModules.NeuronLayer object at 0x0000023464A4C890> input: 20 neurons: 10 \n",
      "neurons: [[0.         0.         0.         0.77012499 0.         0.\n",
      "  0.         0.         0.         1.43282877]] <class 'numpy.ndarray'> \n",
      "class: NeuronLayer activation: relu\n",
      "\n",
      "\n",
      "bias <class 'numpy.ndarray'> [-0.07542246  0.18177656 -0.2920967  -0.05487158 -0.27354141  0.40319733\n",
      " -0.14934385 -0.24184273 -0.24244893  0.25578708]\n",
      "kernel: [[ 0.25341762 -0.12764427  0.13431757  0.22680049  0.01328416 -0.11945571\n",
      "  -0.01756249 -0.00879706 -0.02609344  0.006396  ]\n",
      " [-0.30281167 -0.03839636 -0.3098145  -0.21399809  0.0648198  -0.09900077\n",
      "   0.06936091  0.24959748  0.08870929  0.21310648]\n",
      " [-0.09567566 -0.00962927 -0.23969677 -0.10607403  0.12692305 -0.52097155\n",
      "  -0.02343491  0.12717093 -0.13763773  0.22125724]\n",
      " [-0.24865132  0.04511207  0.26468382  0.4922312  -0.22687475 -0.26950403\n",
      "  -0.06325972 -0.15870111 -0.25511288  0.53143775]\n",
      " [-0.30696597 -0.63530045 -0.27392246  0.12947887 -0.13457253 -0.53756555\n",
      "  -0.19484865  0.12715145 -0.23394777  0.40906042]\n",
      " [ 0.09923863  0.89568236  0.17284376 -0.35538883  0.09237222  0.67962406\n",
      "  -0.23199903 -0.10138802 -0.11202473 -0.51630048]\n",
      " [-0.02783126  0.40057881 -0.19572975 -0.45493785  0.14651395  0.6098791\n",
      "  -0.18818066  0.25743071  0.25250307 -0.59758445]\n",
      " [-0.23494292 -0.18235057 -0.30350258 -0.14937432 -0.10716129  0.16082616\n",
      "  -0.17431376 -0.01649769 -0.03681549 -0.05927172]\n",
      " [ 0.03542931 -0.26168766 -0.0739845   0.43923348  0.00440887  0.13009381\n",
      "   0.25199945 -0.2662775   0.29445796  0.37249874]\n",
      " [-0.1333268  -0.99905907  0.1221844  -0.37694408 -0.04542243 -0.43443251\n",
      "  -0.16300421 -0.26957533 -0.04141006 -0.15451291]\n",
      " [ 0.27965386  0.2438524   0.21760123  0.16830255  0.29123576 -0.24926327\n",
      "  -0.16257644 -0.13298824 -0.13058553  0.292473  ]\n",
      " [-0.08026968  0.34758    -0.26065435 -1.05847734  0.15992493  0.05451049\n",
      "  -0.0965002   0.1395902   0.28577951 -0.94793658]\n",
      " [-0.29913453  2.08628425 -0.14878357 -0.80637484 -0.10458405  1.69085292\n",
      "   0.10758748 -0.31059727  0.21063312 -1.20173426]\n",
      " [-0.16058614  0.53174744 -0.05843024  0.57355166  0.08625198  0.49344186\n",
      "  -0.23220266  0.30564023 -0.07813673  0.68419268]\n",
      " [-0.13495897  0.41937136  0.26924179 -1.33675578 -0.25667029  0.8063591\n",
      "   0.01710375 -0.26808212 -0.22183768 -0.97595304]\n",
      " [ 0.09666681  0.74659058  0.18432862 -0.06913845  0.04065989  0.62271473\n",
      "  -0.21530187 -0.11648414 -0.2297548  -0.24533158]\n",
      " [-0.02407869 -0.68303544 -0.09856032  0.15621352 -0.0963288  -0.49670463\n",
      "  -0.19785406 -0.20995212 -0.1968143   0.00788783]\n",
      " [ 0.09102933 -0.0151408  -0.02529449  0.29473535  0.13152626  0.15547278\n",
      "   0.28177414 -0.2000223  -0.14123308  0.06600585]\n",
      " [-0.24601573  0.84325696 -0.16284848  0.11957086 -0.04434299  0.07216946\n",
      "   0.14614622 -0.17636153  0.14374046  0.14079689]\n",
      " [ 0.02727822  0.33715586 -0.17304192 -0.42543804  0.03406578  0.49298717\n",
      "  -0.07296126 -0.04230413  0.22401268 -0.9958864 ]]\n",
      "\n",
      "\n",
      "-------------------\n",
      " prev_layer <ClassModules.NeuronLayer object at 0x00000234648FBCD0> input: 10 neurons: 2 \n",
      "neurons: [[0.90736054 0.09263946]] <class 'numpy.ndarray'> \n",
      "class: NeuronLayer activation: softmax\n",
      "\n",
      "\n",
      "bias <class 'numpy.ndarray'> [0.50356361 0.2528984 ]\n",
      "kernel: [[ 0.24321376 -0.64172833]\n",
      " [-1.69678187  0.5090461 ]\n",
      " [ 0.10096839 -0.63879075]\n",
      " [ 0.51616526 -0.18936926]\n",
      " [-0.22467885 -0.21331195]\n",
      " [-1.52801753  0.34207846]\n",
      " [ 0.3400068   0.53467693]\n",
      " [-0.30733992 -0.62044141]\n",
      " [ 0.33626071 -0.09458419]\n",
      " [ 0.88110297 -0.15726936]]\n",
      "\n",
      "\n"
     ]
    }
   ],
   "source": [
    "denses = model.layers[1:]\n",
    "for i in range(len(denses)):\n",
    "    dense = denses[i]\n",
    "    print('-------------------\\n',\n",
    "          'prev_layer', dense.prev_layer,\n",
    "          'input:', dense.prev_layer.get_outs_number(),\n",
    "          'neurons:', dense.get_outs_number(), \n",
    "          '\\nneurons:', dense.get_results(), dense.get_results().__class__,\n",
    "          '\\nclass:', dense.__class__.__name__,\n",
    "          'activation:', dense.func.__name__)\n",
    "    print('\\n')\n",
    "    print('bias', dense.b[0].__class__, dense.b[0])\n",
    "    denses_for_save[i]['weights'][0]['numpy'] = dense.b[0]\n",
    "    print('kernel:', dense.W)\n",
    "    denses_for_save[i]['weights'][1]['numpy'] = dense.W\n",
    "    print('\\n')"
   ]
  },
  {
   "cell_type": "code",
   "execution_count": 8,
   "id": "115113df-028e-445b-800f-32012d39064f",
   "metadata": {
    "scrolled": true
   },
   "outputs": [],
   "source": [
    "import json\n",
    "f = open(\"our_model.json\")\n",
    "data = json.load(f)\n",
    "data_d = json.dumps(data)"
   ]
  },
  {
   "cell_type": "code",
   "execution_count": 9,
   "id": "23c750a5-a7fd-4e7b-85de-02787b14454c",
   "metadata": {
    "scrolled": true
   },
   "outputs": [
    {
     "data": {
      "text/plain": [
       "'{\"class_name\": \"Sequential\", \"config\": {\"name\": \"sequential\", \"layers\": [{\"module\": \"keras.layers\", \"class_name\": \"InputLayer\", \"config\": {\"batch_input_shape\": [null, 4], \"dtype\": \"float32\", \"sparse\": false, \"ragged\": false, \"name\": \"dense_input\"}, \"registered_name\": null}, {\"module\": \"keras.layers\", \"class_name\": \"Dense\", \"config\": {\"name\": \"dense\", \"trainable\": true, \"dtype\": \"float32\", \"batch_input_shape\": [null, 4], \"units\": 20, \"activation\": \"relu\", \"use_bias\": true, \"kernel_initializer\": {\"module\": \"keras.initializers\", \"class_name\": \"RandomUniform\", \"config\": {}, \"registered_name\": null}, \"bias_initializer\": {\"module\": \"keras.initializers\", \"class_name\": \"RandomUniform\", \"config\": {}, \"registered_name\": null}, \"kernel_regularizer\": null, \"bias_regularizer\": null, \"activity_regularizer\": null, \"kernel_constraint\": null, \"bias_constraint\": null}, \"registered_name\": null, \"build_config\": {\"input_shape\": [null, 4]}}, {\"module\": \"keras.layers\", \"class_name\": \"Dense\", \"config\": {\"name\": \"dense_1\", \"trainable\": true, \"dtype\": \"float32\", \"units\": 10, \"activation\": \"relu\", \"use_bias\": true, \"kernel_initializer\": {\"module\": \"keras.initializers\", \"class_name\": \"RandomUniform\", \"config\": {}, \"registered_name\": null}, \"bias_initializer\": {\"module\": \"keras.initializers\", \"class_name\": \"RandomUniform\", \"config\": {}, \"registered_name\": null}, \"kernel_regularizer\": null, \"bias_regularizer\": null, \"activity_regularizer\": null, \"kernel_constraint\": null, \"bias_constraint\": null}, \"registered_name\": null, \"build_config\": {\"input_shape\": [null, 20]}}, {\"module\": \"keras.layers\", \"class_name\": \"Dense\", \"config\": {\"name\": \"dense_2\", \"trainable\": true, \"dtype\": \"float32\", \"units\": 2, \"activation\": \"softmax\", \"use_bias\": true, \"kernel_initializer\": {\"module\": \"keras.initializers\", \"class_name\": \"RandomUniform\", \"config\": {}, \"registered_name\": null}, \"bias_initializer\": {\"module\": \"keras.initializers\", \"class_name\": \"RandomUniform\", \"config\": {}, \"registered_name\": null}, \"kernel_regularizer\": null, \"bias_regularizer\": null, \"activity_regularizer\": null, \"kernel_constraint\": null, \"bias_constraint\": null}, \"registered_name\": null, \"build_config\": {\"input_shape\": [null, 10]}}]}, \"keras_version\": \"2.15.0\", \"backend\": \"tensorflow\"}'"
      ]
     },
     "execution_count": 9,
     "metadata": {},
     "output_type": "execute_result"
    }
   ],
   "source": [
    "data_d"
   ]
  },
  {
   "cell_type": "code",
   "execution_count": 47,
   "id": "b1ca3f4d-b643-456f-9497-0662a0f97066",
   "metadata": {},
   "outputs": [],
   "source": [
    "f = open(\"our_model_auto.json\")\n",
    "data = json.load(f)\n",
    "data_d = json.dumps(data)"
   ]
  },
  {
   "cell_type": "code",
   "execution_count": 66,
   "id": "cc21ee84-2839-4931-bfbf-557806c4fb31",
   "metadata": {},
   "outputs": [
    {
     "name": "stdout",
     "output_type": "stream",
     "text": [
      "<h5py.h5f.FileID object at 0x00000234765ECD60> b'/' <h5py.h5p.PropLAID object at 0x000002346FEA2A20>\n",
      "bias:0\n",
      "kernel:0\n",
      "bias:0\n",
      "kernel:0\n",
      "bias:0\n",
      "kernel:0\n"
     ]
    }
   ],
   "source": [
    "import h5py\n",
    "with h5py.File(\"our_manual_auto.h5\", \"w\") as hf:\n",
    "    # Сохраняем архитектуру\n",
    "    d = json.dumps(dicti)\n",
    "    hf.attrs[\"model_architecture\"] = d\n",
    "\n",
    "    # Сохраняем веса\n",
    "    for layer in denses_for_save:\n",
    "        # print(layer)\n",
    "        g = hf.create_group(layer['name'])\n",
    "        for weight in layer['weights']:\n",
    "            weight_value = weight['numpy']\n",
    "            g.create_dataset(weight['name'], data=weight_value)\n",
    "            print(weight['name'])"
   ]
  },
  {
   "cell_type": "code",
   "execution_count": 54,
   "id": "b7dd98bf-70e0-4a1f-9a33-630c021368e0",
   "metadata": {
    "scrolled": true
   },
   "outputs": [
    {
     "name": "stdout",
     "output_type": "stream",
     "text": [
      "<h5py.h5f.FileID object at 0x0000023475040BD0> b'/' <h5py.h5p.PropLAID object at 0x000002346FEA2A20>\n",
      "WARNING:tensorflow:From C:\\Python311\\Lib\\site-packages\\keras\\src\\backend.py:1398: The name tf.executing_eagerly_outside_functions is deprecated. Please use tf.compat.v1.executing_eagerly_outside_functions instead.\n",
      "\n",
      "<keras.src.layers.core.dense.Dense object at 0x000002347501E6D0> \n",
      "\n",
      "wn dense/kernel:0\n",
      "<h5py.h5f.FileID object at 0x0000023475040BD0> b'dense' <h5py.h5p.PropLAID object at 0x000002346FEA2A20>\n",
      "g: bias:0\n",
      "g: kernel:0\n",
      "<h5py.h5f.FileID object at 0x0000023475040BD0> b'dense' <h5py.h5p.PropLAID object at 0x000002346FEA2A20>\n",
      "<h5py.h5g.GroupID object at 0x00000234752416C0> b'kernel:0' <h5py.h5p.PropLAID object at 0x000002346FEA2A20>\n",
      "wn dense/bias:0\n",
      "<h5py.h5f.FileID object at 0x0000023475040BD0> b'dense' <h5py.h5p.PropLAID object at 0x000002346FEA2A20>\n",
      "g: bias:0\n",
      "g: kernel:0\n",
      "<h5py.h5f.FileID object at 0x0000023475040BD0> b'dense' <h5py.h5p.PropLAID object at 0x000002346FEA2A20>\n",
      "<h5py.h5g.GroupID object at 0x0000023475243F10> b'bias:0' <h5py.h5p.PropLAID object at 0x000002346FEA2A20>\n",
      "<keras.src.layers.core.dense.Dense object at 0x0000023472793D10> \n",
      "\n",
      "wn dense_1/kernel:0\n",
      "<h5py.h5f.FileID object at 0x0000023475040BD0> b'dense_1' <h5py.h5p.PropLAID object at 0x000002346FEA2A20>\n",
      "g: bias:0\n",
      "g: kernel:0\n",
      "<h5py.h5f.FileID object at 0x0000023475040BD0> b'dense_1' <h5py.h5p.PropLAID object at 0x000002346FEA2A20>\n",
      "<h5py.h5g.GroupID object at 0x0000023475243F60> b'kernel:0' <h5py.h5p.PropLAID object at 0x000002346FEA2A20>\n",
      "wn dense_1/bias:0\n",
      "<h5py.h5f.FileID object at 0x0000023475040BD0> b'dense_1' <h5py.h5p.PropLAID object at 0x000002346FEA2A20>\n",
      "g: bias:0\n",
      "g: kernel:0\n",
      "<h5py.h5f.FileID object at 0x0000023475040BD0> b'dense_1' <h5py.h5p.PropLAID object at 0x000002346FEA2A20>\n",
      "<h5py.h5g.GroupID object at 0x0000023475243F10> b'bias:0' <h5py.h5p.PropLAID object at 0x000002346FEA2A20>\n",
      "<keras.src.layers.core.dense.Dense object at 0x0000023474F63190> \n",
      "\n",
      "wn dense_2/kernel:0\n",
      "<h5py.h5f.FileID object at 0x0000023475040BD0> b'dense_2' <h5py.h5p.PropLAID object at 0x000002346FEA2A20>\n",
      "g: bias:0\n",
      "g: kernel:0\n",
      "<h5py.h5f.FileID object at 0x0000023475040BD0> b'dense_2' <h5py.h5p.PropLAID object at 0x000002346FEA2A20>\n",
      "<h5py.h5g.GroupID object at 0x0000023475243F60> b'kernel:0' <h5py.h5p.PropLAID object at 0x000002346FEA2A20>\n",
      "wn dense_2/bias:0\n",
      "<h5py.h5f.FileID object at 0x0000023475040BD0> b'dense_2' <h5py.h5p.PropLAID object at 0x000002346FEA2A20>\n",
      "g: bias:0\n",
      "g: kernel:0\n",
      "<h5py.h5f.FileID object at 0x0000023475040BD0> b'dense_2' <h5py.h5p.PropLAID object at 0x000002346FEA2A20>\n",
      "<h5py.h5g.GroupID object at 0x0000023475243F10> b'bias:0' <h5py.h5p.PropLAID object at 0x000002346FEA2A20>\n"
     ]
    }
   ],
   "source": [
    "from keras.models import model_from_json\n",
    "import h5py\n",
    "with h5py.File(\"our_manual_auto.h5\", \"r\") as hf:\n",
    "    # Загружаем архитектуру\n",
    "    model_architecture = hf.attrs[\"model_architecture\"]\n",
    "    loaded_model = model_from_json(model_architecture)\n",
    "\n",
    "    # Загружаем веса\n",
    "    for layer in loaded_model.layers:\n",
    "        print(layer, '\\n')\n",
    "        for weight in layer.weights:\n",
    "            print('wn', weight.name)\n",
    "            for g in hf[layer.name]:\n",
    "                print('g:', g)\n",
    "            weight_value = hf[layer.name][weight.name.split('/')[1]][...]\n",
    "            weight.assign(weight_value)"
   ]
  },
  {
   "cell_type": "code",
   "execution_count": 55,
   "id": "228ceeec-47b6-44c3-a2fd-acd97109c0f4",
   "metadata": {
    "scrolled": true
   },
   "outputs": [
    {
     "name": "stdout",
     "output_type": "stream",
     "text": [
      "[[array([[1.    , 1.    , 0.44  , 0.0725]]), array([1., 0.])], [array([[0.33333333, 0.        , 0.76      , 0.712833  ]]), array([0., 1.])], [array([[1.     , 0.     , 0.52   , 0.07925]]), array([0., 1.])], [array([[0.33333333, 0.        , 0.7       , 0.531     ]]), array([0., 1.])], [array([[1.    , 1.    , 0.7   , 0.0805]]), array([1., 0.])], [array([[0.33333333, 1.        , 1.08      , 0.518625  ]]), array([1., 0.])], [array([[1.     , 1.     , 0.04   , 0.21075]]), array([1., 0.])], [array([[1.      , 0.      , 0.54    , 0.111333]]), array([0., 1.])], [array([[0.66666667, 0.        , 0.28      , 0.300708  ]]), array([0., 1.])], [array([[1.   , 0.   , 0.08 , 0.167]]), array([0., 1.])], [array([[0.33333333, 0.        , 1.16      , 0.2655    ]]), array([0., 1.])], [array([[1.    , 1.    , 0.4   , 0.0805]]), array([1., 0.])], [array([[1.     , 1.     , 0.78   , 0.31275]]), array([1., 0.])], [array([[1.      , 0.      , 0.28    , 0.078542]]), array([1., 0.])], [array([[0.66666667, 0.        , 1.1       , 0.16      ]]), array([0., 1.])], [array([[1.     , 1.     , 0.04   , 0.29125]]), array([1., 0.])], [array([[1.  , 0.  , 0.62, 0.18]]), array([1., 0.])], [array([[0.66666667, 1.        , 0.7       , 0.26      ]]), array([1., 0.])], [array([[0.66666667, 1.        , 0.68      , 0.13      ]]), array([0., 1.])], [array([[1.      , 0.      , 0.3     , 0.080292]]), array([0., 1.])], [array([[0.33333333, 1.        , 0.56      , 0.355     ]]), array([0., 1.])], [array([[1.     , 0.     , 0.16   , 0.21075]]), array([1., 0.])], [array([[1.      , 0.      , 0.76    , 0.313875]]), array([0., 1.])], [array([[0.33333333, 1.        , 0.38      , 2.63      ]]), array([1., 0.])], [array([[0.33333333, 1.        , 0.8       , 0.277208  ]]), array([1., 0.])], [array([[0.66666667, 1.        , 1.32      , 0.105     ]]), array([1., 0.])], [array([[0.33333333, 1.        , 0.56      , 0.821708  ]]), array([1., 0.])], [array([[0.33333333, 1.        , 0.84      , 0.52      ]]), array([1., 0.])], [array([[1.    , 1.    , 0.42  , 0.0805]]), array([1., 0.])], [array([[1.  , 0.  , 0.36, 0.18]]), array([1., 0.])], [array([[1.      , 0.      , 0.28    , 0.112417]]), array([0., 1.])], [array([[1.     , 0.     , 0.8    , 0.09475]]), array([1., 0.])], [array([[0.66666667, 0.        , 0.54      , 0.21      ]]), array([1., 0.])], [array([[0.66666667, 0.        , 0.06      , 0.415792  ]]), array([0., 1.])], [array([[1.      , 0.      , 0.38    , 0.078792]]), array([0., 1.])], [array([[1.   , 0.   , 0.36 , 0.178]]), array([1., 0.])], [array([[1.      , 1.      , 0.14    , 0.396875]]), array([1., 0.])], [array([[1.   , 1.   , 0.42 , 0.078]]), array([1., 0.])], [array([[0.33333333, 0.        , 0.98      , 0.767292  ]]), array([0., 1.])], [array([[0.66666667, 0.        , 0.58      , 0.26      ]]), array([0., 1.])], [array([[0.33333333, 1.        , 1.3       , 0.619792  ]]), array([1., 0.])], [array([[0.66666667, 0.        , 0.42      , 0.105     ]]), array([0., 1.])], [array([[1.      , 1.      , 0.57    , 0.072292]]), array([1., 0.])], [array([[0.66666667, 0.        , 0.1       , 0.2775    ]]), array([0., 1.])], [array([[1.   , 1.   , 0.22 , 0.469]]), array([1., 0.])], [array([[1.      , 1.      , 0.44    , 0.072292]]), array([1., 0.])], [array([[0.33333333, 0.        , 0.76      , 0.8       ]]), array([0., 1.])], [array([[0.33333333, 1.        , 0.9       , 0.83475   ]]), array([1., 0.])], [array([[1.   , 1.   , 0.08 , 0.279]]), array([1., 0.])], [array([[0.66666667, 0.        , 0.58      , 0.105     ]]), array([0., 1.])], [array([[1.      , 1.      , 0.38    , 0.081583]]), array([1., 0.])], [array([[1.     , 0.     , 0.34   , 0.07925]]), array([0., 1.])], [array([[1.      , 1.      , 0.52    , 0.086625]]), array([1., 0.])], [array([[0.66666667, 1.        , 0.64      , 0.105     ]]), array([1., 0.])], [array([[1.   , 0.   , 0.32 , 0.469]]), array([1., 0.])], [array([[0.66666667, 1.        , 0.42      , 0.735     ]]), array([1., 0.])], [array([[1.      , 1.      , 0.52    , 0.144542]]), array([1., 0.])], [array([[1.      , 1.      , 0.64    , 0.564958]]), array([0., 1.])], [array([[1.    , 1.    , 0.5   , 0.0765]]), array([1., 0.])], [array([[0.66666667, 1.        , 0.0166    , 0.29      ]]), array([0., 1.])], [array([[1.     , 0.     , 0.6    , 0.12475]]), array([0., 1.])], [array([[1.  , 1.  , 0.44, 0.09]]), array([1., 0.])], [array([[1.   , 1.   , 0.58 , 0.095]]), array([0., 1.])], [array([[0.33333333, 1.        , 0.56      , 0.471     ]]), array([1., 0.])], [array([[0.66666667, 0.        , 0.34      , 0.105     ]]), array([0., 1.])], [array([[1.    , 0.    , 0.66  , 0.1585]]), array([0., 1.])], [array([[1.     , 1.     , 0.32   , 0.34375]]), array([1., 0.])], [array([[0.33333333, 0.        , 0.46      , 2.63      ]]), array([0., 1.])], [array([[1.    , 1.    , 0.48  , 0.0805]]), array([1., 0.])], [array([[1.    , 1.    , 0.58  , 0.0805]]), array([1., 0.])], [array([[1.      , 1.      , 0.4     , 0.078542]]), array([1., 0.])], [array([[0.33333333, 1.        , 0.92      , 0.61175   ]]), array([1., 0.])], [array([[1.     , 1.     , 0.52   , 0.20575]]), array([1., 0.])], [array([[1.    , 1.    , 1.18  , 0.0725]]), array([1., 0.])], [array([[0.33333333, 1.        , 1.42      , 0.346542  ]]), array([1., 0.])], [array([[0.33333333, 1.        , 0.46      , 0.633583  ]]), array([0., 1.])], [array([[0.66666667, 0.        , 0.68      , 0.23      ]]), array([0., 1.])], [array([[0.66666667, 1.        , 0.68      , 0.26      ]]), array([1., 0.])], [array([[1.      , 0.      , 0.56    , 0.078958]]), array([1., 0.])], [array([[0.33333333, 1.        , 0.42      , 0.772875  ]]), array([1., 0.])], [array([[1.      , 1.      , 0.66    , 0.086542]]), array([1., 0.])], [array([[1.     , 1.     , 0.74   , 0.07925]]), array([1., 0.])], [array([[1.      , 1.      , 0.56    , 0.078958]]), array([1., 0.])], [array([[1.    , 0.    , 0.42  , 0.0765]]), array([0., 1.])], [array([[1.      , 1.      , 0.76    , 0.078958]]), array([1., 0.])], [array([[0.33333333, 1.        , 0.94      , 0.52      ]]), array([1., 0.])], [array([[1.      , 0.      , 0.29    , 0.144542]]), array([1., 0.])], [array([[1.    , 1.    , 0.44  , 0.0805]]), array([1., 0.])], [array([[1.     , 0.     , 0.4    , 0.09825]]), array([1., 0.])], [array([[1.      , 0.      , 0.34    , 0.144583]]), array([1., 0.])], [array([[1.     , 1.     , 0.42   , 0.07925]]), array([1., 0.])], [array([[1.    , 1.    , 1.41  , 0.0775]]), array([1., 0.])], [array([[0.66666667, 1.        , 0.58      , 0.21      ]]), array([1., 0.])], [array([[0.33333333, 1.        , 0.48      , 2.475208  ]]), array([1., 0.])], [array([[1.     , 0.     , 0.04   , 0.31275]]), array([1., 0.])], [array([[0.66666667, 1.        , 0.42      , 0.735     ]]), array([1., 0.])], [array([[0.66666667, 1.        , 0.65      , 0.300708  ]]), array([1., 0.])], [array([[0.66666667, 0.        , 0.65      , 0.13      ]]), array([0., 1.])], [array([[0.33333333, 1.        , 1.08      , 0.772875  ]]), array([1., 0.])], [array([[1.      , 1.      , 0.24    , 0.112417]]), array([0., 1.])], [array([[1.      , 1.      , 0.48    , 0.071417]]), array([0., 1.])], [array([[1.     , 1.     , 0.9    , 0.06975]]), array([1., 0.])], [array([[1.      , 1.      , 0.66    , 0.078958]]), array([1., 0.])], [array([[1.    , 1.    , 0.4   , 0.0705]]), array([1., 0.])], [array([[1.   , 0.   , 0.94 , 0.145]]), array([1., 0.])], [array([[0.66666667, 0.        , 0.58      , 0.26      ]]), array([0., 1.])], [array([[0.66666667, 1.        , 0.5       , 0.13      ]]), array([1., 0.])], [array([[0.66666667, 1.        , 0.46      , 0.150458  ]]), array([1., 0.])], [array([[0.33333333, 0.        , 0.38      , 0.262833  ]]), array([0., 1.])], [array([[0.33333333, 1.        , 0.74      , 0.531     ]]), array([1., 0.])], [array([[1.      , 1.      , 0.32    , 0.092167]]), array([1., 0.])], [array([[0.33333333, 1.        , 0.48      , 0.792     ]]), array([1., 0.])], [array([[1.    , 0.    , 0.44  , 0.0775]]), array([0., 1.])], [array([[1.    , 0.    , 0.48  , 0.1585]]), array([0., 1.])], [array([[1.    , 1.    , 0.38  , 0.0675]]), array([1., 0.])], [array([[0.66666667, 1.        , 0.36      , 0.115     ]]), array([1., 0.])], [array([[0.66666667, 1.        , 0.38      , 0.3675    ]]), array([1., 0.])], [array([[1.      , 1.      , 0.54    , 0.077958]]), array([0., 1.])], [array([[1.     , 0.     , 0.18   , 0.34375]]), array([1., 0.])], [array([[0.66666667, 1.        , 0.73      , 0.26      ]]), array([1., 0.])], [array([[0.66666667, 1.        , 0.84      , 0.13      ]]), array([1., 0.])], [array([[0.66666667, 1.        , 1.02      , 0.12525   ]]), array([1., 0.])], [array([[0.33333333, 0.        , 0.44      , 0.666     ]]), array([0., 1.])], [array([[1.    , 1.    , 1.11  , 0.0805]]), array([1., 0.])], [array([[1.   , 1.   , 0.81 , 0.145]]), array([1., 0.])], [array([[0.33333333, 1.        , 1.02      , 0.613792  ]]), array([1., 0.])], [array([[1.      , 0.      , 0.32    , 0.077333]]), array([0., 1.])], [array([[1.    , 1.    , 0.6   , 0.0805]]), array([1., 0.])], [array([[1.   , 1.   , 0.88 , 0.161]]), array([1., 0.])], [array([[0.66666667, 0.        , 0.8       , 0.1575    ]]), array([0., 1.])], [array([[1.     , 1.     , 0.52   , 0.07775]]), array([1., 0.])], [array([[1.      , 1.      , 0.34    , 0.086625]]), array([1., 0.])], [array([[1.      , 1.      , 0.02    , 0.396875]]), array([1., 0.])], [array([[1.     , 1.     , 0.18   , 0.20525]]), array([0., 1.])], [array([[1.   , 0.   , 0.9  , 0.279]]), array([1., 0.])], [array([[1.      , 1.      , 0.56    , 0.564958]]), array([1., 0.])], [array([[0.33333333, 1.        , 1.22      , 0.335     ]]), array([1., 0.])], [array([[1.     , 1.     , 0.08   , 0.29125]]), array([1., 0.])], [array([[1.      , 0.      , 0.02    , 0.111333]]), array([0., 1.])], [array([[1.     , 1.     , 0.42   , 0.07925]]), array([1., 0.])], [array([[0.33333333, 1.        , 1.12      , 0.306958  ]]), array([1., 0.])], [array([[1.      , 1.      , 0.36    , 0.078542]]), array([1., 0.])], [array([[0.33333333, 0.        , 1.        , 0.287125  ]]), array([1., 0.])], [array([[0.66666667, 1.        , 0.6       , 0.13      ]]), array([1., 0.])], [array([[1.  , 1.  , 0.72, 0.  ]]), array([1., 0.])], [array([[1.      , 1.      , 0.18    , 0.313875]]), array([1., 0.])], [array([[0.66666667, 1.        , 0.02      , 0.39      ]]), array([0., 1.])], [array([[1.     , 0.     , 0.08   , 0.22025]]), array([0., 1.])], [array([[0.33333333, 1.        , 0.9       , 0.2655    ]]), array([0., 1.])], [array([[1.   , 1.   , 0.8  , 0.155]]), array([1., 0.])], [array([[1.      , 1.      , 0.72    , 0.078958]]), array([1., 0.])], [array([[0.66666667, 0.        , 0.64      , 0.13      ]]), array([0., 1.])], [array([[0.66666667, 1.        , 0.38      , 0.13      ]]), array([1., 0.])], [array([[1.      , 0.      , 0.38    , 0.078542]]), array([0., 1.])], [array([[0.66666667, 1.        , 0.06      , 0.26      ]]), array([0., 1.])], [array([[0.33333333, 0.        , 0.88      , 0.277208  ]]), array([0., 1.])], [array([[0.33333333, 0.        , 1.16      , 1.465208  ]]), array([0., 1.])], [array([[1.      , 1.      , 0.84    , 0.084042]]), array([1., 0.])], [array([[0.66666667, 0.        , 0.48      , 0.13      ]]), array([1., 0.])], [array([[1.   , 1.   , 0.56 , 0.095]]), array([1., 0.])], [array([[1.      , 1.      , 0.68    , 0.064958]]), array([1., 0.])], [array([[1.     , 1.     , 0.91   , 0.07225]]), array([1., 0.])], [array([[1.    , 1.    , 0.36  , 0.0805]]), array([0., 1.])], [array([[1.      , 0.      , 0.04    , 0.104625]]), array([1., 0.])], [array([[1.    , 1.    , 0.64  , 0.1585]]), array([1., 0.])], [array([[1.      , 1.      , 0.52    , 0.187875]]), array([0., 1.])], [array([[1.    , 0.    , 0.32  , 0.0775]]), array([0., 1.])], [array([[0.33333333, 1.        , 0.8       , 0.31      ]]), array([0., 1.])], [array([[1.    , 1.    , 0.48  , 0.0705]]), array([1., 0.])], [array([[0.66666667, 0.        , 0.7       , 0.21      ]]), array([0., 1.])], [array([[1.    , 1.    , 0.44  , 0.0725]]), array([1., 0.])], [array([[0.66666667, 1.        , 0.6       , 0.13      ]]), array([1., 0.])], [array([[0.33333333, 0.        , 0.62      , 1.13275   ]]), array([0., 1.])], [array([[1.     , 0.     , 0.54   , 0.07925]]), array([0., 1.])], [array([[0.66666667, 1.        , 0.84      , 0.27      ]]), array([1., 0.])], [array([[0.33333333, 0.        , 0.64      , 0.762917  ]]), array([0., 1.])], [array([[0.66666667, 1.        , 0.6       , 0.105     ]]), array([1., 0.])], [array([[1.    , 1.    , 0.32  , 0.0805]]), array([0., 1.])], [array([[0.66666667, 1.        , 0.54      , 0.13      ]]), array([1., 0.])], [array([[1.    , 1.    , 1.02  , 0.0805]]), array([1., 0.])], [array([[0.33333333, 1.        , 0.76      , 0.9       ]]), array([0., 1.])], [array([[1.    , 1.    , 0.44  , 0.0935]]), array([1., 0.])], [array([[0.66666667, 1.        , 0.38      , 0.105     ]]), array([0., 1.])], [array([[1.    , 1.    , 0.41  , 0.0725]]), array([1., 0.])], [array([[0.66666667, 1.        , 0.36      , 0.13      ]]), array([1., 0.])], [array([[0.33333333, 0.        , 0.7       , 0.83475   ]]), array([0., 1.])], [array([[1.     , 1.     , 0.58   , 0.07775]]), array([1., 0.])], [array([[0.66666667, 1.        , 1.18      , 0.135     ]]), array([1., 0.])], [array([[1.      , 0.      , 0.1     , 0.313875]]), array([0., 1.])], [array([[0.66666667, 1.        , 0.48      , 0.105     ]]), array([1., 0.])], [array([[0.66666667, 1.        , 0.88      , 0.26      ]]), array([1., 0.])], [array([[0.66666667, 0.        , 0.16      , 0.2625    ]]), array([0., 1.])], [array([[0.66666667, 1.        , 0.38      , 0.105     ]]), array([1., 0.])], [array([[0.66666667, 1.        , 0.66      , 0.12275   ]]), array([1., 0.])], [array([[0.66666667, 1.        , 0.58      , 0.105     ]]), array([1., 0.])], [array([[1.     , 1.     , 0.44   , 0.07125]]), array([1., 0.])], [array([[1.     , 1.     , 0.6    , 0.07225]]), array([1., 0.])], [array([[0.33333333, 1.        , 0.88      , 0.9       ]]), array([1., 0.])], [array([[1.     , 0.     , 0.5    , 0.07775]]), array([1., 0.])], [array([[0.66666667, 0.        , 0.48      , 0.145     ]]), array([0., 1.])], [array([[0.33333333, 1.        , 0.74      , 0.525542  ]]), array([0., 1.])], [array([[0.66666667, 1.        , 1.08      , 0.26      ]]), array([1., 0.])], [array([[1.      , 0.      , 0.58    , 0.104625]]), array([1., 0.])], [array([[0.33333333, 1.        , 1.24      , 0.2655    ]]), array([1., 0.])], [array([[1.   , 1.   , 0.6  , 0.161]]), array([1., 0.])], [array([[1.      , 0.      , 0.82    , 0.202125]]), array([1., 0.])], [array([[1.      , 0.      , 0.58    , 0.152458]]), array([0., 1.])], [array([[0.33333333, 0.        , 0.6       , 0.865     ]]), array([0., 1.])], [array([[0.33333333, 0.        , 0.7       , 5.123292  ]]), array([0., 1.])], [array([[0.66666667, 0.        , 1.        , 0.26      ]]), array([0., 1.])], [array([[1.      , 1.      , 0.06    , 0.313875]]), array([0., 1.])], [array([[0.33333333, 1.        , 1.04      , 0.7965    ]]), array([1., 0.])], [array([[0.33333333, 1.        , 0.8       , 0.        ]]), array([1., 0.])], [array([[0.66666667, 1.        , 0.72      , 0.105     ]]), array([1., 0.])], [array([[1.      , 1.      , 0.32    , 0.396875]]), array([1., 0.])], [array([[1.     , 1.     , 0.5    , 0.07775]]), array([0., 1.])], [array([[0.33333333, 0.        , 1.16      , 1.534625  ]]), array([0., 1.])], [array([[0.33333333, 0.        , 0.7       , 1.356333  ]]), array([0., 1.])], [array([[1. , 1. , 0.5, 0. ]]), array([0., 1.])], [array([[0.66666667, 0.        , 0.82      , 0.195     ]]), array([0., 1.])], [array([[0.33333333, 1.        , 0.74      , 0.297     ]]), array([1., 0.])], [array([[0.33333333, 0.        , 1.26      , 0.779583  ]]), array([0., 1.])], [array([[1.    , 0.    , 0.9   , 0.0775]]), array([1., 0.])], [array([[1.     , 1.     , 0.14   , 0.29125]]), array([1., 0.])], [array([[1.    , 0.    , 0.7   , 0.2025]]), array([0., 1.])], [array([[1.    , 1.    , 1.3   , 0.0775]]), array([1., 0.])], [array([[1.      , 1.      , 0.56    , 0.078542]]), array([1., 0.])], [array([[1.   , 1.   , 0.32 , 0.095]]), array([1., 0.])], [array([[1.    , 1.    , 0.38  , 0.0805]]), array([0., 1.])], [array([[1.      , 1.      , 0.66    , 0.086625]]), array([1., 0.])], [array([[1.   , 1.   , 0.6  , 0.095]]), array([0., 1.])], [array([[1.      , 1.      , 0.44    , 0.078958]]), array([1., 0.])], [array([[0.66666667, 1.        , 0.84      , 0.13      ]]), array([0., 1.])], [array([[1.    , 0.    , 0.44  , 0.0775]]), array([0., 1.])], [array([[0.33333333, 0.        , 0.52      , 0.7885    ]]), array([0., 1.])], [array([[0.33333333, 0.        , 0.38      , 0.910792  ]]), array([0., 1.])], [array([[0.66666667, 1.        , 0.72      , 0.12875   ]]), array([1., 0.])], [array([[1.    , 0.    , 0.48  , 0.0885]]), array([1., 0.])], [array([[1.      , 1.      , 0.48    , 0.078958]]), array([1., 0.])], [array([[1.      , 1.      , 0.47    , 0.072292]]), array([1., 0.])], [array([[0.33333333, 0.        , 0.04      , 1.5155    ]]), array([1., 0.])], [array([[0.33333333, 0.        , 1.        , 2.475208  ]]), array([0., 1.])], [array([[1.  , 1.  , 0.38, 0.  ]]), array([1., 0.])], [array([[0.33333333, 1.        , 0.0184    , 1.5155    ]]), array([0., 1.])], [array([[0.33333333, 0.        , 0.34      , 1.089     ]]), array([0., 1.])], [array([[0.66666667, 1.        , 0.6       , 0.24      ]]), array([1., 0.])], [array([[0.33333333, 0.        , 0.6       , 0.569292  ]]), array([0., 1.])], [array([[0.33333333, 0.        , 0.48      , 0.831583  ]]), array([0., 1.])], [array([[0.33333333, 0.        , 0.36      , 2.62375   ]]), array([0., 1.])], [array([[0.66666667, 0.        , 0.52      , 0.26      ]]), array([1., 0.])], [array([[1.      , 1.      , 0.56    , 0.078958]]), array([1., 0.])], [array([[0.66666667, 1.        , 0.86      , 0.2625    ]]), array([1., 0.])], [array([[1.      , 0.      , 0.52    , 0.078542]]), array([0., 1.])], [array([[0.66666667, 0.        , 0.48      , 0.26      ]]), array([0., 1.])], [array([[0.66666667, 1.        , 1.08      , 0.14      ]]), array([1., 0.])], [array([[0.33333333, 0.        , 0.62      , 1.648667  ]]), array([0., 1.])], [array([[0.33333333, 0.        , 0.8       , 1.345     ]]), array([0., 1.])], [array([[1.    , 1.    , 0.44  , 0.0725]]), array([1., 0.])], [array([[1.      , 1.      , 0.54    , 0.078958]]), array([1., 0.])], [array([[0.66666667, 0.        , 0.6       , 0.1235    ]]), array([0., 1.])], [array([[0.66666667, 0.        , 0.44      , 0.29      ]]), array([0., 1.])], [array([[0.33333333, 0.        , 0.72      , 1.356333  ]]), array([0., 1.])], [array([[1.      , 1.      , 1.22    , 0.062375]]), array([1., 0.])], [array([[0.66666667, 0.        , 0.72      , 0.13      ]]), array([0., 1.])], [array([[1.     , 0.     , 0.62   , 0.20525]]), array([0., 1.])], [array([[0.33333333, 0.        , 0.32      , 0.579792  ]]), array([0., 1.])], [array([[0.33333333, 1.        , 0.91      , 0.285     ]]), array([1., 0.])], [array([[0.33333333, 1.        , 0.76      , 1.534625  ]]), array([1., 0.])], [array([[1.  , 1.  , 0.32, 0.18]]), array([1., 0.])], [array([[0.33333333, 1.        , 0.58      , 0.666     ]]), array([1., 0.])], [array([[0.33333333, 0.        , 0.82      , 1.345     ]]), array([0., 1.])], [array([[1.    , 1.    , 0.9   , 0.0805]]), array([0., 1.])], [array([[0.33333333, 1.        , 0.9       , 0.355     ]]), array([1., 0.])], [array([[0.66666667, 1.        , 0.04      , 0.26      ]]), array([0., 1.])], [array([[0.33333333, 0.        , 0.48      , 2.63      ]]), array([0., 1.])], [array([[0.66666667, 1.        , 0.56      , 0.13      ]]), array([1., 0.])], [array([[0.66666667, 1.        , 0.5       , 0.13      ]]), array([1., 0.])], [array([[0.66666667, 1.        , 0.72      , 0.13      ]]), array([1., 0.])], [array([[0.66666667, 0.        , 0.48      , 0.13      ]]), array([0., 1.])], [array([[0.66666667, 0.        , 0.8       , 0.13      ]]), array([0., 1.])], [array([[1.   , 1.   , 0.06 , 0.159]]), array([0., 1.])], [array([[1.      , 1.      , 0.84    , 0.086625]]), array([1., 0.])], [array([[1.     , 1.     , 0.46   , 0.09225]]), array([1., 0.])], [array([[1.      , 1.      , 0.3     , 0.072292]]), array([1., 0.])], [array([[1.   , 1.   , 0.5  , 0.178]]), array([1., 0.])], [array([[1.   , 1.   , 0.56 , 0.095]]), array([1., 0.])], [array([[0.33333333, 0.        , 0.44      , 0.55      ]]), array([0., 1.])], [array([[0.66666667, 0.        , 0.76      , 0.13      ]]), array([1., 0.])], [array([[1.   , 1.   , 0.8  , 0.279]]), array([1., 0.])], [array([[0.66666667, 1.        , 0.58      , 0.277208  ]]), array([1., 0.])], [array([[1.      , 0.      , 0.9     , 0.144542]]), array([1., 0.])], [array([[1.    , 1.    , 0.7   , 0.0705]]), array([1., 0.])], [array([[1.    , 1.    , 0.6   , 0.0725]]), array([1., 0.])], [array([[0.33333333, 0.        , 1.2       , 0.7525    ]]), array([0., 1.])], [array([[0.33333333, 0.        , 0.48      , 0.693     ]]), array([0., 1.])], [array([[0.33333333, 1.        , 0.5       , 0.554417  ]]), array([0., 1.])], [array([[1.      , 1.      , 0.36    , 0.064958]]), array([1., 0.])], [array([[1.    , 1.    , 0.38  , 0.0805]]), array([1., 0.])], [array([[0.33333333, 1.        , 0.44      , 1.356333  ]]), array([1., 0.])], [array([[1.     , 0.     , 0.06   , 0.21075]]), array([1., 0.])], [array([[1.    , 0.    , 0.44  , 0.0725]]), array([0., 1.])], [array([[0.33333333, 1.        , 0.54      , 2.115     ]]), array([1., 0.])], [array([[1.      , 1.      , 0.4     , 0.040125]]), array([1., 0.])], [array([[1.     , 1.     , 0.38   , 0.07775]]), array([1., 0.])], [array([[0.33333333, 0.        , 0.84      , 2.27525   ]]), array([0., 1.])], [array([[1.      , 0.      , 0.02    , 0.157417]]), array([0., 1.])], [array([[1.     , 1.     , 0.64   , 0.07925]]), array([1., 0.])], [array([[0.33333333, 0.        , 0.7       , 0.52      ]]), array([0., 1.])], [array([[0.66666667, 1.        , 0.36      , 0.735     ]]), array([1., 0.])], [array([[1.   , 1.   , 0.02 , 0.469]]), array([1., 0.])], [array([[0.66666667, 0.        , 0.72      , 0.13      ]]), array([0., 1.])], [array([[0.66666667, 0.        , 0.34      , 0.12      ]]), array([0., 1.])], [array([[0.33333333, 1.        , 0.72      , 1.2       ]]), array([0., 1.])], [array([[1.      , 1.      , 0.42    , 0.077958]]), array([0., 1.])], [array([[1.     , 1.     , 0.56   , 0.07925]]), array([1., 0.])], [array([[0.33333333, 0.        , 0.46      , 1.13275   ]]), array([0., 1.])], [array([[1.   , 0.   , 0.48 , 0.167]]), array([0., 1.])], [array([[1.      , 1.      , 0.44    , 0.077958]]), array([1., 0.])], [array([[1.      , 0.      , 0.62    , 0.078542]]), array([1., 0.])], [array([[0.66666667, 1.        , 0.92      , 0.26      ]]), array([1., 0.])], [array([[0.66666667, 1.        , 0.46      , 0.105     ]]), array([1., 0.])], [array([[0.66666667, 0.        , 0.56      , 0.1265    ]]), array([0., 1.])], [array([[1.     , 1.     , 0.78   , 0.07925]]), array([0., 1.])], [array([[1.    , 1.    , 0.52  , 0.0805]]), array([1., 0.])], [array([[1.     , 0.     , 0.42   , 0.09825]]), array([1., 0.])], [array([[1.    , 1.    , 0.56  , 0.1585]]), array([1., 0.])], [array([[1.      , 0.      , 0.4     , 0.086625]]), array([1., 0.])], [array([[0.66666667, 1.        , 0.68      , 0.21      ]]), array([1., 0.])], [array([[1.    , 1.    , 1.02  , 0.0775]]), array([1., 0.])], [array([[0.66666667, 1.        , 0.06      , 0.1875    ]]), array([0., 1.])], [array([[1.     , 1.     , 0.42   , 0.07775]]), array([1., 0.])], [array([[0.33333333, 0.        , 0.66      , 0.9       ]]), array([0., 1.])], [array([[1.     , 1.     , 0.88   , 0.07925]]), array([0., 1.])], [array([[0.66666667, 0.        , 0.68      , 0.325     ]]), array([0., 1.])], [array([[0.66666667, 0.        , 0.36      , 0.13      ]]), array([0., 1.])], [array([[0.66666667, 1.        , 0.6       , 0.13      ]]), array([1., 0.])], [array([[1.    , 0.    , 0.2   , 0.2415]]), array([1., 0.])], [array([[1.      , 1.      , 0.42    , 0.077333]]), array([1., 0.])], [array([[1.     , 1.     , 0.58   , 0.07875]]), array([1., 0.])], [array([[1.   , 0.   , 0.56 , 0.144]]), array([1., 0.])], [array([[1.      , 1.      , 0.36    , 0.202125]]), array([1., 0.])], [array([[0.66666667, 0.        , 0.56      , 0.26      ]]), array([0., 1.])], [array([[0.66666667, 0.        , 0.38      , 0.26      ]]), array([0., 1.])], [array([[1.    , 1.    , 0.64  , 0.0805]]), array([0., 1.])], [array([[0.33333333, 1.        , 0.56      , 0.2655    ]]), array([0., 1.])], [array([[0.66666667, 0.        , 0.84      , 0.26      ]]), array([0., 1.])], [array([[1.     , 1.     , 0.34   , 0.07125]]), array([1., 0.])], [array([[0.33333333, 1.        , 1.        , 0.559     ]]), array([1., 0.])], [array([[0.33333333, 0.        , 0.28      , 1.2       ]]), array([0., 1.])], [array([[1.     , 0.     , 0.42   , 0.34375]]), array([1., 0.])], [array([[0.66666667, 0.        , 0.48      , 0.1875    ]]), array([0., 1.])], [array([[0.33333333, 1.        , 1.28      , 2.63      ]]), array([1., 0.])], [array([[0.66666667, 1.        , 0.62      , 0.105     ]]), array([1., 0.])], [array([[0.66666667, 0.        , 0.9       , 0.2625    ]]), array([0., 1.])], [array([[1.   , 1.   , 0.4  , 0.095]]), array([1., 0.])], [array([[1.     , 1.     , 0.5    , 0.07775]]), array([1., 0.])], [array([[0.66666667, 0.        , 0.56      , 0.13      ]]), array([0., 1.])], [array([[0.33333333, 1.        , 0.08      , 0.818583  ]]), array([0., 1.])], [array([[0.66666667, 0.        , 0.26      , 0.195     ]]), array([0., 1.])], [array([[0.33333333, 1.        , 0.68      , 0.2655    ]]), array([0., 1.])], [array([[1.      , 0.      , 0.1     , 0.192583]]), array([0., 1.])], [array([[0.33333333, 1.        , 1.04      , 0.305     ]]), array([0., 1.])], [array([[0.66666667, 1.        , 0.72      , 0.2775    ]]), array([1., 0.])], [array([[0.33333333, 1.        , 0.6       , 0.2775    ]]), array([1., 0.])], [array([[0.33333333, 1.        , 0.98      , 0.891042  ]]), array([0., 1.])], [array([[1.      , 1.      , 0.58    , 0.078958]]), array([0., 1.])], [array([[0.33333333, 1.        , 1.3       , 0.2655    ]]), array([1., 0.])], [array([[0.66666667, 0.        , 1.        , 0.105     ]]), array([0., 1.])], [array([[0.33333333, 1.        , 0.96      , 0.2655    ]]), array([0., 1.])], [array([[1.    , 1.    , 0.68  , 0.0805]]), array([1., 0.])], [array([[0.33333333, 1.        , 0.94      , 0.385     ]]), array([1., 0.])], [array([[0.66666667, 1.        , 0.96      , 0.13      ]]), array([1., 0.])], [array([[1.    , 1.    , 0.76  , 0.0705]]), array([1., 0.])], [array([[0.33333333, 1.        , 1.12      , 0.2655    ]]), array([1., 0.])], [array([[1.      , 0.      , 0.015   , 0.192583]]), array([0., 1.])], [array([[1.      , 1.      , 0.76    , 0.086625]]), array([1., 0.])], [array([[0.66666667, 0.        , 0.66      , 0.2775    ]]), array([0., 1.])], [array([[0.66666667, 0.        , 0.46      , 0.137917  ]]), array([0., 1.])], [array([[1.      , 0.      , 0.44    , 0.098375]]), array([1., 0.])], [array([[0.66666667, 1.        , 0.68      , 0.21      ]]), array([1., 0.])], [array([[1.      , 1.      , 0.58    , 0.070458]]), array([1., 0.])], [array([[1.      , 1.      , 0.44    , 0.075208]]), array([1., 0.])], [array([[1.      , 0.      , 0.04    , 0.122875]]), array([0., 1.])], [array([[1.   , 1.   , 0.18 , 0.469]]), array([1., 0.])], [array([[1.    , 1.    , 1.    , 0.0805]]), array([1., 0.])], [array([[1.      , 0.      , 1.26    , 0.095875]]), array([0., 1.])], [array([[0.33333333, 1.        , 0.5       , 0.910792  ]]), array([0., 1.])], [array([[0.33333333, 0.        , 0.7       , 0.9       ]]), array([0., 1.])], [array([[0.33333333, 1.        , 1.16      , 0.297     ]]), array([1., 0.])], [array([[1.    , 1.    , 0.6   , 0.0805]]), array([1., 0.])], [array([[1.   , 1.   , 0.18 , 0.159]]), array([0., 1.])], [array([[1.    , 1.    , 0.42  , 0.0725]]), array([1., 0.])], [array([[0.33333333, 1.        , 1.1       , 0.305     ]]), array([1., 0.])], [array([[0.33333333, 1.        , 1.42      , 0.495042  ]]), array([1., 0.])], [array([[1.    , 1.    , 0.42  , 0.0805]]), array([1., 0.])], [array([[0.33333333, 0.        , 1.08      , 0.782667  ]]), array([0., 1.])], [array([[0.33333333, 0.        , 0.5       , 1.5155    ]]), array([1., 0.])], [array([[1.      , 1.      , 0.48    , 0.077958]]), array([1., 0.])], [array([[1.      , 1.      , 0.34    , 0.086625]]), array([1., 0.])], [array([[1.    , 0.    , 0.42  , 0.0775]]), array([1., 0.])], [array([[1.      , 0.      , 0.74    , 0.095875]]), array([1., 0.])], [array([[0.33333333, 0.        , 0.32      , 0.865     ]]), array([0., 1.])], [array([[0.33333333, 1.        , 0.36      , 1.089     ]]), array([1., 0.])], [array([[0.66666667, 0.        , 0.66      , 0.26      ]]), array([0., 1.])], [array([[1.     , 1.     , 0.56   , 0.22525]]), array([1., 0.])], [array([[1.      , 1.      , 0.52    , 0.564958]]), array([0., 1.])], [array([[1.    , 1.    , 0.58  , 0.0775]]), array([0., 1.])], [array([[0.33333333, 1.        , 0.72      , 0.262875  ]]), array([0., 1.])], [array([[0.33333333, 0.        , 1.08      , 0.594     ]]), array([0., 1.])], [array([[1.      , 1.      , 0.48    , 0.074958]]), array([1., 0.])], [array([[0.33333333, 1.        , 0.94      , 0.340208  ]]), array([1., 0.])], [array([[0.66666667, 0.        , 0.68      , 0.105     ]]), array([0., 1.])], [array([[0.66666667, 0.        , 0.72      , 0.26      ]]), array([0., 1.])], [array([[1.      , 1.      , 0.64    , 0.078958]]), array([1., 0.])], [array([[0.33333333, 0.        , 0.6       , 0.935     ]]), array([0., 1.])], [array([[1.      , 1.      , 0.44    , 0.078958]]), array([1., 0.])], [array([[0.33333333, 0.        , 0.88      , 0.579792  ]]), array([0., 1.])], [array([[1.    , 1.    , 0.81  , 0.0775]]), array([1., 0.])], [array([[0.66666667, 0.        , 1.        , 0.105     ]]), array([0., 1.])], [array([[1.     , 1.     , 0.78   , 0.07925]]), array([1., 0.])], [array([[0.66666667, 1.        , 0.46      , 0.115     ]]), array([1., 0.])], [array([[0.66666667, 0.        , 0.04      , 0.26      ]]), array([0., 1.])], [array([[1.      , 1.      , 0.34    , 0.072292]]), array([1., 0.])], [array([[1.      , 0.      , 0.6     , 0.086625]]), array([1., 0.])], [array([[0.66666667, 0.        , 0.14      , 0.2625    ]]), array([0., 1.])], [array([[0.33333333, 1.        , 0.9       , 0.2655    ]]), array([1., 0.])], [array([[0.33333333, 0.        , 0.6       , 1.06425   ]]), array([0., 1.])], [array([[0.33333333, 0.        , 0.44      , 0.495     ]]), array([0., 1.])], [array([[0.33333333, 0.        , 0.72      , 0.71      ]]), array([0., 1.])], [array([[1.     , 0.     , 0.18   , 0.31275]]), array([1., 0.])], [array([[1.     , 0.     , 0.22   , 0.31275]]), array([1., 0.])], [array([[0.66666667, 1.        , 0.64      , 0.26      ]]), array([0., 1.])], [array([[0.33333333, 1.        , 1.        , 1.06425   ]]), array([1., 0.])], [array([[0.33333333, 1.        , 1.28      , 0.26      ]]), array([1., 0.])], [array([[0.66666667, 0.        , 0.38      , 0.26      ]]), array([0., 1.])], [array([[1.     , 1.     , 0.66   , 0.20525]]), array([1., 0.])], [array([[0.66666667, 1.        , 0.16      , 0.3675    ]]), array([0., 1.])], [array([[0.33333333, 1.        , 0.34      , 1.108833  ]]), array([0., 1.])], [array([[0.66666667, 1.        , 0.54      , 0.26      ]]), array([1., 0.])], [array([[1.     , 1.     , 0.44   , 0.07225]]), array([0., 1.])], [array([[1.     , 0.     , 0.44   , 0.07775]]), array([0., 1.])], [array([[0.33333333, 1.        , 1.24      , 0.2655    ]]), array([1., 0.])], [array([[0.33333333, 0.        , 0.96      , 0.396     ]]), array([0., 1.])], [array([[0.33333333, 0.        , 0.78      , 0.7965    ]]), array([0., 1.])], [array([[1.   , 0.   , 0.72 , 0.174]]), array([0., 1.])], [array([[1.      , 1.      , 0.8     , 0.078958]]), array([1., 0.])], [array([[0.66666667, 1.        , 0.56      , 0.135     ]]), array([1., 0.])], [array([[1.    , 1.    , 0.48  , 0.2415]]), array([1., 0.])], [array([[1.      , 1.      , 0.38    , 0.078958]]), array([1., 0.])], [array([[1.     , 0.     , 0.58   , 0.21075]]), array([1., 0.])], [array([[1.      , 1.      , 0.64    , 0.078542]]), array([0., 1.])], [array([[0.66666667, 1.        , 1.24      , 0.105     ]]), array([0., 1.])], [array([[0.33333333, 0.        , 1.06      , 0.514792  ]]), array([0., 1.])], [array([[0.33333333, 1.        , 0.72      , 0.263875  ]]), array([0., 1.])], [array([[1.    , 1.    , 0.32  , 0.0805]]), array([1., 0.])], [array([[1.   , 1.   , 0.38 , 0.145]]), array([1., 0.])], [array([[0.66666667, 0.        , 0.68      , 0.13      ]]), array([0., 1.])], [array([[0.33333333, 0.        , 0.78      , 0.559     ]]), array([0., 1.])], [array([[1.     , 1.     , 0.64   , 0.07925]]), array([0., 1.])], [array([[0.66666667, 0.        , 0.5       , 0.3       ]]), array([0., 1.])], [array([[0.33333333, 0.        , 0.78      , 1.108833  ]]), array([0., 1.])], [array([[0.66666667, 1.        , 1.08      , 0.26      ]]), array([1., 0.])], [array([[0.33333333, 1.        , 0.72      , 0.40125   ]]), array([1., 0.])], [array([[0.33333333, 0.        , 0.36      , 0.7965    ]]), array([0., 1.])], [array([[0.66666667, 1.        , 0.94      , 0.15      ]]), array([1., 0.])], [array([[0.33333333, 1.        , 1.2       , 0.792     ]]), array([0., 1.])], [array([[1.    , 1.    , 0.44  , 0.0805]]), array([1., 0.])], [array([[1.     , 1.     , 0.7    , 0.07125]]), array([1., 0.])], [array([[0.33333333, 0.        , 1.04      , 0.782667  ]]), array([0., 1.])], [array([[1.    , 1.    , 0.94  , 0.0725]]), array([1., 0.])], [array([[0.66666667, 1.        , 0.74      , 0.26      ]]), array([1., 0.])], [array([[1.    , 1.    , 0.72  , 0.2415]]), array([1., 0.])], [array([[1.  , 1.  , 0.98, 0.  ]]), array([1., 0.])], [array([[0.33333333, 1.        , 0.98      , 0.569292  ]]), array([0., 1.])], [array([[0.66666667, 0.        , 0.48      , 0.27      ]]), array([0., 1.])], [array([[1.    , 1.    , 0.88  , 0.0805]]), array([1., 0.])], [array([[0.33333333, 1.        , 0.7       , 0.2655    ]]), array([0., 1.])], [array([[1.    , 1.    , 0.72  , 0.1555]]), array([1., 0.])], [array([[1.      , 1.      , 0.6     , 0.078958]]), array([1., 0.])], [array([[0.33333333, 1.        , 0.54      , 0.305     ]]), array([0., 1.])], [array([[0.66666667, 0.        , 0.44      , 0.415792  ]]), array([0., 1.])], [array([[0.33333333, 0.        , 0.8       , 1.534625  ]]), array([0., 1.])], [array([[1.     , 0.     , 0.78   , 0.31275]]), array([1., 0.])], [array([[1.    , 1.    , 0.7   , 0.0805]]), array([1., 0.])], [array([[0.66666667, 0.        , 0.48      , 0.65      ]]), array([0., 1.])], [array([[1.   , 1.   , 0.68 , 0.144]]), array([1., 0.])], [array([[1.   , 0.   , 0.52 , 0.161]]), array([1., 0.])], [array([[0.66666667, 0.        , 0.08      , 0.39      ]]), array([0., 1.])], [array([[0.66666667, 1.        , 0.52      , 0.105     ]]), array([1., 0.])], [array([[1.      , 1.      , 0.54    , 0.144542]]), array([1., 0.])], [array([[0.33333333, 1.        , 0.84      , 0.525542  ]]), array([0., 1.])], [array([[1.      , 1.      , 0.4     , 0.157417]]), array([0., 1.])], [array([[1.      , 1.      , 0.42    , 0.078542]]), array([1., 0.])], [array([[1.   , 1.   , 0.42 , 0.161]]), array([1., 0.])], [array([[0.33333333, 1.        , 1.22      , 0.323208  ]]), array([1., 0.])], [array([[0.66666667, 1.        , 1.14      , 0.1235    ]]), array([1., 0.])], [array([[0.33333333, 0.        , 0.42      , 0.779583  ]]), array([0., 1.])], [array([[1.      , 1.      , 0.52    , 0.078958]]), array([1., 0.])], [array([[0.33333333, 1.        , 1.6       , 0.3       ]]), array([0., 1.])], [array([[1.      , 1.      , 1.02    , 0.070542]]), array([1., 0.])], [array([[0.33333333, 1.        , 0.64      , 0.305     ]]), array([0., 1.])], [array([[1.   , 0.   , 0.18 , 0.279]]), array([1., 0.])], [array([[0.66666667, 0.        , 0.56      , 0.13      ]]), array([0., 1.])], [array([[1.     , 1.     , 0.64   , 0.07925]]), array([1., 0.])], [array([[0.66666667, 1.        , 0.62      , 0.2625    ]]), array([1., 0.])], [array([[1.      , 0.      , 0.82    , 0.396875]]), array([1., 0.])], [array([[1.      , 1.      , 0.4     , 0.078542]]), array([1., 0.])], [array([[0.33333333, 0.        , 0.48      , 0.693     ]]), array([0., 1.])], [array([[1.   , 0.   , 0.04 , 0.279]]), array([1., 0.])], [array([[1.      , 0.      , 0.015   , 0.192583]]), array([0., 1.])], [array([[0.33333333, 1.        , 0.96      , 0.767292  ]]), array([0., 1.])], [array([[1.      , 1.      , 0.38    , 0.078958]]), array([1., 0.])], [array([[0.33333333, 1.        , 1.12      , 0.355     ]]), array([0., 1.])], [array([[1.    , 0.    , 0.46  , 0.0755]]), array([0., 1.])], [array([[0.66666667, 0.        , 0.36      , 0.23      ]]), array([0., 1.])], [array([[1.      , 1.      , 0.42    , 0.084333]]), array([1., 0.])], [array([[1.    , 0.    , 0.36  , 0.0675]]), array([1., 0.])], [array([[0.66666667, 1.        , 0.48      , 0.735     ]]), array([1., 0.])], [array([[1.   , 0.   , 0.64 , 0.155]]), array([1., 0.])], [array([[0.66666667, 1.        , 0.46      , 0.13      ]]), array([1., 0.])], [array([[0.33333333, 1.        , 1.16      , 1.13275   ]]), array([1., 0.])], [array([[0.33333333, 1.        , 1.        , 1.3365    ]]), array([0., 1.])], [array([[1.     , 1.     , 0.8    , 0.07225]]), array([1., 0.])], [array([[0.33333333, 1.        , 0.94      , 0.255875  ]]), array([1., 0.])], [array([[1.      , 1.      , 0.72    , 0.074958]]), array([1., 0.])], [array([[1.     , 1.     , 0.4    , 0.07925]]), array([0., 1.])], [array([[0.66666667, 1.        , 0.64      , 0.735     ]]), array([1., 0.])], [array([[0.66666667, 1.        , 0.5       , 0.13      ]]), array([1., 0.])], [array([[1.    , 1.    , 0.86  , 0.0805]]), array([1., 0.])], [array([[0.66666667, 0.        , 0.8       , 0.39      ]]), array([0., 1.])], [array([[0.33333333, 1.        , 0.62      , 0.52      ]]), array([1., 0.])], [array([[0.66666667, 1.        , 1.4       , 0.105     ]]), array([1., 0.])], [array([[0.66666667, 1.        , 0.62      , 0.13      ]]), array([0., 1.])], [array([[1.     , 1.     , 0.36   , 0.07775]]), array([1., 0.])], [array([[1.    , 1.    , 0.49  , 0.0805]]), array([1., 0.])], [array([[1.      , 0.      , 0.36    , 0.098417]]), array([0., 1.])], [array([[1.   , 0.   , 0.86 , 0.469]]), array([1., 0.])], [array([[0.33333333, 1.        , 0.72      , 5.123292  ]]), array([0., 1.])], [array([[0.33333333, 1.        , 0.54      , 0.767292  ]]), array([0., 1.])], [array([[1.     , 1.     , 0.4    , 0.09225]]), array([1., 0.])], [array([[1.   , 1.   , 0.28 , 0.469]]), array([1., 0.])], [array([[0.66666667, 1.        , 1.2       , 0.39      ]]), array([1., 0.])], [array([[0.66666667, 1.        , 0.5       , 0.415792  ]]), array([1., 0.])], [array([[1.      , 1.      , 0.28    , 0.396875]]), array([1., 0.])], [array([[1.      , 1.      , 0.38    , 0.101708]]), array([1., 0.])], [array([[1.      , 1.      , 0.36    , 0.077958]]), array([1., 0.])], [array([[0.33333333, 0.        , 0.3       , 2.113375  ]]), array([0., 1.])], [array([[0.33333333, 1.        , 0.62      , 0.57      ]]), array([0., 1.])], [array([[1.      , 0.      , 0.08    , 0.134167]]), array([0., 1.])], [array([[1.     , 1.     , 0.5    , 0.07225]]), array([1., 0.])], [array([[0.33333333, 1.        , 1.2       , 0.2655    ]]), array([1., 0.])], [array([[0.66666667, 1.        , 1.04      , 0.135     ]]), array([1., 0.])], [array([[1.    , 1.    , 0.88  , 0.0805]]), array([1., 0.])], [array([[0.33333333, 1.        , 0.98      , 1.108833  ]]), array([1., 0.])], [array([[1.    , 1.    , 0.84  , 0.0765]]), array([1., 0.])], [array([[0.33333333, 0.        , 0.36      , 2.27525   ]]), array([0., 1.])], [array([[0.33333333, 1.        , 0.7       , 0.262875  ]]), array([0., 1.])], [array([[1.      , 0.      , 0.36    , 0.144542]]), array([1., 0.])], [array([[1.      , 1.      , 0.5     , 0.077417]]), array([1., 0.])], [array([[1.      , 1.      , 0.52    , 0.078542]]), array([1., 0.])], [array([[0.66666667, 1.        , 0.78      , 0.26      ]]), array([1., 0.])], [array([[0.66666667, 0.        , 0.9       , 0.135     ]]), array([0., 1.])], [array([[0.33333333, 1.        , 0.84      , 0.262875  ]]), array([0., 1.])], [array([[0.33333333, 0.        , 0.44      , 1.5155    ]]), array([0., 1.])], [array([[0.33333333, 0.        , 0.48      , 0.495042  ]]), array([0., 1.])], [array([[0.33333333, 1.        , 0.96      , 0.52      ]]), array([0., 1.])], [array([[1.      , 1.      , 0.58    , 0.094833]]), array([1., 0.])], [array([[0.66666667, 1.        , 1.04      , 0.13      ]]), array([1., 0.])], [array([[1.    , 1.    , 0.38  , 0.0765]]), array([1., 0.])], [array([[0.33333333, 0.        , 0.76      , 2.27525   ]]), array([0., 1.])], [array([[0.66666667, 0.        , 0.54      , 0.105     ]]), array([0., 1.])], [array([[1.     , 1.     , 0.66   , 0.07775]]), array([1., 0.])], [array([[0.66666667, 0.        , 0.12      , 0.33      ]]), array([0., 1.])], [array([[1.      , 1.      , 0.34    , 0.070542]]), array([1., 0.])], [array([[0.66666667, 1.        , 0.68      , 0.13      ]]), array([1., 0.])], [array([[0.66666667, 1.        , 1.        , 0.13      ]]), array([1., 0.])], [array([[0.33333333, 1.        , 0.54      , 0.531     ]]), array([0., 1.])], [array([[1.      , 1.      , 0.4     , 0.086625]]), array([1., 0.])], [array([[0.66666667, 0.        , 0.6       , 0.21      ]]), array([0., 1.])], [array([[0.66666667, 1.        , 0.5       , 0.26      ]]), array([1., 0.])], [array([[1.     , 0.     , 0.5    , 0.07925]]), array([1., 0.])], [array([[0.33333333, 0.        , 0.58      , 2.113375  ]]), array([0., 1.])], [array([[1.      , 1.      , 0.22    , 0.187875]]), array([1., 0.])], [array([[0.66666667, 1.        , 0.46      , 0.13      ]]), array([1., 0.])], [array([[0.66666667, 1.        , 0.46      , 0.13      ]]), array([1., 0.])], [array([[1.   , 1.   , 0.57 , 0.161]]), array([1., 0.])], [array([[1.     , 0.     , 0.96   , 0.34375]]), array([1., 0.])], [array([[0.33333333, 1.        , 0.7       , 5.123292  ]]), array([0., 1.])], [array([[0.33333333, 1.        , 0.72      , 0.7885    ]]), array([1., 0.])], [array([[0.33333333, 0.        , 0.42      , 2.62375   ]]), array([0., 1.])], [array([[1.   , 1.   , 0.48 , 0.161]]), array([1., 0.])], [array([[1.     , 1.     , 0.62   , 0.07925]]), array([0., 1.])], [array([[0.33333333, 1.        , 1.4       , 0.71      ]]), array([1., 0.])], [array([[1.    , 1.    , 0.32  , 0.2025]]), array([1., 0.])], [array([[0.66666667, 0.        , 0.6       , 0.13      ]]), array([0., 1.])], [array([[0.33333333, 1.        , 0.38      , 0.531     ]]), array([1., 0.])], [array([[1.    , 1.    , 0.62  , 0.0775]]), array([1., 0.])], [array([[0.66666667, 0.        , 0.08      , 0.23      ]]), array([0., 1.])], [array([[1.     , 1.     , 0.12   , 0.12475]]), array([0., 1.])], [array([[1.   , 1.   , 0.66 , 0.095]]), array([1., 0.])], [array([[1.      , 1.      , 0.46    , 0.078958]]), array([1., 0.])], [array([[0.66666667, 0.        , 0.96      , 0.65      ]]), array([0., 1.])], [array([[0.66666667, 1.        , 0.0134    , 0.145     ]]), array([0., 1.])], [array([[1.      , 1.      , 0.56    , 0.077958]]), array([1., 0.])], [array([[0.66666667, 1.        , 0.36      , 0.115     ]]), array([1., 0.])], [array([[1.    , 1.    , 0.68  , 0.0805]]), array([1., 0.])], [array([[0.33333333, 0.        , 0.66      , 0.865     ]]), array([0., 1.])], [array([[1.     , 1.     , 0.82   , 0.07125]]), array([1., 0.])], [array([[1.      , 1.      , 0.4     , 0.072292]]), array([0., 1.])], [array([[0.33333333, 0.        , 0.72      , 1.2       ]]), array([0., 1.])], [array([[1.     , 1.     , 0.32   , 0.07775]]), array([1., 0.])], [array([[0.33333333, 0.        , 1.02      , 0.779583  ]]), array([0., 1.])], [array([[1.    , 0.    , 0.61  , 0.0775]]), array([1., 0.])], [array([[1.      , 1.      , 0.64    , 0.083625]]), array([1., 0.])], [array([[1.   , 1.   , 0.48 , 0.095]]), array([1., 0.])], [array([[1.      , 1.      , 0.96    , 0.078542]]), array([1., 0.])], [array([[0.66666667, 0.        , 1.14      , 0.105     ]]), array([1., 0.])], [array([[0.66666667, 0.        , 1.08      , 0.23      ]]), array([0., 1.])], [array([[1.    , 1.    , 0.36  , 0.0775]]), array([1., 0.])], [array([[1.     , 0.     , 0.1    , 0.12475]]), array([0., 1.])], [array([[0.33333333, 0.        , 0.86      , 2.113375  ]]), array([0., 1.])], [array([[1.      , 0.      , 0.26    , 0.072292]]), array([0., 1.])], [array([[0.33333333, 0.        , 0.34      , 0.57      ]]), array([0., 1.])], [array([[0.33333333, 1.        , 0.58      , 0.3       ]]), array([1., 0.])], [array([[1.    , 1.    , 0.5   , 0.0705]]), array([1., 0.])], [array([[1.    , 1.    , 0.5   , 0.0725]]), array([1., 0.])], [array([[1.      , 0.      , 0.36    , 0.074958]]), array([0., 1.])], [array([[1.     , 1.     , 0.16   , 0.29125]]), array([1., 0.])], [array([[1.     , 1.     , 0.02   , 0.20575]]), array([0., 1.])], [array([[0.33333333, 1.        , 0.92      , 0.792     ]]), array([1., 0.])], [array([[0.66666667, 1.        , 0.32      , 0.26      ]]), array([1., 0.])], [array([[1.      , 1.      , 0.5     , 0.078958]]), array([1., 0.])], [array([[0.66666667, 1.        , 0.78      , 0.13      ]]), array([1., 0.])], [array([[0.33333333, 0.        , 0.98      , 0.259292  ]]), array([0., 1.])], [array([[1.      , 0.      , 0.62    , 0.086833]]), array([0., 1.])], [array([[1.      , 1.      , 0.6     , 0.072292]]), array([1., 0.])], [array([[1.    , 0.    , 0.6   , 0.2415]]), array([1., 0.])], [array([[0.66666667, 1.        , 0.68      , 0.13      ]]), array([1., 0.])], [array([[0.66666667, 0.        , 0.62      , 0.2625    ]]), array([0., 1.])], [array([[0.33333333, 1.        , 0.22      , 1.2       ]]), array([0., 1.])], [array([[1.      , 1.      , 0.0084  , 0.085167]]), array([0., 1.])], [array([[1.     , 1.     , 0.54   , 0.06975]]), array([0., 1.])], [array([[1.     , 1.     , 0.62   , 0.07775]]), array([1., 0.])], [array([[0.33333333, 1.        , 0.78      , 0.        ]]), array([1., 0.])], [array([[1.     , 0.     , 0.36   , 0.07775]]), array([1., 0.])], [array([[0.66666667, 1.        , 0.78      , 0.13      ]]), array([1., 0.])], [array([[0.33333333, 0.        , 0.66      , 0.531     ]]), array([0., 1.])], [array([[1.      , 1.      , 0.52    , 0.078875]]), array([1., 0.])], [array([[1.    , 1.    , 0.78  , 0.2415]]), array([1., 0.])], [array([[0.66666667, 1.        , 0.7       , 0.105     ]]), array([1., 0.])], [array([[1.     , 0.     , 0.12   , 0.31275]]), array([1., 0.])], [array([[1.    , 1.    , 0.61  , 0.0805]]), array([1., 0.])], [array([[1.     , 0.     , 0.46   , 0.07925]]), array([1., 0.])], [array([[0.66666667, 1.        , 0.62      , 0.370042  ]]), array([1., 0.])], [array([[1.    , 1.    , 0.86  , 0.0645]]), array([1., 0.])], [array([[1.   , 1.   , 0.2  , 0.279]]), array([1., 0.])], [array([[0.33333333, 0.        , 1.04      , 0.935     ]]), array([0., 1.])], [array([[1.      , 1.      , 0.54    , 0.086625]]), array([0., 1.])], [array([[0.33333333, 1.        , 0.76      , 0.        ]]), array([1., 0.])], [array([[1.     , 0.     , 0.54   , 0.12475]]), array([0., 1.])], [array([[1.      , 1.      , 0.04    , 0.396875]]), array([1., 0.])], [array([[0.66666667, 1.        , 0.02      , 0.370042  ]]), array([0., 1.])], [array([[0.33333333, 0.        , 1.24      , 0.8       ]]), array([0., 1.])], [array([[1.      , 0.      , 0.3     , 0.144542]]), array([0., 1.])], [array([[0.66666667, 1.        , 0.0166    , 0.1875    ]]), array([0., 1.])], [array([[1.      , 1.      , 0.46    , 0.078542]]), array([1., 0.])], [array([[1.   , 1.   , 0.36 , 0.083]]), array([1., 0.])], [array([[0.33333333, 0.        , 0.78      , 0.831583  ]]), array([0., 1.])], [array([[1.      , 1.      , 0.42    , 0.086625]]), array([1., 0.])], [array([[1.      , 1.      , 0.64    , 0.564958]]), array([0., 1.])], [array([[1.     , 1.     , 0.4    , 0.07925]]), array([1., 0.])], [array([[0.66666667, 1.        , 0.32      , 0.105     ]]), array([1., 0.])], [array([[0.33333333, 0.        , 0.6       , 0.31      ]]), array([0., 1.])], [array([[1.      , 1.      , 0.69    , 0.064375]]), array([1., 0.])], [array([[1.      , 1.      , 0.34    , 0.086625]]), array([1., 0.])], [array([[1.    , 1.    , 0.84  , 0.0755]]), array([1., 0.])], [array([[1.      , 1.      , 0.7     , 0.078958]]), array([1., 0.])], [array([[0.66666667, 1.        , 0.56      , 0.33      ]]), array([1., 0.])], [array([[1.     , 1.     , 0.08   , 0.31275]]), array([1., 0.])], [array([[1.     , 1.     , 1.48   , 0.07775]]), array([1., 0.])], [array([[1.      , 0.      , 0.18    , 0.152458]]), array([1., 0.])], [array([[0.33333333, 0.        , 0.32      , 0.394     ]]), array([0., 1.])], [array([[0.66666667, 0.        , 0.88      , 0.26      ]]), array([1., 0.])], [array([[1.    , 0.    , 0.36  , 0.0935]]), array([0., 1.])], [array([[0.33333333, 0.        , 0.9       , 1.648667  ]]), array([0., 1.])], [array([[0.33333333, 1.        , 1.02      , 0.2655    ]]), array([0., 1.])], [array([[1.      , 0.      , 0.48    , 0.192583]]), array([0., 1.])], [array([[1.      , 1.      , 0.82    , 0.141083]]), array([1., 0.])], [array([[0.66666667, 1.        , 0.42      , 0.115     ]]), array([1., 0.])], [array([[0.33333333, 0.        , 0.96      , 0.259292  ]]), array([0., 1.])], [array([[0.66666667, 1.        , 0.48      , 0.13      ]]), array([1., 0.])], [array([[0.66666667, 0.        , 0.84      , 0.13      ]]), array([0., 1.])], [array([[0.66666667, 0.        , 0.54      , 0.138583  ]]), array([0., 1.])], [array([[0.33333333, 1.        , 0.62      , 0.504958  ]]), array([1., 0.])], [array([[1.      , 1.      , 0.08    , 0.111333]]), array([0., 1.])], [array([[1.      , 1.      , 0.52    , 0.078958]]), array([1., 0.])], [array([[0.33333333, 0.        , 0.94      , 0.525542  ]]), array([0., 1.])], [array([[0.33333333, 1.        , 0.66      , 0.05      ]]), array([1., 0.])], [array([[1.  , 1.  , 0.94, 0.09]]), array([1., 0.])], [array([[0.66666667, 0.        , 0.56      , 0.24      ]]), array([0., 1.])], [array([[1.     , 0.     , 0.3    , 0.07225]]), array([0., 1.])], [array([[1.      , 1.      , 0.4     , 0.098458]]), array([1., 0.])], [array([[1.      , 1.      , 0.38    , 0.078958]]), array([1., 0.])], [array([[0.33333333, 0.        , 1.12      , 0.831583  ]]), array([0., 1.])], [array([[0.66666667, 0.        , 0.5       , 0.26      ]]), array([0., 1.])], [array([[1.      , 1.      , 0.66    , 0.078958]]), array([1., 0.])], [array([[1.      , 0.      , 0.44    , 0.105167]]), array([1., 0.])], [array([[0.66666667, 1.        , 0.56      , 0.105     ]]), array([1., 0.])], [array([[1.    , 1.    , 0.5   , 0.0705]]), array([1., 0.])], [array([[1.     , 0.     , 0.78   , 0.29125]]), array([1., 0.])], [array([[0.66666667, 1.        , 0.54      , 0.13      ]]), array([1., 0.])], [array([[0.33333333, 0.        , 0.38      , 0.3       ]]), array([0., 1.])], [array([[0.33333333, 1.        , 0.52      , 0.3       ]]), array([0., 1.])], [array([[1.    , 1.    , 0.64  , 0.0775]]), array([1., 0.])]]\n"
     ]
    }
   ],
   "source": [
    "from pandas import DataFrame\n",
    "\n",
    "data = np.genfromtxt(\"train.csv\", delimiter=\",\")\n",
    "dataset = []\n",
    "\n",
    "raw_pyhton_dataset = []\n",
    "\n",
    "\n",
    "for row in data[1:]:\n",
    "    raw_pyhton_dataset.append([row[2]/3, row[4], row[5] / 50, row[9] / 100, int(row[1])])\n",
    "\n",
    "\n",
    "raw_dataset = DataFrame(raw_pyhton_dataset)\n",
    "res = raw_dataset.dropna(axis=0)\n",
    "res = res.to_numpy()\n",
    "\n",
    "for i in range(714):\n",
    "    row = res[i]\n",
    "    data = [0., 0.]\n",
    "    data[int(row[4])] = 1.0\n",
    "    # data = 0.0\n",
    "    # if int(row[4]):\n",
    "    #     data = 1.0\n",
    "    out = np.array(data)\n",
    "    dataset_row = [np.array([[row[0], row[1], row[2], row[3]]]),  np.array(out)]\n",
    "    \n",
    "    dataset.append( dataset_row )\n",
    "    # print([np.array([row[0], row[1], row[2], row[3]]), np.array([row[3]]) ] )\n",
    "# print(raw_dataset)\n",
    "\n",
    "# for i in res[:10]:\n",
    "#     print(res[i])\n",
    "    \n",
    "print(dataset)"
   ]
  },
  {
   "cell_type": "code",
   "execution_count": 55,
   "id": "4d17bc9f-cd19-4c95-b342-148f28265bed",
   "metadata": {},
   "outputs": [],
   "source": [
    "import pandas as pd\n",
    "from sklearn.preprocessing import LabelEncoder\n",
    "import numpy as np\n",
    "from sklearn.metrics import accuracy_score, classification_report, confusion_matrix"
   ]
  },
  {
   "cell_type": "code",
   "execution_count": 56,
   "id": "fcc5b6b5-9e14-45b9-8918-212fe718cf86",
   "metadata": {},
   "outputs": [],
   "source": [
    "data_train_csv = pd.read_csv('train.csv', sep=',')\n",
    "data_test_csv = pd.read_csv('test.csv', sep=',')\n",
    "data_test_csv['Survived'] = pd.read_csv('gender_submission.csv', sep=',')['Survived']\n",
    "\n",
    "data_train = data_train_csv.drop(['Name', 'Ticket', 'Cabin'], axis=1)\n",
    "data_train = data_train.dropna()\n",
    "\n",
    "X_train = data_train.drop(['Survived'], axis=1)\n",
    "y_train = data_train['Survived']\n",
    "\n",
    "data_test = data_test_csv.drop(['Name', 'Ticket', 'Cabin'], axis=1)\n",
    "data_test = data_test.dropna()\n",
    "X_test = data_test.drop(['Survived', 'PassengerId', 'SibSp', 'Parch', 'Embarked'], axis=1)\n",
    "y_test = data_test['Survived']\n",
    "\n",
    "le = LabelEncoder()\n",
    "X_train['Sex'] = le.fit_transform(X_train['Sex'])\n",
    "X_train['Embarked'] = le.fit_transform(X_train['Embarked'])\n",
    "X_test['Sex'] = le.fit_transform(X_test['Sex'])\n",
    "# X_test['Embarked'] = le.fit_transform(X_test['Embarked'])\n",
    "# loaded_model.predict(dataset)"
   ]
  },
  {
   "cell_type": "code",
   "execution_count": 70,
   "id": "5fac3a6b-60cd-48c7-a517-6222de6330f6",
   "metadata": {},
   "outputs": [
    {
     "data": {
      "text/plain": [
       "0      0\n",
       "1      1\n",
       "2      0\n",
       "3      0\n",
       "4      1\n",
       "      ..\n",
       "409    1\n",
       "411    1\n",
       "412    1\n",
       "414    1\n",
       "415    0\n",
       "Name: Survived, Length: 331, dtype: int64"
      ]
     },
     "execution_count": 70,
     "metadata": {},
     "output_type": "execute_result"
    }
   ],
   "source": [
    "# Pclass, Sex, Age, Fare, Survived\n",
    "X_test\n",
    "y_test"
   ]
  },
  {
   "cell_type": "code",
   "execution_count": 59,
   "id": "1e150c4d-f8eb-4a34-9011-0fb9d314ddeb",
   "metadata": {},
   "outputs": [
    {
     "data": {
      "text/plain": [
       "'kernel:0'"
      ]
     },
     "execution_count": 59,
     "metadata": {},
     "output_type": "execute_result"
    }
   ],
   "source": [
    "st = 'dense/kernel:0'\n",
    "a = st.split('/')[1]\n",
    "a"
   ]
  },
  {
   "cell_type": "code",
   "execution_count": 57,
   "id": "b9c6ea1c-4289-4d74-bb8f-0aa3c26bdeb7",
   "metadata": {},
   "outputs": [
    {
     "name": "stdout",
     "output_type": "stream",
     "text": [
      "11/11 [==============================] - 0s 2ms/step\n"
     ]
    }
   ],
   "source": [
    "y_probabilities = loaded_model.predict(X_test)\n",
    "\n",
    "# Применяем аргмакс, чтобы получить предсказанные классы\n",
    "y_pred = np.argmax(y_probabilities, axis=1)\n",
    "\n",
    "accuracy = accuracy_score(y_test, y_pred)\n",
    "conf_matrix = confusion_matrix(y_test, y_pred)\n",
    "class_report = classification_report(y_test, y_pred)"
   ]
  },
  {
   "cell_type": "code",
   "execution_count": 60,
   "id": "3c7891c1-a735-419b-9132-778a1177140f",
   "metadata": {},
   "outputs": [
    {
     "name": "stdout",
     "output_type": "stream",
     "text": [
      "Accuracy: 0.6465256797583081\n",
      "Confusion Matrix:\n",
      "[[181  23]\n",
      " [ 94  33]]\n",
      "Classification Report:\n",
      "              precision    recall  f1-score   support\n",
      "\n",
      "           0       0.66      0.89      0.76       204\n",
      "           1       0.59      0.26      0.36       127\n",
      "\n",
      "    accuracy                           0.65       331\n",
      "   macro avg       0.62      0.57      0.56       331\n",
      "weighted avg       0.63      0.65      0.60       331\n",
      "\n"
     ]
    }
   ],
   "source": [
    "print(f'Accuracy: {accuracy}')\n",
    "print(f'Confusion Matrix:\\n{conf_matrix}')\n",
    "print(f'Classification Report:\\n{class_report}')"
   ]
  },
  {
   "cell_type": "code",
   "execution_count": 14,
   "id": "02e334b4-fd86-4d45-9905-46687685fbda",
   "metadata": {},
   "outputs": [],
   "source": [
    "dicti = {}\n",
    "# dicti[\"class_name\"] = \"Seq\""
   ]
  },
  {
   "cell_type": "code",
   "execution_count": 36,
   "id": "eebabea3-c278-4a6a-b6e5-b0aca50a5cdb",
   "metadata": {},
   "outputs": [],
   "source": [
    "dicti[\"class_name\"] = \"Sequential\" if model.__class__.__name__ == 'Model' else 'Another_class'\n",
    "config = {}\n",
    "config['name'] = dicti['class_name'].lower()\n",
    "layers = []\n",
    "denses = model.layers\n",
    "for i in range(len(denses)):\n",
    "    dense = denses[i]\n",
    "    \n",
    "    \n",
    "    l_dense = {}\n",
    "    l_dense[\"module\"] = 'keras.layer'\n",
    "    l_dense['class_name'] = 'InputLayer' if dense.__class__.__name__ == 'InputLayer' else 'Dense'\n",
    "    d_conf = {}\n",
    "    d_conf[\"batch_input_shape\"] = [None, \n",
    "                                   dense.get_outs_number() if l_dense['class_name'] == 'InputLayer' else dense.prev_layer.get_outs_number()]\n",
    "    \n",
    "    name = 'dense' if (not l_dense['class_name'] == 'InputLayer' and i == 1) else f'dense_{i-1}' \n",
    "    \n",
    "    if l_dense['class_name'] == 'InputLayer':\n",
    "        l_dense[\"dtype\"] = 'float32'\n",
    "        l_dense[\"sparse\"] = False\n",
    "        l_dense[\"ragged\"] = False\n",
    "        l_dense[\"name\"] = 'dense_input'\n",
    "    else:\n",
    "        d_conf['name'] = name\n",
    "        d_conf['trainable'] = True\n",
    "        d_conf['dtype'] = 'float32'\n",
    "        d_conf['units'] = dense.get_outs_number()\n",
    "        d_conf['activation'] = dense.func.__name__\n",
    "        d_conf['use_bias'] = True\n",
    "\n",
    "        kernel_init = {}\n",
    "        kernel_init[\"module\"] = 'keras.initializers'\n",
    "        kernel_init[\"class_name\"] = 'RandomUniform'\n",
    "        kernel_init[\"config\"] = {}\n",
    "        kernel_init[\"registered_name\"] = None\n",
    "\n",
    "        bias_init = {}\n",
    "        bias_init[\"module\"] = 'keras.initializers'\n",
    "        bias_init[\"class_name\"] = 'RandomUniform'\n",
    "        bias_init[\"config\"] = {}\n",
    "        bias_init[\"registered_name\"] = None\n",
    "\n",
    "        d_conf['kernel_initializer'] = kernel_init\n",
    "        d_conf['bias_initializer'] = bias_init\n",
    "\n",
    "        d_conf[\"kernel_regularizer\"] = None\n",
    "        d_conf[\"bias_regularizer\"] = None \n",
    "        d_conf[\"activity_regularizer\"] = None\n",
    "        d_conf[\"kernel_constraint\"] = None\n",
    "        d_conf[\"bias_constraint\"] = None  \n",
    "\n",
    "    l_dense['config'] = d_conf\n",
    "\n",
    "        \n",
    "    layers.append(l_dense)\n",
    "\n",
    "config[\"layers\"] = layers\n",
    "dicti[\"config\"] = config"
   ]
  },
  {
   "cell_type": "code",
   "execution_count": 42,
   "id": "912ef893-f966-4a9c-abaf-0d0191b7530c",
   "metadata": {},
   "outputs": [],
   "source": [
    "with open('our_model_auto.json', 'w') as fp:\n",
    "    # strr = json.dumps(dicti)\n",
    "    json.dump(dicti, fp)"
   ]
  },
  {
   "cell_type": "code",
   "execution_count": 43,
   "id": "83ba1b41-b932-48ac-abb8-3a743d1b6506",
   "metadata": {
    "scrolled": true
   },
   "outputs": [
    {
     "name": "stdout",
     "output_type": "stream",
     "text": [
      "{\n",
      "  \"class_name\": \"Sequential\",\n",
      "  \"config\": {\n",
      "    \"name\": \"sequential\",\n",
      "    \"layers\": [\n",
      "      {\n",
      "        \"module\": \"keras.layer\",\n",
      "        \"class_name\": \"InputLayer\",\n",
      "        \"dtype\": \"float32\",\n",
      "        \"sparse\": false,\n",
      "        \"ragged\": false,\n",
      "        \"name\": \"dense_input\",\n",
      "        \"config\": {\n",
      "          \"batch_input_shape\": [\n",
      "            null,\n",
      "            4\n",
      "          ]\n",
      "        }\n",
      "      },\n",
      "      {\n",
      "        \"module\": \"keras.layer\",\n",
      "        \"class_name\": \"Dense\",\n",
      "        \"config\": {\n",
      "          \"batch_input_shape\": [\n",
      "            null,\n",
      "            4\n",
      "          ],\n",
      "          \"name\": \"dense\",\n",
      "          \"trainable\": true,\n",
      "          \"dtype\": \"float32\",\n",
      "          \"units\": 20,\n",
      "          \"activation\": \"relu\",\n",
      "          \"use_bias\": true,\n",
      "          \"kernel_initializer\": {\n",
      "            \"module\": \"keras.initializers\",\n",
      "            \"class_name\": \"RandomUniform\",\n",
      "            \"config\": {},\n",
      "            \"registered_name\": null\n",
      "          },\n",
      "          \"bias_initializer\": {\n",
      "            \"module\": \"keras.initializers\",\n",
      "            \"class_name\": \"RandomUniform\",\n",
      "            \"config\": {},\n",
      "            \"registered_name\": null\n",
      "          },\n",
      "          \"kernel_regularizer\": null,\n",
      "          \"bias_regularizer\": null,\n",
      "          \"activity_regularizer\": null,\n",
      "          \"kernel_constraint\": null,\n",
      "          \"bias_constraint\": null\n",
      "        }\n",
      "      },\n",
      "      {\n",
      "        \"module\": \"keras.layer\",\n",
      "        \"class_name\": \"Dense\",\n",
      "        \"config\": {\n",
      "          \"batch_input_shape\": [\n",
      "            null,\n",
      "            20\n",
      "          ],\n",
      "          \"name\": \"dense_1\",\n",
      "          \"trainable\": true,\n",
      "          \"dtype\": \"float32\",\n",
      "          \"units\": 10,\n",
      "          \"activation\": \"relu\",\n",
      "          \"use_bias\": true,\n",
      "          \"kernel_initializer\": {\n",
      "            \"module\": \"keras.initializers\",\n",
      "            \"class_name\": \"RandomUniform\",\n",
      "            \"config\": {},\n",
      "            \"registered_name\": null\n",
      "          },\n",
      "          \"bias_initializer\": {\n",
      "            \"module\": \"keras.initializers\",\n",
      "            \"class_name\": \"RandomUniform\",\n",
      "            \"config\": {},\n",
      "            \"registered_name\": null\n",
      "          },\n",
      "          \"kernel_regularizer\": null,\n",
      "          \"bias_regularizer\": null,\n",
      "          \"activity_regularizer\": null,\n",
      "          \"kernel_constraint\": null,\n",
      "          \"bias_constraint\": null\n",
      "        }\n",
      "      },\n",
      "      {\n",
      "        \"module\": \"keras.layer\",\n",
      "        \"class_name\": \"Dense\",\n",
      "        \"config\": {\n",
      "          \"batch_input_shape\": [\n",
      "            null,\n",
      "            10\n",
      "          ],\n",
      "          \"name\": \"dense_2\",\n",
      "          \"trainable\": true,\n",
      "          \"dtype\": \"float32\",\n",
      "          \"units\": 2,\n",
      "          \"activation\": \"softmax\",\n",
      "          \"use_bias\": true,\n",
      "          \"kernel_initializer\": {\n",
      "            \"module\": \"keras.initializers\",\n",
      "            \"class_name\": \"RandomUniform\",\n",
      "            \"config\": {},\n",
      "            \"registered_name\": null\n",
      "          },\n",
      "          \"bias_initializer\": {\n",
      "            \"module\": \"keras.initializers\",\n",
      "            \"class_name\": \"RandomUniform\",\n",
      "            \"config\": {},\n",
      "            \"registered_name\": null\n",
      "          },\n",
      "          \"kernel_regularizer\": null,\n",
      "          \"bias_regularizer\": null,\n",
      "          \"activity_regularizer\": null,\n",
      "          \"kernel_constraint\": null,\n",
      "          \"bias_constraint\": null\n",
      "        }\n",
      "      }\n",
      "    ]\n",
      "  }\n",
      "}\n"
     ]
    }
   ],
   "source": [
    "import json\n",
    "print(json.dumps(dicti, indent=2))"
   ]
  },
  {
   "cell_type": "code",
   "execution_count": 72,
   "id": "15fc2925-baca-4200-9998-532dbed739e0",
   "metadata": {},
   "outputs": [
    {
     "name": "stdout",
     "output_type": "stream",
     "text": [
      "<ClassModules.Adam object at 0x0000023463EF68D0>\n",
      "<ClassModules.Adam object at 0x0000023462671E90>\n",
      "<ClassModules.Adam object at 0x0000023464744B50>\n"
     ]
    }
   ],
   "source": [
    "denses = model.layers[1:]\n",
    "for i in range(len(denses)):\n",
    "    dense = denses[i]\n",
    "    print(dense.optimizer1)"
   ]
  },
  {
   "cell_type": "code",
   "execution_count": 97,
   "id": "97804d04-be22-467d-90db-b163f15ec42a",
   "metadata": {
    "scrolled": true
   },
   "outputs": [
    {
     "name": "stdout",
     "output_type": "stream",
     "text": [
      "<h5py.h5f.FileID object at 0x00000234766A2E80> b'/' <h5py.h5p.PropLAID object at 0x000002346FEA2A20>\n",
      "{\n",
      "  \"class_name\": \"Sequential\",\n",
      "  \"config\": {\n",
      "    \"name\": \"sequential\",\n",
      "    \"layers\": [\n",
      "      {\n",
      "        \"module\": \"keras.layer\",\n",
      "        \"class_name\": \"InputLayer\",\n",
      "        \"dtype\": \"float32\",\n",
      "        \"sparse\": false,\n",
      "        \"ragged\": false,\n",
      "        \"name\": \"dense_input\",\n",
      "        \"config\": {\n",
      "          \"batch_input_shape\": [\n",
      "            null,\n",
      "            4\n",
      "          ]\n",
      "        }\n",
      "      },\n",
      "      {\n",
      "        \"module\": \"keras.layer\",\n",
      "        \"class_name\": \"Dense\",\n",
      "        \"config\": {\n",
      "          \"batch_input_shape\": [\n",
      "            null,\n",
      "            4\n",
      "          ],\n",
      "          \"name\": \"dense\",\n",
      "          \"trainable\": true,\n",
      "          \"dtype\": \"float32\",\n",
      "          \"units\": 20,\n",
      "          \"activation\": \"relu\",\n",
      "          \"use_bias\": true,\n",
      "          \"kernel_initializer\": {\n",
      "            \"module\": \"keras.initializers\",\n",
      "            \"class_name\": \"RandomUniform\",\n",
      "            \"config\": {},\n",
      "            \"registered_name\": null\n",
      "          },\n",
      "          \"bias_initializer\": {\n",
      "            \"module\": \"keras.initializers\",\n",
      "            \"class_name\": \"RandomUniform\",\n",
      "            \"config\": {},\n",
      "            \"registered_name\": null\n",
      "          },\n",
      "          \"kernel_regularizer\": null,\n",
      "          \"bias_regularizer\": null,\n",
      "          \"activity_regularizer\": null,\n",
      "          \"kernel_constraint\": null,\n",
      "          \"bias_constraint\": null\n",
      "        }\n",
      "      },\n",
      "      {\n",
      "        \"module\": \"keras.layer\",\n",
      "        \"class_name\": \"Dense\",\n",
      "        \"config\": {\n",
      "          \"batch_input_shape\": [\n",
      "            null,\n",
      "            20\n",
      "          ],\n",
      "          \"name\": \"dense_1\",\n",
      "          \"trainable\": true,\n",
      "          \"dtype\": \"float32\",\n",
      "          \"units\": 10,\n",
      "          \"activation\": \"relu\",\n",
      "          \"use_bias\": true,\n",
      "          \"kernel_initializer\": {\n",
      "            \"module\": \"keras.initializers\",\n",
      "            \"class_name\": \"RandomUniform\",\n",
      "            \"config\": {},\n",
      "            \"registered_name\": null\n",
      "          },\n",
      "          \"bias_initializer\": {\n",
      "            \"module\": \"keras.initializers\",\n",
      "            \"class_name\": \"RandomUniform\",\n",
      "            \"config\": {},\n",
      "            \"registered_name\": null\n",
      "          },\n",
      "          \"kernel_regularizer\": null,\n",
      "          \"bias_regularizer\": null,\n",
      "          \"activity_regularizer\": null,\n",
      "          \"kernel_constraint\": null,\n",
      "          \"bias_constraint\": null\n",
      "        }\n",
      "      },\n",
      "      {\n",
      "        \"module\": \"keras.layer\",\n",
      "        \"class_name\": \"Dense\",\n",
      "        \"config\": {\n",
      "          \"batch_input_shape\": [\n",
      "            null,\n",
      "            10\n",
      "          ],\n",
      "          \"name\": \"dense_2\",\n",
      "          \"trainable\": true,\n",
      "          \"dtype\": \"float32\",\n",
      "          \"units\": 2,\n",
      "          \"activation\": \"softmax\",\n",
      "          \"use_bias\": true,\n",
      "          \"kernel_initializer\": {\n",
      "            \"module\": \"keras.initializers\",\n",
      "            \"class_name\": \"RandomUniform\",\n",
      "            \"config\": {},\n",
      "            \"registered_name\": null\n",
      "          },\n",
      "          \"bias_initializer\": {\n",
      "            \"module\": \"keras.initializers\",\n",
      "            \"class_name\": \"RandomUniform\",\n",
      "            \"config\": {},\n",
      "            \"registered_name\": null\n",
      "          },\n",
      "          \"kernel_regularizer\": null,\n",
      "          \"bias_regularizer\": null,\n",
      "          \"activity_regularizer\": null,\n",
      "          \"kernel_constraint\": null,\n",
      "          \"bias_constraint\": null\n",
      "        }\n",
      "      }\n",
      "    ]\n",
      "  }\n",
      "}\n"
     ]
    }
   ],
   "source": [
    "with h5py.File(\"new_model.h5\", \"r\") as hf:\n",
    "    # Загружаем архитектуру\n",
    "    model_architecture = hf.attrs[\"model_architecture\"]\n",
    "    # print(model_architecture.__class__)\n",
    "    model_architecture = json.loads(json.loads(model_architecture))\n",
    "    print(json.dumps(model_architecture, indent=2))\n",
    "    "
   ]
  },
  {
   "cell_type": "code",
   "execution_count": 111,
   "id": "f260b29e-7414-489a-9977-7b3a9c33af41",
   "metadata": {},
   "outputs": [
    {
     "data": {
      "text/plain": [
       "[[4],\n",
       " [20, <function ClassModules.relu(t, dif=False)>],\n",
       " [20, <function ClassModules.relu(t, dif=False)>],\n",
       " [20, <function ClassModules.softmax(t, dif=False)>]]"
      ]
     },
     "execution_count": 111,
     "metadata": {},
     "output_type": "execute_result"
    }
   ],
   "source": [
    "new_model = []\n",
    "new_model.append([model_architecture['config']['layers'][0]['config']['batch_input_shape'][1]])\n",
    "# new_model.append([model_architecture['config']['layers'][1]['config']['units'], model_architecture['config']['layers'][1]['config'][\"activation\"]])\n",
    "# new_model.append([model_architecture['config']['layers'][2]['config']['units'], model_architecture['config']['layers'][2]['config'][\"activation\"]])\n",
    "# new_model.append([model_architecture['config']['layers'][3]['config']['units'], model_architecture['config']['layers'][3]['config'][\"activation\"]])\n",
    "new_model.append([model_architecture['config']['layers'][1]['config']['units'], relu])\n",
    "new_model.append([model_architecture['config']['layers'][1]['config']['units'], relu])\n",
    "new_model.append([model_architecture['config']['layers'][1]['config']['units'], softmax])\n",
    "new_model"
   ]
  },
  {
   "cell_type": "code",
   "execution_count": 112,
   "id": "8d6b56fe-df81-4b9d-9833-3e58fa627cbc",
   "metadata": {},
   "outputs": [],
   "source": [
    "m = Model(new_model, 'Adam')"
   ]
  },
  {
   "cell_type": "code",
   "execution_count": 114,
   "id": "1901f2e7-9495-42ad-b5d2-98b7f08957ee",
   "metadata": {},
   "outputs": [
    {
     "name": "stdout",
     "output_type": "stream",
     "text": [
      "714\n",
      "0.8305322128851541\n"
     ]
    },
    {
     "data": {
      "image/png": "[encoded data removed]",
      "text/plain": [
       "<Figure size 640x480 with 1 Axes>"
      ]
     },
     "metadata": {},
     "output_type": "display_data"
    }
   ],
   "source": [
    "from ClassModules import *\n",
    "import save_model as sm\n",
    "\n",
    "from pandas import DataFrame\n",
    "\n",
    "data = np.genfromtxt(\"train.csv\", delimiter=\",\")\n",
    "dataset = []\n",
    "\n",
    "raw_pyhton_dataset = []\n",
    "\n",
    "# Pclass, Sex, Age, Fare, Survived\n",
    "for row in data[1:]:\n",
    "    raw_pyhton_dataset.append([row[2]/3, row[4], row[5] / 50, row[9] / 100, int(row[1])])\n",
    "\n",
    "\n",
    "raw_dataset = DataFrame(raw_pyhton_dataset)\n",
    "res = raw_dataset.dropna(axis=0)\n",
    "res = res.to_numpy()\n",
    "\n",
    "for i in range(714):\n",
    "    row = res[i]\n",
    "    data = [0., 0.]\n",
    "    data[int(row[4])] = 1.0\n",
    "    # data = 0.0\n",
    "    # if int(row[4]):\n",
    "    #     data = 1.0\n",
    "    out = np.array(data)\n",
    "    dataset_row = [np.array([[row[0], row[1], row[2], row[3]]]),  np.array(out)]\n",
    "    \n",
    "    dataset.append( dataset_row )\n",
    "    # print([np.array([row[0], row[1], row[2], row[3]]), np.array([row[3]]) ] )\n",
    "# print(raw_dataset)\n",
    "\n",
    "# for i in res[:10]:\n",
    "#     print(res[i])\n",
    "    \n",
    "print(len(dataset))\n",
    "# for i in range(30):\n",
    "#     print(m.predict(dataset[i][0]), dataset[i][1])\n",
    "\n",
    "print(model.calc_accuracy(dataset))\n",
    "\n",
    "# восстановить\n",
    "import matplotlib.pyplot as plt\n",
    "plt.plot(loss_arr)\n",
    "plt.plot(accuracy_arr)\n",
    "plt.show()"
   ]
  },
  {
   "cell_type": "code",
   "execution_count": null,
   "id": "4458c970-1640-4f02-a96f-746d4b94e71b",
   "metadata": {},
   "outputs": [],
   "source": [
    "from keras.models import model_from_json\n",
    "import h5py\n",
    "with h5py.File(\"new_model.h5\", \"r\") as hf:\n",
    "    # Загружаем архитектуру\n",
    "    model_architecture = hf.attrs[\"model_architecture\"]\n",
    "    loaded_model = model_from_json(model_architecture)\n",
    "\n",
    "    # Загружаем веса\n",
    "    for layer in loaded_model.layers:\n",
    "        # print(layer, '\\n')\n",
    "        for weight in layer.weights:\n",
    "            weight_value = hf[layer.name][weight.name.split('/')[1]][...]\n",
    "            weight.assign(weight_value)"
   ]
  }
 ],
 "metadata": {
  "kernelspec": {
   "display_name": "Python 3 (ipykernel)",
   "language": "python",
   "name": "python3"
  },
  "language_info": {
   "codemirror_mode": {
    "name": "ipython",
    "version": 3
   },
   "file_extension": ".py",
   "mimetype": "text/x-python",
   "name": "python",
   "nbconvert_exporter": "python",
   "pygments_lexer": "ipython3",
   "version": "3.11.5"
  }
 },
 "nbformat": 4,
 "nbformat_minor": 5
}
