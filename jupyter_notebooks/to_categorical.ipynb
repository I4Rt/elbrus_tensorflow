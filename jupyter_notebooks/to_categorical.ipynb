{
 "cells": [
  {
   "cell_type": "code",
   "execution_count": 1,
   "id": "9bc98b8f-a9f6-468a-9056-cb191d9f9a5f",
   "metadata": {},
   "outputs": [
    {
     "name": "stdout",
     "output_type": "stream",
     "text": [
      "WARNING:tensorflow:From C:\\Python311\\Lib\\site-packages\\keras\\src\\losses.py:2976: The name tf.losses.sparse_softmax_cross_entropy is deprecated. Please use tf.compat.v1.losses.sparse_softmax_cross_entropy instead.\n",
      "\n"
     ]
    }
   ],
   "source": [
    "import keras.utils\n",
    "import numpy as np"
   ]
  },
  {
   "cell_type": "code",
   "execution_count": 4,
   "id": "6d080d32-a328-4126-957f-7a6d0a78b1d7",
   "metadata": {},
   "outputs": [
    {
     "data": {
      "text/plain": [
       "array([[0., 0., 0., 1., 0., 0., 0., 0., 0., 0., 0.],\n",
       "       [0., 0., 1., 0., 0., 0., 0., 0., 0., 0., 0.],\n",
       "       [0., 0., 0., 1., 0., 0., 0., 0., 0., 0., 0.],\n",
       "       [0., 0., 0., 0., 0., 1., 0., 0., 0., 0., 0.],\n",
       "       [0., 0., 0., 0., 0., 0., 0., 0., 0., 0., 1.]], dtype=float32)"
      ]
     },
     "execution_count": 4,
     "metadata": {},
     "output_type": "execute_result"
    }
   ],
   "source": [
    "keras.utils.to_categorical([[3],[2],[3],[5],[10]])"
   ]
  },
  {
   "cell_type": "code",
   "execution_count": 20,
   "id": "95fc1311-46f3-4223-8b4d-c73dbf9a7798",
   "metadata": {},
   "outputs": [
    {
     "name": "stdout",
     "output_type": "stream",
     "text": [
      "[[[1. 0. 0.]\n",
      "  [0. 1. 0.]]\n",
      "\n",
      " [[0. 0. 1.]\n",
      "  [0. 0. 1.]]]\n",
      "2\n"
     ]
    }
   ],
   "source": [
    "cat = keras.utils.to_categorical([[0, 1], [2, 2]])\n",
    "print(cat)\n",
    "print(len(cat))"
   ]
  },
  {
   "cell_type": "code",
   "execution_count": 45,
   "id": "ce6933e1-23dc-4223-913b-7f53b50dd0e7",
   "metadata": {},
   "outputs": [
    {
     "name": "stdout",
     "output_type": "stream",
     "text": [
      "[[[1. 0. 0.]\n",
      "  [0. 1. 0.]]\n",
      "\n",
      " [[0. 0. 1.]\n",
      "  [0. 0. 1.]]]\n",
      "[[0 1]\n",
      " [2 2]]\n",
      "[[0. 0.]\n",
      " [0. 0.]]\n"
     ]
    }
   ],
   "source": [
    "float_array = [.1, 1.1123, 3.043]\n",
    "float_array = [[0, 1], [2, 2]]\n",
    "print(keras.utils.to_categorical(float_array))\n",
    "int_array = np.array(float_array, dtype='int64')\n",
    "print(int_array)\n",
    "shape = int_array.shape\n",
    "print(np.zeros(shape))"
   ]
  },
  {
   "cell_type": "code",
   "execution_count": 21,
   "id": "c5b78c07-dfd9-42ed-95fe-334ed81d14df",
   "metadata": {},
   "outputs": [
    {
     "name": "stdout",
     "output_type": "stream",
     "text": [
      "[[1. 2. 3.]]\n",
      "3\n"
     ]
    }
   ],
   "source": [
    "a = np.array([1, 2, 3], ndmin=2, dtype='float32')\n",
    "print(a)\n",
    "print(len(a[0]))"
   ]
  },
  {
   "cell_type": "code",
   "execution_count": 46,
   "id": "741b744d-dc54-4e9f-b25a-1ccf91c3f2b2",
   "metadata": {},
   "outputs": [
    {
     "name": "stdout",
     "output_type": "stream",
     "text": [
      "[[[0. 0. 0. 0.]\n",
      "  [0. 0. 0. 0.]\n",
      "  [0. 0. 0. 0.]]\n",
      "\n",
      " [[0. 0. 0. 0.]\n",
      "  [0. 0. 0. 0.]\n",
      "  [0. 0. 0. 0.]]]\n",
      "(2, 3, 4)\n"
     ]
    }
   ],
   "source": [
    "y = np.zeros((2, 3, 4))\n",
    "print(y)\n",
    "# y.shape = (3, 8)\n",
    "print(y.shape)\n",
    "# y.shape = (3, 16)\n",
    "# y"
   ]
  },
  {
   "cell_type": "code",
   "execution_count": 88,
   "id": "a900a2ab-a571-4c1a-88a9-a27d27c4f231",
   "metadata": {},
   "outputs": [
    {
     "name": "stdout",
     "output_type": "stream",
     "text": [
      "[[1]\n",
      " [2]\n",
      " [4]]\n",
      "(3, 1)\n",
      "ye\n",
      "[1 2 4]\n",
      "batch 3\n",
      "num_classes 5\n",
      "[[0. 0. 0. 0. 0.]\n",
      " [0. 0. 0. 0. 0.]\n",
      " [0. 0. 0. 0. 0.]]\n",
      "[1. 1. 1.]\n",
      "[[0. 1. 0. 0. 0.]\n",
      " [0. 0. 1. 0. 0.]\n",
      " [0. 0. 0. 0. 1.]]\n",
      "out (3, 5)\n",
      "[[0. 1. 0. 0. 0.]\n",
      " [0. 0. 1. 0. 0.]\n",
      " [0. 0. 0. 0. 1.]]\n"
     ]
    },
    {
     "data": {
      "text/plain": [
       "array([[0., 1., 0., 0., 0.],\n",
       "       [0., 0., 1., 0., 0.],\n",
       "       [0., 0., 0., 0., 1.]])"
      ]
     },
     "execution_count": 88,
     "metadata": {},
     "output_type": "execute_result"
    }
   ],
   "source": [
    "def to_categorical(x, num_classes=None):\n",
    "    x = np.array(x, dtype=\"int64\")\n",
    "    print(x)\n",
    "    input_shape = x.shape\n",
    "    print(input_shape)\n",
    "    # Shrink the last dimension if the shape is (..., 1).\n",
    "    if input_shape and input_shape[-1] == 1 and len(input_shape) > 1:\n",
    "        print('ye')\n",
    "        input_shape = tuple(input_shape[:-1])\n",
    "\n",
    "    x = x.reshape(-1)\n",
    "    print(x)\n",
    "    if not num_classes:\n",
    "        num_classes = np.max(x) + 1\n",
    "    batch_size = x.shape[0]\n",
    "    print(f'batch {batch_size}\\nnum_classes {num_classes}')\n",
    "    categorical = np.zeros((batch_size, num_classes))\n",
    "    print(categorical)\n",
    "    categorical[np.arange(batch_size), x] = 1\n",
    "    print(categorical[np.arange(batch_size), x])\n",
    "    print(categorical)\n",
    "    output_shape = input_shape + (num_classes,)\n",
    "    print(f'out {output_shape}')\n",
    "    categorical = np.reshape(categorical, output_shape)\n",
    "    print(categorical)\n",
    "    return categorical\n",
    "\n",
    "# to_categorical([[1, 2], [2, 2], [3, 2]])\n",
    "to_categorical([[1], [2], [4]])\n",
    "# to_categorical([1, 2, 3])"
   ]
  },
  {
   "cell_type": "code",
   "execution_count": 50,
   "id": "4e86fd95-d2ac-422e-ae5d-e8b7144e9886",
   "metadata": {},
   "outputs": [
    {
     "name": "stdout",
     "output_type": "stream",
     "text": [
      "[1 2 3]\n",
      "(3,)\n"
     ]
    },
    {
     "data": {
      "text/plain": [
       "array([[0., 1., 0., 0.],\n",
       "       [0., 0., 1., 0.],\n",
       "       [0., 0., 0., 1.]])"
      ]
     },
     "execution_count": 50,
     "metadata": {},
     "output_type": "execute_result"
    }
   ],
   "source": [
    "to_categorical([1, 2, 3])"
   ]
  }
 ],
 "metadata": {
  "kernelspec": {
   "display_name": "Python 3 (ipykernel)",
   "language": "python",
   "name": "python3"
  },
  "language_info": {
   "codemirror_mode": {
    "name": "ipython",
    "version": 3
   },
   "file_extension": ".py",
   "mimetype": "text/x-python",
   "name": "python",
   "nbconvert_exporter": "python",
   "pygments_lexer": "ipython3",
   "version": "3.11.5"
  }
 },
 "nbformat": 4,
 "nbformat_minor": 5
}
