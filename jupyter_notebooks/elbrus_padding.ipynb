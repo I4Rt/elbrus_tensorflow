{
 "cells": [
  {
   "cell_type": "code",
   "execution_count": 1,
   "id": "c9aa573c-b036-47f2-b665-2ca4474a7104",
   "metadata": {},
   "outputs": [
    {
     "name": "stdout",
     "output_type": "stream",
     "text": [
      "WARNING:tensorflow:From C:\\Python311\\Lib\\site-packages\\keras\\src\\losses.py:2976: The name tf.losses.sparse_softmax_cross_entropy is deprecated. Please use tf.compat.v1.losses.sparse_softmax_cross_entropy instead.\n",
      "\n"
     ]
    }
   ],
   "source": [
    "import numpy as np\n",
    "from keras.layers import ZeroPadding2D"
   ]
  },
  {
   "cell_type": "code",
   "execution_count": 37,
   "id": "49436f7b-c3c6-4e4f-b696-6c48061f75d0",
   "metadata": {
    "scrolled": true
   },
   "outputs": [
    {
     "name": "stdout",
     "output_type": "stream",
     "text": [
      "[[[[1 2 3]]]]\n",
      "[[[[0 1]\n",
      "   [2 3]\n",
      "   [4 5]]]]\n",
      "tf.Tensor(\n",
      "[[[[0 0 0]\n",
      "   [0 0 0]\n",
      "   [0 0 0]]\n",
      "\n",
      "  [[0 0 0]\n",
      "   [1 2 3]\n",
      "   [0 0 0]]\n",
      "\n",
      "  [[0 0 0]\n",
      "   [0 0 0]\n",
      "   [0 0 0]]]], shape=(1, 3, 3, 3), dtype=int32)\n",
      "(1, 1, 1, 3)\n",
      "\n",
      "\n",
      "tf.Tensor(\n",
      "[[[[0 0]\n",
      "   [0 0]\n",
      "   [0 0]\n",
      "   [0 0]\n",
      "   [0 0]]\n",
      "\n",
      "  [[0 0]\n",
      "   [0 1]\n",
      "   [2 3]\n",
      "   [4 5]\n",
      "   [0 0]]\n",
      "\n",
      "  [[0 0]\n",
      "   [0 0]\n",
      "   [0 0]\n",
      "   [0 0]\n",
      "   [0 0]]]], shape=(1, 3, 5, 2), dtype=int32)\n",
      "(1, 1, 3, 2)\n",
      "4\n"
     ]
    }
   ],
   "source": [
    "a = np.array([[[[1, 2, 3]]]])\n",
    "x = np.array([[[[0, 1],[2, 3],[4, 5]]]])\n",
    "print(a)\n",
    "print(x)\n",
    "\n",
    "b = ZeroPadding2D(padding=((1, 1), (1, 1)))(a)\n",
    "c = ZeroPadding2D(padding=((1, 1), (1, 1)))(x)\n",
    "print(b)\n",
    "print(np.shape(a))\n",
    "print('\\n')\n",
    "print(c)\n",
    "print(np.shape(x))\n",
    "print(np.size(np.shape(x)))"
   ]
  },
  {
   "cell_type": "code",
   "execution_count": 56,
   "id": "b8a74799-5df6-4b58-8a9f-2dc5584acb1f",
   "metadata": {
    "scrolled": true
   },
   "outputs": [
    {
     "name": "stdout",
     "output_type": "stream",
     "text": [
      "tf.Tensor(\n",
      "[[[[0 0]\n",
      "   [0 0]\n",
      "   [0 0]\n",
      "   [0 0]]\n",
      "\n",
      "  [[0 0]\n",
      "   [1 1]\n",
      "   [1 1]\n",
      "   [0 0]]\n",
      "\n",
      "  [[0 0]\n",
      "   [2 2]\n",
      "   [2 2]\n",
      "   [0 0]]\n",
      "\n",
      "  [[0 0]\n",
      "   [0 0]\n",
      "   [0 0]\n",
      "   [0 0]]]\n",
      "\n",
      "\n",
      " [[[0 0]\n",
      "   [0 0]\n",
      "   [0 0]\n",
      "   [0 0]]\n",
      "\n",
      "  [[0 0]\n",
      "   [3 3]\n",
      "   [3 3]\n",
      "   [0 0]]\n",
      "\n",
      "  [[0 0]\n",
      "   [4 4]\n",
      "   [4 4]\n",
      "   [0 0]]\n",
      "\n",
      "  [[0 0]\n",
      "   [0 0]\n",
      "   [0 0]\n",
      "   [0 0]]]], shape=(2, 4, 4, 2), dtype=int32)\n",
      "(2, 2, 2, 2)\n"
     ]
    }
   ],
   "source": [
    "a = np.array([ [[[1,1],[1,1]],[[2,2],[2,2]]], [[[3,3],[3,3]],[[4,4],[4,4]]] ])\n",
    "b = ZeroPadding2D(padding=((1,1),(1,1)))(a)\n",
    "print(b)\n",
    "print(np.shape(a))\n"
   ]
  },
  {
   "cell_type": "code",
   "execution_count": 155,
   "id": "99c49cde-edba-4026-9181-e0b18c80c203",
   "metadata": {},
   "outputs": [
    {
     "name": "stdout",
     "output_type": "stream",
     "text": [
      "[[[[0 1 2]\n",
      "   [3 4 5]]]]\n",
      "(1, 1, 2, 3)\n",
      "(1, 3, 4, 3)\n",
      "[[[[0 1 2]\n",
      "   [3 4 5]\n",
      "   [0 1 2]\n",
      "   [3 4 5]]\n",
      "\n",
      "  [[0 1 2]\n",
      "   [3 4 5]\n",
      "   [0 1 2]\n",
      "   [3 4 5]]\n",
      "\n",
      "  [[0 1 2]\n",
      "   [3 4 5]\n",
      "   [0 1 2]\n",
      "   [3 4 5]]]]\n",
      "i: 0 \n",
      "len: 3 \n",
      "padd: 1\n",
      "\n",
      "[[[[0 0 0]\n",
      "   [0 0 0]\n",
      "   [0 0 0]\n",
      "   [0 0 0]]\n",
      "\n",
      "  [[0 0 0]\n",
      "   [3 4 5]\n",
      "   [0 1 2]\n",
      "   [0 0 0]]\n",
      "\n",
      "  [[0 0 0]\n",
      "   [0 0 0]\n",
      "   [0 0 0]\n",
      "   [0 0 0]]]]\n",
      "(1, 3, 4, 3)\n"
     ]
    }
   ],
   "source": [
    "zer = np.array([[[[0, 1, 2]]]])\n",
    "zer = np.array([[[[0, 1, 2], [3, 4, 5]]]])\n",
    "print(zer)\n",
    "sh = np.shape(zer)\n",
    "print(sh)\n",
    "\n",
    "padding_input = ((1, 1),(1, 1))\n",
    "if isinstance(padding_input, int):\n",
    "    padding_input = ((padding_input, padding_input),(padding_input, padding_input))\n",
    "if hasattr(padding_input, '__len__'):\n",
    "    if len(padding_input) == 2:\n",
    "        zer = np.resize(zer, (sh[0], sh[1] + sum(padding_input[0]), sh[2] + sum(padding_input[1]), sh[3]))\n",
    "        resh = np.shape(zer)\n",
    "        print(resh)\n",
    "        print(zer)\n",
    "        nums = np.copy(zer[0][0][0])\n",
    "    else:\n",
    "        print(f\"`padding` should have two elements. Received: {padding}.\")\n",
    "for i in range(padding_input[0][0]):\n",
    "    zer[0][i] = np.zeros(sh[1])\n",
    "for i in range(padding_input[0][1]):\n",
    "    print(f'i: {i} \\nlen: {len(zer[0])} \\npadd: {padding_input[0][1]}')\n",
    "    zer[0][len(zer[0]) - i - 1] = np.zeros(sh[1])\n",
    "\n",
    "for i in range(padding_input[1][0]):\n",
    "    zer[0][1][i] = np.zeros(sh[3])\n",
    "for i in range(padding_input[1][1]):\n",
    "    zer[0][1][len(zer[0][1]) - i - 1] = np.zeros(sh[3])\n",
    "\n",
    "print(f'\\n{zer}\\n{np.shape(zer)}')\n",
    "\n",
    "# print(f'{np.shape(np.array([[1]]))} {np.shape(np.array([[1], [1]]))}')"
   ]
  },
  {
   "cell_type": "code",
   "execution_count": 140,
   "id": "f5ed20ce-1e13-4171-b0ea-6f6e5c0c4094",
   "metadata": {},
   "outputs": [
    {
     "name": "stdout",
     "output_type": "stream",
     "text": [
      "tf.Tensor(\n",
      "[[[[0 0 0]\n",
      "   [0 0 0]\n",
      "   [0 0 0]\n",
      "   [0 0 0]]\n",
      "\n",
      "  [[0 0 0]\n",
      "   [0 1 2]\n",
      "   [3 4 5]\n",
      "   [0 0 0]]\n",
      "\n",
      "  [[0 0 0]\n",
      "   [0 0 0]\n",
      "   [0 0 0]\n",
      "   [0 0 0]]]], shape=(1, 3, 4, 3), dtype=int32)\n"
     ]
    }
   ],
   "source": [
    "zer = np.array([[[[0, 1, 2]]]])\n",
    "zer = np.array([[[[0, 1, 2], [3, 4, 5]]]])\n",
    "print(ZeroPadding2D(1)(zer))"
   ]
  },
  {
   "cell_type": "code",
   "execution_count": 336,
   "id": "b5367168-4216-46b8-9155-ff86b354bcfa",
   "metadata": {},
   "outputs": [
    {
     "name": "stdout",
     "output_type": "stream",
     "text": [
      "[[[[1.1]\n",
      "   [2.2]]]]\n",
      "[[0.  0. ]\n",
      " [0.  0. ]\n",
      " [1.1 2.2]\n",
      " [0.  0. ]\n",
      " [0.  0. ]]\n"
     ]
    }
   ],
   "source": [
    "t = np.array([[[[1.1],[2.2]]]])\n",
    "print(t)\n",
    "# t_new = np.reshape(t, 2)\n",
    "t_new = t.reshape(-1)\n",
    "zero = np.zeros((2, 2))\n",
    "np.size(t)\n",
    "# new_arr = np.reshape(np.zeros(np.size(t)*3),(3,2))\n",
    "new_arr = np.zeros((2, 2))\n",
    "print(np.vstack((new_arr, t_new, new_arr)))"
   ]
  },
  {
   "cell_type": "code",
   "execution_count": 3,
   "id": "5f3b0971-a9c2-4033-bfd9-b76242c1a71c",
   "metadata": {},
   "outputs": [
    {
     "name": "stdout",
     "output_type": "stream",
     "text": [
      "[[[[0. 0.]\n",
      "   [0. 0.]\n",
      "   [0. 0.]\n",
      "   [0. 0.]]\n",
      "\n",
      "  [[0. 0.]\n",
      "   [0. 1.]\n",
      "   [2. 3.]\n",
      "   [0. 0.]]\n",
      "\n",
      "  [[0. 0.]\n",
      "   [0. 0.]\n",
      "   [0. 0.]\n",
      "   [0. 0.]]]] (1, 3, 4, 2)\n"
     ]
    }
   ],
   "source": [
    "#def zero_padding()\n",
    "\n",
    "import numpy as np\n",
    "\n",
    "def zero_padding(padding, a):\n",
    "    if isinstance(padding, int):\n",
    "        padding = ((padding, padding),(padding, padding))\n",
    "    if hasattr(padding, '__len__') and not len(padding) == 2:\n",
    "        print(f\"`padding` should have two elements. Received: {padding}.\")\n",
    "        return -1\n",
    "    a_shape = np.shape(a)\n",
    "    a_size = np.size(a_shape)\n",
    "    if not a_size == 4:\n",
    "        a = np.reshape(a, tuple(np.ones(4 - np.size(a_shape), dtype=int)) + a_shape)\n",
    "    a_shape = np.shape(a)\n",
    "    elem_size = a_shape[-1]\n",
    "    \n",
    "    for i in range(a_shape[0]):\n",
    "        a_i = a[i]\n",
    "        a_vs = np.vstack((np.zeros((padding[1][0], elem_size)), a_i[0], np.zeros((padding[1][1], elem_size))))\n",
    "        a_i = np.reshape(a_vs, tuple(np.ones(4 - np.size(np.shape(a_vs)), dtype=int)) + np.shape(a_vs))\n",
    "        a_vs = np.vstack((np.zeros((tuple([padding[0][0]]) + np.shape(a_i)[2:])), a_i[0], np.zeros((tuple([padding[0][1]]) + np.shape(a_i)[2:]))))\n",
    "        a_i = np.reshape(a_vs, tuple(np.ones(4 - np.size(np.shape(a_vs)), dtype=int)) + np.shape(a_vs))\n",
    "        if i == 0:\n",
    "            a_res = np.reshape(np.vstack(a_i), tuple(np.ones(4 - np.size(np.shape(np.vstack(a_i))), dtype=int)) + np.shape(np.vstack(a_i)))\n",
    "        else:\n",
    "            a_res = np.reshape(np.vstack((a_res, a_i)), tuple(np.ones(4 - np.size(np.shape(np.vstack((a_res, a_i)))), dtype=int)) + np.shape(np.vstack((a_res, a_i))))\n",
    "    return a_res\n",
    "\n",
    "a = zero_padding(1, np.array([[0, 1],[2,3]]))\n",
    "print(a, np.shape(a))"
   ]
  },
  {
   "cell_type": "code",
   "execution_count": 12,
   "id": "20d48a0c-5736-4dfd-acd6-d51c3b870c49",
   "metadata": {},
   "outputs": [],
   "source": [
    "\n",
    "# a = np.insert(a, 0, np.zeros(np.shape(a[0])), axis=0)\n",
    "# print(np.zeros(np.size(a[0])))\n",
    "\n",
    "\n",
    "# a_insert = np.insert(a[0][0], np.shape(a[0][0][0]), np.zeros(np.shape(a[0][0][0])), axis=0)\n",
    "# a_insert = np.insert(a_insert, 0, np.zeros(np.shape(a_insert[0])), axis=0)\n",
    "\n",
    "# a = np.reshape(a_insert, tuple(np.ones(4 - np.size(np.shape(a_insert)), dtype=int)) + np.shape(a_insert))\n",
    "# print(f'\\n{a} shape:{np.shape(a)}')\n",
    "\n",
    "# print(np.shape(a_vs))"
   ]
  },
  {
   "cell_type": "code",
   "execution_count": 289,
   "id": "ced218ab-9d87-4d18-96b1-33ee20773503",
   "metadata": {},
   "outputs": [
    {
     "name": "stdout",
     "output_type": "stream",
     "text": [
      "2\n"
     ]
    },
    {
     "data": {
      "text/plain": [
       "array([[[[1, 1],\n",
       "         [2, 2]]]])"
      ]
     },
     "execution_count": 289,
     "metadata": {},
     "output_type": "execute_result"
    }
   ],
   "source": [
    "t_a = np.array([[1, 1], [2, 2]])\n",
    "test_shape = np.shape(t_a)\n",
    "print(np.size(test_shape))\n",
    "test_size = np.size(np.shape(t_a))\n",
    "if not test_size == 4:\n",
    "    t_a = np.reshape(t_a, tuple(np.ones(4 - test_size, dtype=int)) + test_shape)\n",
    "# t_a = np.reshape(t_a, (1,1,2,2))\n",
    "t_a"
   ]
  },
  {
   "cell_type": "code",
   "execution_count": 377,
   "id": "013dd2c3-0bca-4964-a7ab-f35e3c4db310",
   "metadata": {},
   "outputs": [
    {
     "data": {
      "text/plain": [
       "(1.0, 1.0, 1.0)"
      ]
     },
     "execution_count": 377,
     "metadata": {},
     "output_type": "execute_result"
    }
   ],
   "source": [
    "a = (1,1) + (2,2)\n",
    "a\n",
    "tuple(np.ones(3))\n",
    "# tuple(1)"
   ]
  },
  {
   "cell_type": "code",
   "execution_count": 233,
   "id": "209b7562-8b95-4dea-974d-062c5062d774",
   "metadata": {},
   "outputs": [
    {
     "name": "stdout",
     "output_type": "stream",
     "text": [
      "(1, 1, 2, 1)\n",
      "[[[0.]\n",
      "  [0.]\n",
      "  [0.]\n",
      "  [0.]]\n",
      "\n",
      " [[0.]\n",
      "  [1.]\n",
      "  [2.]\n",
      "  [0.]]\n",
      "\n",
      " [[0.]\n",
      "  [0.]\n",
      "  [0.]\n",
      "  [0.]]]\n"
     ]
    }
   ],
   "source": [
    "print(np.shape(t))\n",
    "zer_4_1 = np.zeros((1,z_sh[2],z_sh[3]))\n",
    "# print(zer_4_1)\n",
    "print(np.vstack((zer_4_1, np.array([[[0],[1],[2],[0]]]), zer_4_1)))"
   ]
  },
  {
   "cell_type": "code",
   "execution_count": 222,
   "id": "2197bc9a-9577-490e-b45a-64a8fe424de3",
   "metadata": {},
   "outputs": [
    {
     "data": {
      "text/plain": [
       "(1, 3, 4, 1)"
      ]
     },
     "execution_count": 222,
     "metadata": {},
     "output_type": "execute_result"
    }
   ],
   "source": [
    "z_sh = np.shape(np.array(ZeroPadding2D(1)(t)))\n",
    "z_sh"
   ]
  },
  {
   "cell_type": "code",
   "execution_count": 9,
   "id": "03f03a58-cb07-4860-a9ab-7e88fa8b963b",
   "metadata": {},
   "outputs": [
    {
     "name": "stdout",
     "output_type": "stream",
     "text": [
      "(2, 1, 2, 2)\n"
     ]
    },
    {
     "data": {
      "text/plain": [
       "<tf.Tensor: shape=(2, 3, 4, 2), dtype=int32, numpy=\n",
       "array([[[[0, 0],\n",
       "         [0, 0],\n",
       "         [0, 0],\n",
       "         [0, 0]],\n",
       "\n",
       "        [[0, 0],\n",
       "         [1, 1],\n",
       "         [2, 2],\n",
       "         [0, 0]],\n",
       "\n",
       "        [[0, 0],\n",
       "         [0, 0],\n",
       "         [0, 0],\n",
       "         [0, 0]]],\n",
       "\n",
       "\n",
       "       [[[0, 0],\n",
       "         [0, 0],\n",
       "         [0, 0],\n",
       "         [0, 0]],\n",
       "\n",
       "        [[0, 0],\n",
       "         [1, 1],\n",
       "         [2, 2],\n",
       "         [0, 0]],\n",
       "\n",
       "        [[0, 0],\n",
       "         [0, 0],\n",
       "         [0, 0],\n",
       "         [0, 0]]]])>"
      ]
     },
     "execution_count": 9,
     "metadata": {},
     "output_type": "execute_result"
    }
   ],
   "source": [
    "# print(datetime.now())\n",
    "arr = np.array([[[[1, 1], [2, 2]]], [[[1, 1], [2, 2]]]])\n",
    "print(np.shape(arr))\n",
    "ZeroPadding2D(1)(arr)\n",
    "# print(datetime.now())"
   ]
  }
 ],
 "metadata": {
  "kernelspec": {
   "display_name": "Python 3 (ipykernel)",
   "language": "python",
   "name": "python3"
  },
  "language_info": {
   "codemirror_mode": {
    "name": "ipython",
    "version": 3
   },
   "file_extension": ".py",
   "mimetype": "text/x-python",
   "name": "python",
   "nbconvert_exporter": "python",
   "pygments_lexer": "ipython3",
   "version": "3.11.5"
  }
 },
 "nbformat": 4,
 "nbformat_minor": 5
}
