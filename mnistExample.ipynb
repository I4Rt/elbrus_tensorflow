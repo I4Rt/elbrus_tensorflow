{
 "cells": [
  {
   "cell_type": "code",
   "execution_count": null,
   "metadata": {},
   "outputs": [],
   "source": []
  },
  {
   "cell_type": "code",
   "execution_count": 2,
   "metadata": {},
   "outputs": [],
   "source": [
    "import numpy as np\n",
    "\n",
    "from model.Sequential import Sequential\n",
    "from model.layers.Dense import Dense\n",
    "from model.actiators.functional import *\n",
    "from model.tools.OneHotEncoderTools import OneHotEncoderTools\n",
    "\n"
   ]
  },
  {
   "cell_type": "code",
   "execution_count": 3,
   "metadata": {},
   "outputs": [
    {
     "name": "stdout",
     "output_type": "stream",
     "text": [
      "reed\n"
     ]
    }
   ],
   "source": [
    "data = np.genfromtxt(\"datasets/train_mnist.csv\", delimiter=\",\")\n",
    "print('reed')\n"
   ]
  },
  {
   "cell_type": "code",
   "execution_count": 4,
   "metadata": {},
   "outputs": [
    {
     "name": "stdout",
     "output_type": "stream",
     "text": [
      "prepared\n",
      "785\n"
     ]
    }
   ],
   "source": [
    "dataset = []\n",
    "raw_pyhton_dataset = []\n",
    "\n",
    "for row in data[1:]:\n",
    "    data_row = [int(row[i])/256 for i in range(1, len(row))]\n",
    "    data_row.append(int(row[0]))\n",
    "    \n",
    "    raw_pyhton_dataset.append(data_row)\n",
    "print('prepared') \n",
    "print(len(raw_pyhton_dataset[0]))"
   ]
  },
  {
   "cell_type": "code",
   "execution_count": 5,
   "metadata": {},
   "outputs": [
    {
     "name": "stdout",
     "output_type": "stream",
     "text": [
      "[0. 1. 0. 0. 0. 0. 0. 0. 0. 0.] [1. 0. 0. 0. 0. 0. 0. 0. 0. 0.] [0. 1. 0. 0. 0. 0. 0. 0. 0. 0.] [0. 0. 0. 0. 1. 0. 0. 0. 0. 0.] [1. 0. 0. 0. 0. 0. 0. 0. 0. 0.]\n"
     ]
    }
   ],
   "source": [
    "for i in range(len(raw_pyhton_dataset)):\n",
    "    row = raw_pyhton_dataset[i]\n",
    "    data = OneHotEncoderTools.to_full(row[-1] + 1, 10)    \n",
    "    dataset_row = [np.array([row[:-1]]),  np.array(data)]\n",
    "    dataset.append( dataset_row )\n",
    "\n",
    "\n",
    "\n",
    "\n",
    "train_dataset = dataset[:-len(dataset)//10:1]\n",
    "test_dataset = dataset[-len(dataset)//10::1]\n",
    "\n",
    "print(train_dataset[0][1],train_dataset[1][1],train_dataset[2][1],train_dataset[3][1],train_dataset[4][1])"
   ]
  },
  {
   "cell_type": "code",
   "execution_count": 6,
   "metadata": {},
   "outputs": [
    {
     "name": "stdout",
     "output_type": "stream",
     "text": [
      "crossentropy\n",
      "Progress: |██████████████████████████████████████████████████| 100.0% Complete | 5.133 sec/era\n",
      "0.9635714285714285\n"
     ]
    }
   ],
   "source": [
    "model = Sequential('adam', [Dense(64, 'relu', input_shape=784), Dense(10, 'softmax')], ALPHA=0.001)\n",
    "loss_arr, accuracy_arr = model.fit(train_dataset, need_calculate_loss=False, need_calculate_accuracy=True, num_epochs=20, batch_size=512)\n",
    "print(model.calc_accuracy(test_dataset))"
   ]
  },
  {
   "cell_type": "code",
   "execution_count": 7,
   "metadata": {},
   "outputs": [
    {
     "data": {
      "image/png": "[encoded data removed]",
      "text/plain": [
       "<Figure size 640x480 with 1 Axes>"
      ]
     },
     "metadata": {},
     "output_type": "display_data"
    }
   ],
   "source": [
    "import matplotlib.pyplot as plt\n",
    "plt.plot(loss_arr, label=r'$loss func$')\n",
    "plt.plot(accuracy_arr, label=r'$accuracy$')    \n",
    "plt.legend(fontsize=16)\n",
    "plt.minorticks_on()\n",
    "plt.title('Процесс обучения на \"MNIST\"')\n",
    "\n",
    "plt.show()"
   ]
  },
  {
   "cell_type": "code",
   "execution_count": 73,
   "metadata": {},
   "outputs": [],
   "source": [
    "import cv2\n",
    "import numpy as np\n",
    "data = cv2.imread('images/3.png', cv2.IMREAD_GRAYSCALE)\n",
    "data = cv2.bitwise_not(data)\n",
    "# cv2.imshow('seven', data)\n",
    "# cv2.waitKey(0) \n",
    "# cv2.destroyWindow()\n"
   ]
  },
  {
   "cell_type": "code",
   "execution_count": 74,
   "metadata": {},
   "outputs": [
    {
     "name": "stdout",
     "output_type": "stream",
     "text": [
      "784\n"
     ]
    }
   ],
   "source": [
    "data = data/256\n",
    "\n",
    "\n",
    "input_data = [i for j in data for i in j]\n",
    "\n",
    "print(len(input_data))"
   ]
  },
  {
   "cell_type": "code",
   "execution_count": 75,
   "metadata": {},
   "outputs": [
    {
     "data": {
      "text/plain": [
       "3"
      ]
     },
     "execution_count": 75,
     "metadata": {},
     "output_type": "execute_result"
    }
   ],
   "source": [
    "np.argmax(model.predict(np.array([input_data])))"
   ]
  }
 ],
 "metadata": {
  "kernelspec": {
   "display_name": "Python 3",
   "language": "python",
   "name": "python3"
  },
  "language_info": {
   "codemirror_mode": {
    "name": "ipython",
    "version": 3
   },
   "file_extension": ".py",
   "mimetype": "text/x-python",
   "name": "python",
   "nbconvert_exporter": "python",
   "pygments_lexer": "ipython3",
   "version": "3.11.3"
  }
 },
 "nbformat": 4,
 "nbformat_minor": 2
}
